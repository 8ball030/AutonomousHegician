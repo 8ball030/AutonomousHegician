{
 "cells": [
  {
   "cell_type": "markdown",
   "metadata": {},
   "source": [
    "# The purpose of this workbook is to show the tests cases executed\n"
   ]
  },
  {
   "cell_type": "markdown",
   "metadata": {},
   "source": [
    "[Contract Reference from David](https://github.com/fetchai/agents-aea/blob/10bc452827487403d65c6c4bc6b3ad985c269997/docs/contract.md)"
   ]
  },
  {
   "cell_type": "markdown",
   "metadata": {},
   "source": [
    "# Understanding of The flow\n",
    "\n",
    "The ledger API connection skill handles the [ContractApiMessage]() object\n",
    "\n",
    "The [Contract](https://github.com/fetchai/agents-aea/blob/10bc452827487403d65c6c4bc6b3ad985c269997/aea/contracts/base.py)\n",
    "class handles the ContractAPIMessage. \n",
    "\n",
    "The contract class we implement within the AEA contract.py  file within the contract class of the AEA inheirts from this object, so we therefore have all of its available methods\n",
    "\n",
    "Based on the referenced documentation, we would need to impl"
   ]
  },
  {
   "cell_type": "code",
   "execution_count": null,
   "metadata": {},
   "outputs": [],
   "source": []
  },
  {
   "cell_type": "markdown",
   "metadata": {},
   "source": [
    "Contract API Message - The contract API message we must base our message on is of the RAW_TRANSACTION_TYPE\n",
    "\n",
    "\n",
    "```\n",
    "contract_api_msg = ContractApiMessage(\n",
    "    performative=ContractApiMessage.Performative.GET_RAW_TRANSACTION,\n",
    "    dialogue_reference=contract_api_dialogues.new_self_initiated_dialogue_reference(),\n",
    "    ledger_id=strategy.ledger_id,\n",
    "    contract_id=\"fetchai/erc1155:0.9.0\",\n",
    "    contract_address=strategy.contract_address,\n",
    "    callable=\"get_create_batch_transaction\",\n",
    "    kwargs=ContractApiMessage.Kwargs(\n",
    "        {\n",
    "            \"deployer_address\": self.context.agent_address,\n",
    "            \"token_ids\": strategy.token_ids,\n",
    "        }\n",
    "    ),\n",
    ")\n",
    "```\n",
    "Our object must therefore look like this;\n"
   ]
  },
  {
   "cell_type": "markdown",
   "metadata": {},
   "source": [
    "```\n",
    "contract_api_msg = ContractApiMessage(\n",
    "    performative=ContractApiMessage.Performative.GET_RAW_TRANSACTION,\n",
    "    dialogue_reference=contract_api_dialogues.new_self_initiated_dialogue_reference(),\n",
    "    ledger_id=strategy.ledger_id,\n",
    "    contract_id=\"tomrae/ethpool:0.1.0\",\n",
    "    contract_address=self.context.strategy.deployment_status[\"ethpool\"][1], \n",
    "    callable=\"provide_liquidity\",\n",
    "    kwargs=ContractApiMessage.Kwargs(\n",
    "        {\n",
    "            \"deployer_address\": self.context.agent_address,\n",
    "            \"amount\": 10000,\n",
    "        }\n",
    "    ),\n",
    ")\n",
    "```\n",
    "note I have cross referenced this address, \n",
    "so I know that the agent is correctly deploying the \n",
    "transactions as this address matches the address displayed on ganache CLI, under contract address"
   ]
  },
  {
   "cell_type": "code",
   "execution_count": 4,
   "metadata": {},
   "outputs": [],
   "source": [
    "# Now, this will get passed to the provide liquidity function of my own contract.py"
   ]
  },
  {
   "cell_type": "code",
   "execution_count": null,
   "metadata": {},
   "outputs": [],
   "source": [
    "    @classmethod\n",
    "    def provide_liquidity(\n",
    "            cls,\n",
    "            ledger_api: LedgerApi,\n",
    "            contract_address: Address,\n",
    "            deployer_address: Address,\n",
    "            amount: int,\n",
    "            gas: int = 60000000,\n",
    "    ) -> Dict[str, Any]:\n",
    "        \"\"\"\n",
    "        Get the transaction to create a batch of tokens.\n",
    "\n",
    "        :param ledger_api: the ledger API\n",
    "        :param deployer_address: the address of the deployer\n",
    "        :param amount: the arguments\n",
    "        :param gas: the gas to be used\n",
    "        :return: the transaction object\n",
    "        \"\"\"\n",
    "        logger.info(f\"******************************** just about to creat contract {deployer_address} type {type(deployer_address)}\")\n",
    "        nonce = ledger_api.api.eth.getTransactionCount(deployer_address)\n",
    "        instance = cls.get_instance(ledger_api, contract_address)\n",
    "        logger.info(f\"************instance created:\")\n",
    "        tx = instance.functions.provide(amount).buildTransaction({\n",
    "            \"gas\": gas,\n",
    "            \"gasPrice\":ledger_api.api.toWei(\"50\", \"gwei\"),\n",
    "            \"nonce\": nonce,\n",
    "        })\n",
    "        logger.info(f\"************tx created:\")\n",
    "        tx = cls._try_estimate_gas(ledger_api, tx)\n",
    "        logger.info(f\"************ gas estimated:\")\n",
    "\n",
    "        return tx  #return #"
   ]
  },
  {
   "cell_type": "code",
   "execution_count": 5,
   "metadata": {},
   "outputs": [],
   "source": [
    "# Using the existing method from the erc1155 contract as inspiration, "
   ]
  },
  {
   "cell_type": "code",
   "execution_count": null,
   "metadata": {},
   "outputs": [],
   "source": [
    "# This is based on the following method\n",
    "   @classmethod\n",
    "    def get_create_batch_transaction(\n",
    "        cls,\n",
    "        ledger_api: LedgerApi,\n",
    "        contract_address: Address,\n",
    "        deployer_address: Address,\n",
    "        token_ids: List[int],\n",
    "        data: Optional[bytes] = b\"\",\n",
    "        gas: int = 300000,\n",
    "    ) -> Dict[str, Any]:\n",
    "        \"\"\"\n",
    "        Get the transaction to create a batch of tokens.\n",
    "        :param ledger_api: the ledger API\n",
    "        :param contract_address: the address of the contract\n",
    "        :param deployer_address: the address of the deployer\n",
    "        :param token_ids: the list of token ids for creation\n",
    "        :param data: the data to include in the transaction\n",
    "        :param gas: the gas to be used\n",
    "        :return: the transaction object\n",
    "        \"\"\"\n",
    "        # create the transaction dict\n",
    "        nonce = ledger_api.api.eth.getTransactionCount(deployer_address)\n",
    "        instance = cls.get_instance(ledger_api, contract_address)\n",
    "        tx = instance.functions.createBatch(\n",
    "            deployer_address, token_ids\n",
    "        ).buildTransaction(\n",
    "            {\n",
    "                \"gas\": gas,\n",
    "                \"gasPrice\": ledger_api.api.toWei(\"50\", \"gwei\"),\n",
    "                \"nonce\": nonce,\n",
    "            }\n",
    "        )\n",
    "        tx = cls._try_estimate_gas(ledger_api, tx)\n",
    "        return tx"
   ]
  },
  {
   "cell_type": "markdown",
   "metadata": {},
   "source": [
    "Which fails with\n",
    "\n",
    "```\n",
    "INFO:aea.packages.tomrae.skills.option_monitoring:[autonomous_hegician] requesting provide liquidity transaction...\n",
    "info: ******* Just about to get nonce for 0xD9EEA0deAC1cf2Ae88Cb2E9fBfa0De8A61F9CF7C type <class 'str'>\n",
    "INFO:aea.packages.fetchai.contracts.ethpool:******* Just about to get nonce for 0xD9EEA0deAC1cf2Ae88Cb2E9fBfa0De8A61F9CF7C type <class 'str'>\n",
    "info: [autonomous_hegician] Monitoring 4 orders for execution.\n",
    "INFO:aea.packages.tomrae.skills.option_monitoring:[autonomous_hegician] Monitoring 4 orders for execution.\n",
    "info: ******* Just about to get instance \n",
    "INFO:aea.packages.fetchai.contracts.ethpool:******* Just about to get instance \n",
    "error: [autonomous_hegician] An error occurred while processing the contract api request: '('Web3.py only accepts checksum addresses. The software that gave you this non-checksum address should be considered unsafe, please file it as a bug on their platform. Try using an ENS name instead. Or, if you must accept lower safety, use Web3.toChecksumAddress(lower_case_address).', '0x1b027efaabf20c82886f988da9e3595bed37687e')'.\n",
    "ERROR:aea.packages.fetchai.connections.ledger:[autonomous_hegician] An error occurred while processing the contract api request: '('Web3.py only accepts checksum addresses. The software that gave you this non-checksum address should be considered unsafe, please file it as a bug on their platform. Try using an ENS name instead. Or, if you must accept lower safety, use Web3.toChecksumAddress(lower_case_address).', '0x1b027efaabf20c82886f988da9e3595bed37687e')'.\n",
    "info: [autonomous_hegician] Current Rate : 384.28\n",
    "INFO:aea.packages.tomrae.skills.option_monitoring:[autonomous_hegician] Current Rate : 384.28\n",
    "info: [autonomous_hegician] received ledger_api error message=Message(dialogue_reference=('10dde1696fb8616105a1c6b5d4390159b14ea8adeb623e7e7015762e57ec60b9', '32c6aeabe4c2298c1b98c726f81f562c5a2e9fea1dfd30f5c796a182fbee84a9') message_id=2 target=1 performative=error code=500 message=('Web3.py only accepts checksum addresses. The software that gave you this non-checksum address should be considered unsafe, please file it as a bug on their platform. Try using an ENS name instead. Or, if you must accept lower safety, use Web3.toChecksumAddress(lower_case_address).', '0x1b027efaabf20c82886f988da9e3595bed37687e') data=b'') in dialogue=Dialogue Label: 10dde1696fb8616105a1c6b5d4390159b14ea8adeb623e7e7015762e57ec60b9_32c6aeabe4c2298c1b98c726f81f562c5a2e9fea1dfd30f5c796a182fbee84a9_fetchai/ledger:0.3.0_0xD9EEA0deAC1cf2Ae88Cb2E9fBfa0De8A61F9CF7C\n",
    "info: get_raw_transaction( )\n",
    "info: error( ).\n",
    "INFO:aea.packages.tomrae.skills.option_monitoring:[autonomous_hegician] received ledger_api error message=Message(dialogue_reference=('10dde1696fb8616105a1c6b5d4390159b14ea8adeb623e7e7015762e57ec60b9', '32c6aeabe4c2298c1b98c726f81f562c5a2e9fea1dfd30f5c796a182fbee84a9') message_id=2 target=1 performative=error code=500 message=('Web3.py only accepts checksum addresses. The software that gave you this non-checksum address should be considered unsafe, please file it as a bug on their platform. Try using an ENS name instead. Or, if you must accept lower safety, use Web3.toChecksumAddress(lower_case_address).', '0x1b027efaabf20c82886f988da9e3595bed37687e') data=b'') in dialogue=Dialogue Label: 10dde1696fb8616105a1c6b5d4390159b14ea8adeb623e7e7015762e57ec60b9_32c6aeabe4c2298c1b98c726f81f562c5a2e9fea1dfd30f5c796a182fbee84a9_fetchai/ledger:0.3.0_0xD9EEA0deAC1cf2Ae88Cb2E9fBfa0De8A61F9CF7C\n",
    "get_raw_transaction( )\n",
    "error( ).\n",
    "```"
   ]
  },
  {
   "cell_type": "code",
   "execution_count": 7,
   "metadata": {},
   "outputs": [],
   "source": [
    "# /\\ this suggests that the deployer address is ok as the nonce is calculated, yet for some reason the Contract address is NOT!\n"
   ]
  },
  {
   "cell_type": "code",
   "execution_count": 15,
   "metadata": {},
   "outputs": [
    {
     "name": "stdout",
     "output_type": "stream",
     "text": [
      "/home/tom/Desktop/Medium\n"
     ]
    }
   ],
   "source": [
    "cp defi_cefi_bridge/tontine/hedge-contracts-v1/con"
   ]
  },
  {
   "cell_type": "code",
   "execution_count": 11,
   "metadata": {},
   "outputs": [
    {
     "data": {
      "text/plain": [
       "\"\\ninfo: [autonomous_hegician] requesting provide liquidity transaction...\\nINFO:aea.packages.tomrae.skills.option_monitoring:[autonomous_hegician] requesting provide liquidity transaction...\\ninfo: ******* Just about to get nonce for 0xD9EEA0deAC1cf2Ae88Cb2E9fBfa0De8A61F9CF7C type <class 'str'>\\nINFO:aea.packages.fetchai.contracts.ethpool:******* Just about to get nonce for 0xD9EEA0deAC1cf2Ae88Cb2E9fBfa0De8A61F9CF7C type <class 'str'>\\ninfo: ******* Just about to get instance \\nINFO:aea.packages.fetchai.contracts.ethpool:******* Just about to get instance \\ninfo: ************instance created:\\nINFO:aea.packages.fetchai.contracts.ethpool:************instance created:\\nerror: [autonomous_hegician] An error occurred while processing the contract api request: ''name''.\\nERROR:aea.packages.fetchai.connections.ledger:[autonomous_hegician] An error occurred while processing the contract api request: ''name''.\\ninfo: [autonomous_hegician] received ledger_api error message=Message(dialogue_reference=('6578b6b420e71ad8d649150da1bb3bc1686a712be12db544444661768d98d91b', 'bb48cab8b1e352867933c7e420dae065304fbe965bc039b0c2acbc8d2904d528') message_id=2 target=1 performative=error code=500 message='name' data=b'') in dialogue=Dialogue Label: 6578b6b420e71ad8d649150da1bb3bc1686a712be12db544444661768d98d91b_bb48cab8b1e352867933c7e420dae065304fbe965bc039b0c2acbc8d2904d528_fetchai/ledger:0.3.0_0xD9EEA0deAC1cf2Ae88Cb2E9fBfa0De8A61F9CF7C\\ninfo: get_raw_transaction( )\\ninfo: error( ).\\n\""
      ]
     },
     "execution_count": 11,
     "metadata": {},
     "output_type": "execute_result"
    }
   ],
   "source": [
    "# in order to that A), the contract address is correct and B) that the contract is getting deployed with no issues,\n",
    "\n",
    "# I restart ganache, and remove the contract address for the eth pools from the skill config. This will cause the agent to redeploy the contracts when it starts up.\n",
    "\n",
    "# note, I am reading in the json directly to deploy, (as I know it works)\n",
    "\n",
    "# Also note, when I am redeploying the agent gets further!\n",
    "# (this suggests to me that it would be helpful to show an example of the contract address being taken from the skill.yaml file\n",
    "\n",
    "# (however we still fail at the end)\n",
    "\n",
    "# with this message\n",
    "\n",
    "\"\"\"\n",
    "info: [autonomous_hegician] requesting provide liquidity transaction...\n",
    "INFO:aea.packages.tomrae.skills.option_monitoring:[autonomous_hegician] requesting provide liquidity transaction...\n",
    "info: ******* Just about to get nonce for 0xD9EEA0deAC1cf2Ae88Cb2E9fBfa0De8A61F9CF7C type <class 'str'>\n",
    "INFO:aea.packages.fetchai.contracts.ethpool:******* Just about to get nonce for 0xD9EEA0deAC1cf2Ae88Cb2E9fBfa0De8A61F9CF7C type <class 'str'>\n",
    "info: ******* Just about to get instance \n",
    "INFO:aea.packages.fetchai.contracts.ethpool:******* Just about to get instance \n",
    "info: ************instance created:\n",
    "INFO:aea.packages.fetchai.contracts.ethpool:************instance created:\n",
    "error: [autonomous_hegician] An error occurred while processing the contract api request: ''name''.\n",
    "ERROR:aea.packages.fetchai.connections.ledger:[autonomous_hegician] An error occurred while processing the contract api request: ''name''.\n",
    "info: [autonomous_hegician] received ledger_api error message=Message(dialogue_reference=('6578b6b420e71ad8d649150da1bb3bc1686a712be12db544444661768d98d91b', 'bb48cab8b1e352867933c7e420dae065304fbe965bc039b0c2acbc8d2904d528') message_id=2 target=1 performative=error code=500 message='name' data=b'') in dialogue=Dialogue Label: 6578b6b420e71ad8d649150da1bb3bc1686a712be12db544444661768d98d91b_bb48cab8b1e352867933c7e420dae065304fbe965bc039b0c2acbc8d2904d528_fetchai/ledger:0.3.0_0xD9EEA0deAC1cf2Ae88Cb2E9fBfa0De8A61F9CF7C\n",
    "info: get_raw_transaction( )\n",
    "info: error( ).\n",
    "\"\"\""
   ]
  },
  {
   "cell_type": "code",
   "execution_count": 12,
   "metadata": {},
   "outputs": [],
   "source": [
    "\n",
    "# To demonstrate using the underlyig library"
   ]
  },
  {
   "cell_type": "code",
   "execution_count": 4,
   "metadata": {},
   "outputs": [
    {
     "data": {
      "text/plain": [
       "True"
      ]
     },
     "execution_count": 4,
     "metadata": {},
     "output_type": "execute_result"
    }
   ],
   "source": [
    "from web3 import Web3\n",
    "\n",
    "w3 = Web3(Web3.HTTPProvider('http://127.0.0.1:7545'))\n",
    "w3.isConnected()"
   ]
  },
  {
   "cell_type": "code",
   "execution_count": 177,
   "metadata": {},
   "outputs": [
    {
     "name": "stdout",
     "output_type": "stream",
     "text": [
      "\u001b[0m\u001b[01;34mAutonomousHegician\u001b[0m/  Pipfile       requirements.txt\n",
      "\u001b[01;34mpackages\u001b[0m/            Pipfile.lock  TestCases.ipynb\n"
     ]
    }
   ],
   "source": [
    "ls"
   ]
  },
  {
   "cell_type": "code",
   "execution_count": 19,
   "metadata": {},
   "outputs": [
    {
     "name": "stdout",
     "output_type": "stream",
     "text": [
      "/home/tom/Desktop/Medium/fetch_playground/fetch\n"
     ]
    }
   ],
   "source": [
    "cd fetch_playground/fetch/"
   ]
  },
  {
   "cell_type": "code",
   "execution_count": 178,
   "metadata": {},
   "outputs": [],
   "source": [
    "\n",
    "import sys\n",
    "import time\n",
    "import pprint\n",
    "from web3 import Web3\n"
   ]
  },
  {
   "cell_type": "code",
   "execution_count": 179,
   "metadata": {},
   "outputs": [],
   "source": [
    "with open(\"AutonomousHegician/contracts/ethpool/build/contracts/HegicETHPool.json\", \"r\") as f:\n",
    "    import json \n",
    "    c = json.loads(f.read())\n",
    "    \n",
    "\n",
    "address = \"0x5Febf1fd482a3b525C2A3F54B21955FbD508A61B\"\n",
    "sum_add = Web3.toChecksumAddress(address)\n",
    "\n",
    "\n",
    "deployed_contract = w3.eth.contract(address=sum_add,\n",
    "                                    abi=c[\"abi\"]\n",
    "                                   )\n",
    "\n"
   ]
  },
  {
   "cell_type": "code",
   "execution_count": 180,
   "metadata": {},
   "outputs": [
    {
     "name": "stdout",
     "output_type": "stream",
     "text": [
      "Transaction receipt mined:\n",
      "{'blockHash': HexBytes('0x70bf2827fc47c87c6c1ecb6c0b9fee386af13cb3ea9425290163782cdb65c037'),\n",
      " 'blockNumber': 300,\n",
      " 'contractAddress': None,\n",
      " 'cumulativeGasUsed': 46503,\n",
      " 'from': '0xd45E8Cbb5A04C5e98CEb29d8ad9147Ee0D0F3Ec2',\n",
      " 'gasUsed': 46503,\n",
      " 'logs': [AttributeDict({'logIndex': 0, 'transactionIndex': 0, 'transactionHash': HexBytes('0xa5c21865e0c560b45cb8d5482996a6def3dfcdaaec15996de721fa3f071bdbe7'), 'blockHash': HexBytes('0x70bf2827fc47c87c6c1ecb6c0b9fee386af13cb3ea9425290163782cdb65c037'), 'blockNumber': 300, 'address': '0x5Febf1fd482a3b525C2A3F54B21955FbD508A61B', 'data': '0x0000000000000000000000000000000000000000000000000000000000bc5ea8', 'topics': [HexBytes('0xddf252ad1be2c89b69c2b068fc378daa952ba7f163c4a11628f55a4df523b3ef'), HexBytes('0x0000000000000000000000000000000000000000000000000000000000000000'), HexBytes('0x000000000000000000000000d45e8cbb5a04c5e98ceb29d8ad9147ee0d0f3ec2')], 'type': 'mined'}),\n",
      "          AttributeDict({'logIndex': 1, 'transactionIndex': 0, 'transactionHash': HexBytes('0xa5c21865e0c560b45cb8d5482996a6def3dfcdaaec15996de721fa3f071bdbe7'), 'blockHash': HexBytes('0x70bf2827fc47c87c6c1ecb6c0b9fee386af13cb3ea9425290163782cdb65c037'), 'blockNumber': 300, 'address': '0x5Febf1fd482a3b525C2A3F54B21955FbD508A61B', 'data': '0x00000000000000000000000000000000000000000000000000000000000030390000000000000000000000000000000000000000000000000000000000bc5ea8', 'topics': [HexBytes('0x4089141ea5e4c16575f5ebf65f1786497ea07c175846fc7745ef8d8986a4ff65'), HexBytes('0x000000000000000000000000d45e8cbb5a04c5e98ceb29d8ad9147ee0d0f3ec2')], 'type': 'mined'})],\n",
      " 'logsBloom': HexBytes('0x00000000000000000001000000000000000000000000000000000000000000000000000000000000000000000000200000010000000000000000000000000000000000000000000000000008000000000000000000000000000000000000000000000000020000002000000000000800000000000000000000000010000000000000000000000000000000000000000000000000000000000200000000001000000000000000000000000000000000000000000000000000000000000000000000800402000000000000000000000000000000000000000000000000000020000000000000000000000040000000000000000000000000000000000000000000'),\n",
      " 'status': 1,\n",
      " 'to': '0x5Febf1fd482a3b525C2A3F54B21955FbD508A61B',\n",
      " 'transactionHash': HexBytes('0xa5c21865e0c560b45cb8d5482996a6def3dfcdaaec15996de721fa3f071bdbe7'),\n",
      " 'transactionIndex': 0}\n",
      "\n",
      "Was transaction successful?\n",
      "1\n"
     ]
    }
   ],
   "source": [
    "tx_hash = deployed_contract.functions.provide(0).transact({'to': address,\n",
    "                                                           'from': w3.eth.coinbase,\n",
    "                                                           'value': 12345})\n",
    "receipt = w3.eth.waitForTransactionReceipt(tx_hash)\n",
    "print(\"Transaction receipt mined:\")\n",
    "pprint.pprint(dict(receipt))\n",
    "print(\"\\nWas transaction successful?\")\n",
    "pprint.pprint(receipt[\"status\"])"
   ]
  },
  {
   "cell_type": "code",
   "execution_count": 195,
   "metadata": {},
   "outputs": [
    {
     "ename": "ValueError",
     "evalue": "{'message': 'VM Exception while processing transaction: revert', 'code': -32000, 'data': {'stack': 'c: VM Exception while processing transaction: revert\\n    at Function.c.fromResults (/usr/local/lib/node_modules/ganache-cli/build/ganache-core.node.cli.js:4:162210)\\n    at e.exports (/usr/local/lib/node_modules/ganache-cli/build/ganache-core.node.cli.js:39:2190055)', 'name': 'c'}}",
     "output_type": "error",
     "traceback": [
      "\u001b[0;31m---------------------------------------------------------------------------\u001b[0m",
      "\u001b[0;31mValueError\u001b[0m                                Traceback (most recent call last)",
      "\u001b[0;32m<ipython-input-195-c78732bc4199>\u001b[0m in \u001b[0;36m<module>\u001b[0;34m\u001b[0m\n\u001b[1;32m     14\u001b[0m tx_hash = deployed_contract.functions.fees(1111, 88888, 88888).transact({'to': address,\n\u001b[1;32m     15\u001b[0m                                                                           \u001b[0;34m'from'\u001b[0m\u001b[0;34m:\u001b[0m \u001b[0mw3\u001b[0m\u001b[0;34m.\u001b[0m\u001b[0meth\u001b[0m\u001b[0;34m.\u001b[0m\u001b[0mcoinbase\u001b[0m\u001b[0;34m,\u001b[0m\u001b[0;34m\u001b[0m\u001b[0;34m\u001b[0m\u001b[0m\n\u001b[0;32m---> 16\u001b[0;31m                                                                           'value': 12345})\n\u001b[0m\u001b[1;32m     17\u001b[0m \u001b[0mreceipt\u001b[0m \u001b[0;34m=\u001b[0m \u001b[0mw3\u001b[0m\u001b[0;34m.\u001b[0m\u001b[0meth\u001b[0m\u001b[0;34m.\u001b[0m\u001b[0mwaitForTransactionReceipt\u001b[0m\u001b[0;34m(\u001b[0m\u001b[0mtx_hash\u001b[0m\u001b[0;34m)\u001b[0m\u001b[0;34m\u001b[0m\u001b[0;34m\u001b[0m\u001b[0m\n\u001b[1;32m     18\u001b[0m \u001b[0mprint\u001b[0m\u001b[0;34m(\u001b[0m\u001b[0;34m\"Transaction receipt mined:\"\u001b[0m\u001b[0;34m)\u001b[0m\u001b[0;34m\u001b[0m\u001b[0;34m\u001b[0m\u001b[0m\n",
      "\u001b[0;32m~/.local/lib/python3.6/site-packages/web3/contract.py\u001b[0m in \u001b[0;36mtransact\u001b[0;34m(self, transaction)\u001b[0m\n\u001b[1;32m    999\u001b[0m             \u001b[0mself\u001b[0m\u001b[0;34m.\u001b[0m\u001b[0mabi\u001b[0m\u001b[0;34m,\u001b[0m\u001b[0;34m\u001b[0m\u001b[0;34m\u001b[0m\u001b[0m\n\u001b[1;32m   1000\u001b[0m             \u001b[0;34m*\u001b[0m\u001b[0mself\u001b[0m\u001b[0;34m.\u001b[0m\u001b[0margs\u001b[0m\u001b[0;34m,\u001b[0m\u001b[0;34m\u001b[0m\u001b[0;34m\u001b[0m\u001b[0m\n\u001b[0;32m-> 1001\u001b[0;31m             \u001b[0;34m**\u001b[0m\u001b[0mself\u001b[0m\u001b[0;34m.\u001b[0m\u001b[0mkwargs\u001b[0m\u001b[0;34m\u001b[0m\u001b[0;34m\u001b[0m\u001b[0m\n\u001b[0m\u001b[1;32m   1002\u001b[0m         )\n\u001b[1;32m   1003\u001b[0m \u001b[0;34m\u001b[0m\u001b[0m\n",
      "\u001b[0;32m~/.local/lib/python3.6/site-packages/web3/contract.py\u001b[0m in \u001b[0;36mtransact_with_contract_function\u001b[0;34m(address, web3, function_name, transaction, contract_abi, fn_abi, *args, **kwargs)\u001b[0m\n\u001b[1;32m   1587\u001b[0m     )\n\u001b[1;32m   1588\u001b[0m \u001b[0;34m\u001b[0m\u001b[0m\n\u001b[0;32m-> 1589\u001b[0;31m     \u001b[0mtxn_hash\u001b[0m \u001b[0;34m=\u001b[0m \u001b[0mweb3\u001b[0m\u001b[0;34m.\u001b[0m\u001b[0meth\u001b[0m\u001b[0;34m.\u001b[0m\u001b[0msendTransaction\u001b[0m\u001b[0;34m(\u001b[0m\u001b[0mtransact_transaction\u001b[0m\u001b[0;34m)\u001b[0m\u001b[0;34m\u001b[0m\u001b[0;34m\u001b[0m\u001b[0m\n\u001b[0m\u001b[1;32m   1590\u001b[0m     \u001b[0;32mreturn\u001b[0m \u001b[0mtxn_hash\u001b[0m\u001b[0;34m\u001b[0m\u001b[0;34m\u001b[0m\u001b[0m\n\u001b[1;32m   1591\u001b[0m \u001b[0;34m\u001b[0m\u001b[0m\n",
      "\u001b[0;32m~/.local/lib/python3.6/site-packages/web3/eth.py\u001b[0m in \u001b[0;36msendTransaction\u001b[0;34m(self, transaction)\u001b[0m\n\u001b[1;32m    382\u001b[0m                 \u001b[0mtransaction\u001b[0m\u001b[0;34m,\u001b[0m\u001b[0;34m\u001b[0m\u001b[0;34m\u001b[0m\u001b[0m\n\u001b[1;32m    383\u001b[0m                 \u001b[0;34m'gas'\u001b[0m\u001b[0;34m,\u001b[0m\u001b[0;34m\u001b[0m\u001b[0;34m\u001b[0m\u001b[0m\n\u001b[0;32m--> 384\u001b[0;31m                 \u001b[0mget_buffered_gas_estimate\u001b[0m\u001b[0;34m(\u001b[0m\u001b[0mself\u001b[0m\u001b[0;34m.\u001b[0m\u001b[0mweb3\u001b[0m\u001b[0;34m,\u001b[0m \u001b[0mtransaction\u001b[0m\u001b[0;34m)\u001b[0m\u001b[0;34m,\u001b[0m\u001b[0;34m\u001b[0m\u001b[0;34m\u001b[0m\u001b[0m\n\u001b[0m\u001b[1;32m    385\u001b[0m             )\n\u001b[1;32m    386\u001b[0m \u001b[0;34m\u001b[0m\u001b[0m\n",
      "\u001b[0;32m~/.local/lib/python3.6/site-packages/web3/_utils/transactions.py\u001b[0m in \u001b[0;36mget_buffered_gas_estimate\u001b[0;34m(web3, transaction, gas_buffer)\u001b[0m\n\u001b[1;32m    125\u001b[0m     \u001b[0mgas_estimate_transaction\u001b[0m \u001b[0;34m=\u001b[0m \u001b[0mcast\u001b[0m\u001b[0;34m(\u001b[0m\u001b[0mTxParams\u001b[0m\u001b[0;34m,\u001b[0m \u001b[0mdict\u001b[0m\u001b[0;34m(\u001b[0m\u001b[0;34m**\u001b[0m\u001b[0mtransaction\u001b[0m\u001b[0;34m)\u001b[0m\u001b[0;34m)\u001b[0m\u001b[0;34m\u001b[0m\u001b[0;34m\u001b[0m\u001b[0m\n\u001b[1;32m    126\u001b[0m \u001b[0;34m\u001b[0m\u001b[0m\n\u001b[0;32m--> 127\u001b[0;31m     \u001b[0mgas_estimate\u001b[0m \u001b[0;34m=\u001b[0m \u001b[0mweb3\u001b[0m\u001b[0;34m.\u001b[0m\u001b[0meth\u001b[0m\u001b[0;34m.\u001b[0m\u001b[0mestimateGas\u001b[0m\u001b[0;34m(\u001b[0m\u001b[0mgas_estimate_transaction\u001b[0m\u001b[0;34m)\u001b[0m\u001b[0;34m\u001b[0m\u001b[0;34m\u001b[0m\u001b[0m\n\u001b[0m\u001b[1;32m    128\u001b[0m \u001b[0;34m\u001b[0m\u001b[0m\n\u001b[1;32m    129\u001b[0m     \u001b[0mgas_limit\u001b[0m \u001b[0;34m=\u001b[0m \u001b[0mget_block_gas_limit\u001b[0m\u001b[0;34m(\u001b[0m\u001b[0mweb3\u001b[0m\u001b[0;34m)\u001b[0m\u001b[0;34m\u001b[0m\u001b[0;34m\u001b[0m\u001b[0m\n",
      "\u001b[0;32m~/.local/lib/python3.6/site-packages/web3/eth.py\u001b[0m in \u001b[0;36mestimateGas\u001b[0;34m(self, transaction, block_identifier)\u001b[0m\n\u001b[1;32m    448\u001b[0m         return self.web3.manager.request_blocking(\n\u001b[1;32m    449\u001b[0m             \u001b[0mRPC\u001b[0m\u001b[0;34m.\u001b[0m\u001b[0meth_estimateGas\u001b[0m\u001b[0;34m,\u001b[0m\u001b[0;34m\u001b[0m\u001b[0;34m\u001b[0m\u001b[0m\n\u001b[0;32m--> 450\u001b[0;31m             \u001b[0mparams\u001b[0m\u001b[0;34m,\u001b[0m\u001b[0;34m\u001b[0m\u001b[0;34m\u001b[0m\u001b[0m\n\u001b[0m\u001b[1;32m    451\u001b[0m         )\n\u001b[1;32m    452\u001b[0m \u001b[0;34m\u001b[0m\u001b[0m\n",
      "\u001b[0;32m~/.local/lib/python3.6/site-packages/web3/manager.py\u001b[0m in \u001b[0;36mrequest_blocking\u001b[0;34m(self, method, params, error_formatters)\u001b[0m\n\u001b[1;32m    151\u001b[0m         \u001b[0;32mif\u001b[0m \u001b[0;34m\"error\"\u001b[0m \u001b[0;32min\u001b[0m \u001b[0mresponse\u001b[0m\u001b[0;34m:\u001b[0m\u001b[0;34m\u001b[0m\u001b[0;34m\u001b[0m\u001b[0m\n\u001b[1;32m    152\u001b[0m             \u001b[0mapply_error_formatters\u001b[0m\u001b[0;34m(\u001b[0m\u001b[0merror_formatters\u001b[0m\u001b[0;34m,\u001b[0m \u001b[0mresponse\u001b[0m\u001b[0;34m)\u001b[0m\u001b[0;34m\u001b[0m\u001b[0;34m\u001b[0m\u001b[0m\n\u001b[0;32m--> 153\u001b[0;31m             \u001b[0;32mraise\u001b[0m \u001b[0mValueError\u001b[0m\u001b[0;34m(\u001b[0m\u001b[0mresponse\u001b[0m\u001b[0;34m[\u001b[0m\u001b[0;34m\"error\"\u001b[0m\u001b[0;34m]\u001b[0m\u001b[0;34m)\u001b[0m\u001b[0;34m\u001b[0m\u001b[0;34m\u001b[0m\u001b[0m\n\u001b[0m\u001b[1;32m    154\u001b[0m \u001b[0;34m\u001b[0m\u001b[0m\n\u001b[1;32m    155\u001b[0m         \u001b[0;32mreturn\u001b[0m \u001b[0mresponse\u001b[0m\u001b[0;34m[\u001b[0m\u001b[0;34m'result'\u001b[0m\u001b[0;34m]\u001b[0m\u001b[0;34m\u001b[0m\u001b[0;34m\u001b[0m\u001b[0m\n",
      "\u001b[0;31mValueError\u001b[0m: {'message': 'VM Exception while processing transaction: revert', 'code': -32000, 'data': {'stack': 'c: VM Exception while processing transaction: revert\\n    at Function.c.fromResults (/usr/local/lib/node_modules/ganache-cli/build/ganache-core.node.cli.js:4:162210)\\n    at e.exports (/usr/local/lib/node_modules/ganache-cli/build/ganache-core.node.cli.js:39:2190055)', 'name': 'c'}}"
     ]
    }
   ],
   "source": [
    "with open(\"AutonomousHegician/contracts/ethpool/build/contracts/HegicCallOptions.json\", \"r\") as f:\n",
    "    import json \n",
    "    c = json.loads(f.read())\n",
    "    \n",
    "\n",
    "address = \"0xfCc2b670A4704B10A5d0eF74106ff2edd2E8a453\"\n",
    "sum_add = Web3.toChecksumAddress(address)\n",
    "\n",
    "\n",
    "deployed_contract = w3.eth.contract(address=sum_add,\n",
    "                                    abi=c[\"abi\"]\n",
    "                                   )\n",
    "\n",
    "tx_hash = deployed_contract.functions.fees(1111, 88888, 88888).transact({'to': address,\n",
    "                                                                          'from': w3.eth.coinbase,\n",
    "                                                                          'value': 12345})\n",
    "receipt = w3.eth.waitForTransactionReceipt(tx_hash)\n",
    "print(\"Transaction receipt mined:\")\n",
    "pprint.pprint(dict(receipt))\n",
    "print(\"\\nWas transaction successful?\")\n",
    "pprint.pprint(receipt[\"status\"])"
   ]
  },
  {
   "cell_type": "code",
   "execution_count": 184,
   "metadata": {},
   "outputs": [
    {
     "data": {
      "text/plain": [
       "'5.11.1'"
      ]
     },
     "execution_count": 184,
     "metadata": {},
     "output_type": "execute_result"
    }
   ],
   "source": [
    "import pkg_resources \n",
    "pkg_resources.get_distribution(\"web3 \").version "
   ]
  },
  {
   "cell_type": "code",
   "execution_count": 27,
   "metadata": {},
   "outputs": [],
   "source": [
    "import math"
   ]
  },
  {
   "cell_type": "code",
   "execution_count": 101,
   "metadata": {},
   "outputs": [
    {
     "ename": "SyntaxError",
     "evalue": "invalid syntax (<ipython-input-101-77a5bfa5a494>, line 48)",
     "output_type": "error",
     "traceback": [
      "\u001b[0;36m  File \u001b[0;32m\"<ipython-input-101-77a5bfa5a494>\"\u001b[0;36m, line \u001b[0;32m48\u001b[0m\n\u001b[0;31m    strike_price)\u001b[0m\n\u001b[0m                 ^\u001b[0m\n\u001b[0;31mSyntaxError\u001b[0m\u001b[0;31m:\u001b[0m invalid syntax\n"
     ]
    }
   ],
   "source": [
    "\n",
    "\n",
    "\n",
    "from unittest import TestCase\n",
    "    \n",
    "    \n",
    "\n",
    "class PremiumCalculator:\n",
    "    def __init__(self,\n",
    "                 period,\n",
    "                 amount,\n",
    "                 strike_price)\n",
    "    \n",
    "    self.period =period\n",
    "    self.amount = amount\n",
    "    self.strike_price = strike_price\n",
    "    \n",
    "    def __repr__(self):\n",
    "        return f\"For call option for {self.amount} over a period of {self.period} costs {self.fees()}\"\n",
    "    \n",
    "\n",
    "class testPremiumCalculator(TestCase):\n",
    "    \n",
    "    \n",
    "    \n",
    "    def __init__(self, **kwargs):\n",
    "        self.__dict__.update(kwargs)\n",
    "\n",
    "    def test_1(self):\n",
    "        total = fees(period, amount, strike_price)\n",
    "        print(total)\n",
    "    \n",
    "    \n",
    "    \n",
    "    def run(self):\n",
    "        self.test_1()\n",
    "        self.test_2()\n",
    "        self.test_3()\n",
    "        self.test_4()\n",
    "        \n",
    "\n",
    "tc = testPremiumCalculator(eth_val=0.1, period=86400, strike_price=9999)\n",
    "\n",
    "\n",
    "\n",
    "tc.test_1()\n",
    "\n",
    "# total "
   ]
  },
  {
   "cell_type": "code",
   "execution_count": 202,
   "metadata": {},
   "outputs": [
    {
     "name": "stdout",
     "output_type": "stream",
     "text": [
      "99022863070659900\n",
      "For call option for 0.1 over a period of 172800 hours costs 39.114030912910662080\n",
      "99022863070659900\n",
      "For call option for 0.1 over a period of 172800 hours costs 39.114030912910662080\n"
     ]
    }
   ],
   "source": [
    "PRICE_DECIMALS = 100_000_000\n",
    "implied_vol_rate = 5500\n",
    "\n",
    "\n",
    "import decimal\n",
    "\n",
    "\n",
    "def latest_answer():\n",
    "    return 10000\n",
    "\n",
    "option_type = \"call\"\n",
    "\n",
    "\n",
    "\n",
    "def get_settlement_fee(amount):\n",
    "    return amount / 100\n",
    "    \n",
    "    \n",
    "def getPeriodFee(amount, period, strike, currentPrice):\n",
    "    # we implement the call option\n",
    "    return ((amount * math.sqrt(period) * implied_vol_rate * strike) / currentPrice) / PRICE_DECIMALS \n",
    "    raise\n",
    "    \n",
    "def getStrikeFee(amount, strike, current_price):\n",
    "    if strike > current_price and option_type == \"put\":\n",
    "        raise NotImplemented\n",
    "    elif strike < current_price and option_type == \"call\":\n",
    "        return ((current_price - strike) * amount) / current_price\n",
    "    return 0\n",
    "\n",
    "\n",
    "\n",
    "\n",
    "\n",
    "\n",
    "\n",
    "\n",
    "\n",
    "\n",
    "\n",
    "\n",
    "\n",
    "\n",
    "class PremiumCalculator:\n",
    "    cost = None\n",
    "    def __init__(self, period, amount, strike_price):\n",
    "        self.period =period\n",
    "        self.amount = amount\n",
    "        self.strike_price = strike_price\n",
    "        \n",
    "    def __repr__(self):\n",
    "        in_eth = Web3.fromWei(self.fees(self.period, self.amount, self.strike_price), 'ether')\n",
    "        amt = Web3.fromWei(self.amount, \"ether\")\n",
    "        strike_price = 391.75\n",
    "        fees = self.fees(self.period, self.amount, self.strike_price)\n",
    "        print(Web3.toWei(fees, \"wei\"))\n",
    "        return f\"For call option for {amt} over a period of {self.period} hours costs {Web3.fromWei(fees, 'ether') * 395}\"\n",
    "    \n",
    "    def fees(self, period, amount, strike):\n",
    "        current_price = latest_answer()\n",
    "        settlementfee =get_settlement_fee(amount)\n",
    "        periodFee = getPeriodFee(amount, period, strike, latest_answer())\n",
    "        strikeFee = getStrikeFee(amount, strike, latest_answer())\n",
    "        total =  strikeFee + periodFee\n",
    "        return total\n",
    "\n",
    "\n",
    "\n",
    "period = 24 * 3600 * 2\n",
    "amount = Web3.toWei(0.1, unit=\"ether\")\n",
    "strike_price = 100\n",
    "PC = PremiumCalculator(period, amount, strike_price)\n",
    "print(PC)\n",
    "\n",
    "strike_price = 100\n",
    "PC = PremiumCalculator(period, amount, strike_price)\n",
    "print(PC)"
   ]
  },
  {
   "cell_type": "code",
   "execution_count": 71,
   "metadata": {},
   "outputs": [
    {
     "data": {
      "text/plain": [
       "Decimal('0.063282986253926656')"
      ]
     },
     "execution_count": 71,
     "metadata": {},
     "output_type": "execute_result"
    }
   ],
   "source": [
    "Web3.fromWei(total, \"ether\")"
   ]
  },
  {
   "cell_type": "code",
   "execution_count": 174,
   "metadata": {},
   "outputs": [
    {
     "data": {
      "text/plain": [
       "1000000000000000000"
      ]
     },
     "execution_count": 174,
     "metadata": {},
     "output_type": "execute_result"
    }
   ],
   "source": [
    "Web3.toWei(amount, \"wei\")"
   ]
  },
  {
   "cell_type": "code",
   "execution_count": 153,
   "metadata": {},
   "outputs": [
    {
     "data": {
      "text/plain": [
       "0.01639344262295082"
      ]
     },
     "execution_count": 153,
     "metadata": {},
     "output_type": "execute_result"
    }
   ],
   "source": [
    "def getStrikeFee(amount, strike, current_price):\n",
    "    if strike > current_price and option_type == \"put\":\n",
    "        raise NotImplemented\n",
    "    elif strike < current_price and option_type == \"call\":\n",
    "        return ((current_price - strike) * amount) / current_price\n",
    "    return 0\n",
    "\n",
    "option_type == \"put\"\n",
    "getStrikeFee(1, 300, 305)"
   ]
  },
  {
   "cell_type": "code",
   "execution_count": 191,
   "metadata": {},
   "outputs": [
    {
     "data": {
      "text/plain": [
       "9000"
      ]
     },
     "execution_count": 191,
     "metadata": {},
     "output_type": "execute_result"
    }
   ],
   "source": [
    "int(strike_price) "
   ]
  },
  {
   "cell_type": "code",
   "execution_count": 203,
   "metadata": {},
   "outputs": [
    {
     "ename": "ValueError",
     "evalue": "{'message': 'VM Exception while processing transaction: revert', 'code': -32000, 'data': {'stack': 'c: VM Exception while processing transaction: revert\\n    at Function.c.fromResults (/usr/local/lib/node_modules/ganache-cli/build/ganache-core.node.cli.js:4:162210)\\n    at e.exports (/usr/local/lib/node_modules/ganache-cli/build/ganache-core.node.cli.js:39:2190055)', 'name': 'c'}}",
     "output_type": "error",
     "traceback": [
      "\u001b[0;31m---------------------------------------------------------------------------\u001b[0m",
      "\u001b[0;31mValueError\u001b[0m                                Traceback (most recent call last)",
      "\u001b[0;32m<ipython-input-203-782476ed4c7d>\u001b[0m in \u001b[0;36m<module>\u001b[0;34m\u001b[0m\n\u001b[1;32m      1\u001b[0m tx_hash = deployed_contract.functions.fees(period, 1, 100000000000000).transact({'to': address,\n\u001b[1;32m      2\u001b[0m                                                                           \u001b[0;34m'from'\u001b[0m\u001b[0;34m:\u001b[0m \u001b[0mw3\u001b[0m\u001b[0;34m.\u001b[0m\u001b[0meth\u001b[0m\u001b[0;34m.\u001b[0m\u001b[0mcoinbase\u001b[0m\u001b[0;34m,\u001b[0m\u001b[0;34m\u001b[0m\u001b[0;34m\u001b[0m\u001b[0m\n\u001b[0;32m----> 3\u001b[0;31m                                                                           'value': 12345})\n\u001b[0m",
      "\u001b[0;32m~/.local/lib/python3.6/site-packages/web3/contract.py\u001b[0m in \u001b[0;36mtransact\u001b[0;34m(self, transaction)\u001b[0m\n\u001b[1;32m    999\u001b[0m             \u001b[0mself\u001b[0m\u001b[0;34m.\u001b[0m\u001b[0mabi\u001b[0m\u001b[0;34m,\u001b[0m\u001b[0;34m\u001b[0m\u001b[0;34m\u001b[0m\u001b[0m\n\u001b[1;32m   1000\u001b[0m             \u001b[0;34m*\u001b[0m\u001b[0mself\u001b[0m\u001b[0;34m.\u001b[0m\u001b[0margs\u001b[0m\u001b[0;34m,\u001b[0m\u001b[0;34m\u001b[0m\u001b[0;34m\u001b[0m\u001b[0m\n\u001b[0;32m-> 1001\u001b[0;31m             \u001b[0;34m**\u001b[0m\u001b[0mself\u001b[0m\u001b[0;34m.\u001b[0m\u001b[0mkwargs\u001b[0m\u001b[0;34m\u001b[0m\u001b[0;34m\u001b[0m\u001b[0m\n\u001b[0m\u001b[1;32m   1002\u001b[0m         )\n\u001b[1;32m   1003\u001b[0m \u001b[0;34m\u001b[0m\u001b[0m\n",
      "\u001b[0;32m~/.local/lib/python3.6/site-packages/web3/contract.py\u001b[0m in \u001b[0;36mtransact_with_contract_function\u001b[0;34m(address, web3, function_name, transaction, contract_abi, fn_abi, *args, **kwargs)\u001b[0m\n\u001b[1;32m   1587\u001b[0m     )\n\u001b[1;32m   1588\u001b[0m \u001b[0;34m\u001b[0m\u001b[0m\n\u001b[0;32m-> 1589\u001b[0;31m     \u001b[0mtxn_hash\u001b[0m \u001b[0;34m=\u001b[0m \u001b[0mweb3\u001b[0m\u001b[0;34m.\u001b[0m\u001b[0meth\u001b[0m\u001b[0;34m.\u001b[0m\u001b[0msendTransaction\u001b[0m\u001b[0;34m(\u001b[0m\u001b[0mtransact_transaction\u001b[0m\u001b[0;34m)\u001b[0m\u001b[0;34m\u001b[0m\u001b[0;34m\u001b[0m\u001b[0m\n\u001b[0m\u001b[1;32m   1590\u001b[0m     \u001b[0;32mreturn\u001b[0m \u001b[0mtxn_hash\u001b[0m\u001b[0;34m\u001b[0m\u001b[0;34m\u001b[0m\u001b[0m\n\u001b[1;32m   1591\u001b[0m \u001b[0;34m\u001b[0m\u001b[0m\n",
      "\u001b[0;32m~/.local/lib/python3.6/site-packages/web3/eth.py\u001b[0m in \u001b[0;36msendTransaction\u001b[0;34m(self, transaction)\u001b[0m\n\u001b[1;32m    382\u001b[0m                 \u001b[0mtransaction\u001b[0m\u001b[0;34m,\u001b[0m\u001b[0;34m\u001b[0m\u001b[0;34m\u001b[0m\u001b[0m\n\u001b[1;32m    383\u001b[0m                 \u001b[0;34m'gas'\u001b[0m\u001b[0;34m,\u001b[0m\u001b[0;34m\u001b[0m\u001b[0;34m\u001b[0m\u001b[0m\n\u001b[0;32m--> 384\u001b[0;31m                 \u001b[0mget_buffered_gas_estimate\u001b[0m\u001b[0;34m(\u001b[0m\u001b[0mself\u001b[0m\u001b[0;34m.\u001b[0m\u001b[0mweb3\u001b[0m\u001b[0;34m,\u001b[0m \u001b[0mtransaction\u001b[0m\u001b[0;34m)\u001b[0m\u001b[0;34m,\u001b[0m\u001b[0;34m\u001b[0m\u001b[0;34m\u001b[0m\u001b[0m\n\u001b[0m\u001b[1;32m    385\u001b[0m             )\n\u001b[1;32m    386\u001b[0m \u001b[0;34m\u001b[0m\u001b[0m\n",
      "\u001b[0;32m~/.local/lib/python3.6/site-packages/web3/_utils/transactions.py\u001b[0m in \u001b[0;36mget_buffered_gas_estimate\u001b[0;34m(web3, transaction, gas_buffer)\u001b[0m\n\u001b[1;32m    125\u001b[0m     \u001b[0mgas_estimate_transaction\u001b[0m \u001b[0;34m=\u001b[0m \u001b[0mcast\u001b[0m\u001b[0;34m(\u001b[0m\u001b[0mTxParams\u001b[0m\u001b[0;34m,\u001b[0m \u001b[0mdict\u001b[0m\u001b[0;34m(\u001b[0m\u001b[0;34m**\u001b[0m\u001b[0mtransaction\u001b[0m\u001b[0;34m)\u001b[0m\u001b[0;34m)\u001b[0m\u001b[0;34m\u001b[0m\u001b[0;34m\u001b[0m\u001b[0m\n\u001b[1;32m    126\u001b[0m \u001b[0;34m\u001b[0m\u001b[0m\n\u001b[0;32m--> 127\u001b[0;31m     \u001b[0mgas_estimate\u001b[0m \u001b[0;34m=\u001b[0m \u001b[0mweb3\u001b[0m\u001b[0;34m.\u001b[0m\u001b[0meth\u001b[0m\u001b[0;34m.\u001b[0m\u001b[0mestimateGas\u001b[0m\u001b[0;34m(\u001b[0m\u001b[0mgas_estimate_transaction\u001b[0m\u001b[0;34m)\u001b[0m\u001b[0;34m\u001b[0m\u001b[0;34m\u001b[0m\u001b[0m\n\u001b[0m\u001b[1;32m    128\u001b[0m \u001b[0;34m\u001b[0m\u001b[0m\n\u001b[1;32m    129\u001b[0m     \u001b[0mgas_limit\u001b[0m \u001b[0;34m=\u001b[0m \u001b[0mget_block_gas_limit\u001b[0m\u001b[0;34m(\u001b[0m\u001b[0mweb3\u001b[0m\u001b[0;34m)\u001b[0m\u001b[0;34m\u001b[0m\u001b[0;34m\u001b[0m\u001b[0m\n",
      "\u001b[0;32m~/.local/lib/python3.6/site-packages/web3/eth.py\u001b[0m in \u001b[0;36mestimateGas\u001b[0;34m(self, transaction, block_identifier)\u001b[0m\n\u001b[1;32m    448\u001b[0m         return self.web3.manager.request_blocking(\n\u001b[1;32m    449\u001b[0m             \u001b[0mRPC\u001b[0m\u001b[0;34m.\u001b[0m\u001b[0meth_estimateGas\u001b[0m\u001b[0;34m,\u001b[0m\u001b[0;34m\u001b[0m\u001b[0;34m\u001b[0m\u001b[0m\n\u001b[0;32m--> 450\u001b[0;31m             \u001b[0mparams\u001b[0m\u001b[0;34m,\u001b[0m\u001b[0;34m\u001b[0m\u001b[0;34m\u001b[0m\u001b[0m\n\u001b[0m\u001b[1;32m    451\u001b[0m         )\n\u001b[1;32m    452\u001b[0m \u001b[0;34m\u001b[0m\u001b[0m\n",
      "\u001b[0;32m~/.local/lib/python3.6/site-packages/web3/manager.py\u001b[0m in \u001b[0;36mrequest_blocking\u001b[0;34m(self, method, params, error_formatters)\u001b[0m\n\u001b[1;32m    151\u001b[0m         \u001b[0;32mif\u001b[0m \u001b[0;34m\"error\"\u001b[0m \u001b[0;32min\u001b[0m \u001b[0mresponse\u001b[0m\u001b[0;34m:\u001b[0m\u001b[0;34m\u001b[0m\u001b[0;34m\u001b[0m\u001b[0m\n\u001b[1;32m    152\u001b[0m             \u001b[0mapply_error_formatters\u001b[0m\u001b[0;34m(\u001b[0m\u001b[0merror_formatters\u001b[0m\u001b[0;34m,\u001b[0m \u001b[0mresponse\u001b[0m\u001b[0;34m)\u001b[0m\u001b[0;34m\u001b[0m\u001b[0;34m\u001b[0m\u001b[0m\n\u001b[0;32m--> 153\u001b[0;31m             \u001b[0;32mraise\u001b[0m \u001b[0mValueError\u001b[0m\u001b[0;34m(\u001b[0m\u001b[0mresponse\u001b[0m\u001b[0;34m[\u001b[0m\u001b[0;34m\"error\"\u001b[0m\u001b[0;34m]\u001b[0m\u001b[0;34m)\u001b[0m\u001b[0;34m\u001b[0m\u001b[0;34m\u001b[0m\u001b[0m\n\u001b[0m\u001b[1;32m    154\u001b[0m \u001b[0;34m\u001b[0m\u001b[0m\n\u001b[1;32m    155\u001b[0m         \u001b[0;32mreturn\u001b[0m \u001b[0mresponse\u001b[0m\u001b[0;34m[\u001b[0m\u001b[0;34m'result'\u001b[0m\u001b[0;34m]\u001b[0m\u001b[0;34m\u001b[0m\u001b[0;34m\u001b[0m\u001b[0m\n",
      "\u001b[0;31mValueError\u001b[0m: {'message': 'VM Exception while processing transaction: revert', 'code': -32000, 'data': {'stack': 'c: VM Exception while processing transaction: revert\\n    at Function.c.fromResults (/usr/local/lib/node_modules/ganache-cli/build/ganache-core.node.cli.js:4:162210)\\n    at e.exports (/usr/local/lib/node_modules/ganache-cli/build/ganache-core.node.cli.js:39:2190055)', 'name': 'c'}}"
     ]
    }
   ],
   "source": [
    "tx_hash = deployed_contract.functions.fees(period, 1, 100000000000000).transact({'to': address,\n",
    "                                                                          'from': w3.eth.coinbase,\n",
    "                                                                          'value': 12345})"
   ]
  },
  {
   "cell_type": "code",
   "execution_count": 194,
   "metadata": {},
   "outputs": [
    {
     "data": {
      "text/plain": [
       "(172800, 100000000000000000, 9000.0)"
      ]
     },
     "execution_count": 194,
     "metadata": {},
     "output_type": "execute_result"
    }
   ],
   "source": [
    "period, amount, strike_price"
   ]
  }
 ],
 "metadata": {
  "kernelspec": {
   "display_name": "Python 3",
   "language": "python",
   "name": "python3"
  },
  "language_info": {
   "codemirror_mode": {
    "name": "ipython",
    "version": 3
   },
   "file_extension": ".py",
   "mimetype": "text/x-python",
   "name": "python",
   "nbconvert_exporter": "python",
   "pygments_lexer": "ipython3",
   "version": "3.6.9"
  }
 },
 "nbformat": 4,
 "nbformat_minor": 4
}
