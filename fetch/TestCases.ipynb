{
 "cells": [
  {
   "cell_type": "markdown",
   "metadata": {},
   "source": [
    "# The purpose of this workbook is to show the tests cases executed\n"
   ]
  },
  {
   "cell_type": "markdown",
   "metadata": {},
   "source": [
    "[Contract Reference from David](https://github.com/fetchai/agents-aea/blob/10bc452827487403d65c6c4bc6b3ad985c269997/docs/contract.md)"
   ]
  },
  {
   "cell_type": "markdown",
   "metadata": {},
   "source": [
    "# Understanding of The flow\n",
    "\n",
    "The ledger API connection skill handles the [ContractApiMessage]() object\n",
    "\n",
    "The [Contract](https://github.com/fetchai/agents-aea/blob/10bc452827487403d65c6c4bc6b3ad985c269997/aea/contracts/base.py)\n",
    "class handles the ContractAPIMessage. \n",
    "\n",
    "The contract class we implement within the AEA contract.py  file within the contract class of the AEA inheirts from this object, so we therefore have all of its available methods\n",
    "\n",
    "Based on the referenced documentation, we would need to impl"
   ]
  },
  {
   "cell_type": "code",
   "execution_count": null,
   "metadata": {},
   "outputs": [],
   "source": []
  },
  {
   "cell_type": "markdown",
   "metadata": {},
   "source": [
    "Contract API Message - The contract API message we must base our message on is of the RAW_TRANSACTION_TYPE\n",
    "\n",
    "\n",
    "```\n",
    "contract_api_msg = ContractApiMessage(\n",
    "    performative=ContractApiMessage.Performative.GET_RAW_TRANSACTION,\n",
    "    dialogue_reference=contract_api_dialogues.new_self_initiated_dialogue_reference(),\n",
    "    ledger_id=strategy.ledger_id,\n",
    "    contract_id=\"fetchai/erc1155:0.9.0\",\n",
    "    contract_address=strategy.contract_address,\n",
    "    callable=\"get_create_batch_transaction\",\n",
    "    kwargs=ContractApiMessage.Kwargs(\n",
    "        {\n",
    "            \"deployer_address\": self.context.agent_address,\n",
    "            \"token_ids\": strategy.token_ids,\n",
    "        }\n",
    "    ),\n",
    ")\n",
    "```\n",
    "Our object must therefore look like this;\n"
   ]
  },
  {
   "cell_type": "markdown",
   "metadata": {},
   "source": [
    "```\n",
    "contract_api_msg = ContractApiMessage(\n",
    "    performative=ContractApiMessage.Performative.GET_RAW_TRANSACTION,\n",
    "    dialogue_reference=contract_api_dialogues.new_self_initiated_dialogue_reference(),\n",
    "    ledger_id=strategy.ledger_id,\n",
    "    contract_id=\"tomrae/ethpool:0.1.0\",\n",
    "    contract_address=self.context.strategy.deployment_status[\"ethpool\"][1], \n",
    "    callable=\"provide_liquidity\",\n",
    "    kwargs=ContractApiMessage.Kwargs(\n",
    "        {\n",
    "            \"deployer_address\": self.context.agent_address,\n",
    "            \"amount\": 10000,\n",
    "        }\n",
    "    ),\n",
    ")\n",
    "```\n",
    "note I have cross referenced this address, \n",
    "so I know that the agent is correctly deploying the \n",
    "transactions as this address matches the address displayed on ganache CLI, under contract address"
   ]
  },
  {
   "cell_type": "code",
   "execution_count": 4,
   "metadata": {},
   "outputs": [],
   "source": [
    "# Now, this will get passed to the provide liquidity function of my own contract.py"
   ]
  },
  {
   "cell_type": "code",
   "execution_count": null,
   "metadata": {},
   "outputs": [],
   "source": [
    "    @classmethod\n",
    "    def provide_liquidity(\n",
    "            cls,\n",
    "            ledger_api: LedgerApi,\n",
    "            contract_address: Address,\n",
    "            deployer_address: Address,\n",
    "            amount: int,\n",
    "            gas: int = 60000000,\n",
    "    ) -> Dict[str, Any]:\n",
    "        \"\"\"\n",
    "        Get the transaction to create a batch of tokens.\n",
    "\n",
    "        :param ledger_api: the ledger API\n",
    "        :param deployer_address: the address of the deployer\n",
    "        :param amount: the arguments\n",
    "        :param gas: the gas to be used\n",
    "        :return: the transaction object\n",
    "        \"\"\"\n",
    "        logger.info(f\"******************************** just about to creat contract {deployer_address} type {type(deployer_address)}\")\n",
    "        nonce = ledger_api.api.eth.getTransactionCount(deployer_address)\n",
    "        instance = cls.get_instance(ledger_api, contract_address)\n",
    "        logger.info(f\"************instance created:\")\n",
    "        tx = instance.functions.provide(amount).buildTransaction({\n",
    "            \"gas\": gas,\n",
    "            \"gasPrice\":ledger_api.api.toWei(\"50\", \"gwei\"),\n",
    "            \"nonce\": nonce,\n",
    "        })\n",
    "        logger.info(f\"************tx created:\")\n",
    "        tx = cls._try_estimate_gas(ledger_api, tx)\n",
    "        logger.info(f\"************ gas estimated:\")\n",
    "\n",
    "        return tx  #return #"
   ]
  },
  {
   "cell_type": "code",
   "execution_count": 5,
   "metadata": {},
   "outputs": [],
   "source": [
    "# Using the existing method from the erc1155 contract as inspiration, "
   ]
  },
  {
   "cell_type": "code",
   "execution_count": null,
   "metadata": {},
   "outputs": [],
   "source": [
    "# This is based on the following method\n",
    "   @classmethod\n",
    "    def get_create_batch_transaction(\n",
    "        cls,\n",
    "        ledger_api: LedgerApi,\n",
    "        contract_address: Address,\n",
    "        deployer_address: Address,\n",
    "        token_ids: List[int],\n",
    "        data: Optional[bytes] = b\"\",\n",
    "        gas: int = 300000,\n",
    "    ) -> Dict[str, Any]:\n",
    "        \"\"\"\n",
    "        Get the transaction to create a batch of tokens.\n",
    "        :param ledger_api: the ledger API\n",
    "        :param contract_address: the address of the contract\n",
    "        :param deployer_address: the address of the deployer\n",
    "        :param token_ids: the list of token ids for creation\n",
    "        :param data: the data to include in the transaction\n",
    "        :param gas: the gas to be used\n",
    "        :return: the transaction object\n",
    "        \"\"\"\n",
    "        # create the transaction dict\n",
    "        nonce = ledger_api.api.eth.getTransactionCount(deployer_address)\n",
    "        instance = cls.get_instance(ledger_api, contract_address)\n",
    "        tx = instance.functions.createBatch(\n",
    "            deployer_address, token_ids\n",
    "        ).buildTransaction(\n",
    "            {\n",
    "                \"gas\": gas,\n",
    "                \"gasPrice\": ledger_api.api.toWei(\"50\", \"gwei\"),\n",
    "                \"nonce\": nonce,\n",
    "            }\n",
    "        )\n",
    "        tx = cls._try_estimate_gas(ledger_api, tx)\n",
    "        return tx"
   ]
  },
  {
   "cell_type": "markdown",
   "metadata": {},
   "source": [
    "Which fails with\n",
    "\n",
    "```\n",
    "INFO:aea.packages.tomrae.skills.option_monitoring:[autonomous_hegician] requesting provide liquidity transaction...\n",
    "info: ******* Just about to get nonce for 0xD9EEA0deAC1cf2Ae88Cb2E9fBfa0De8A61F9CF7C type <class 'str'>\n",
    "INFO:aea.packages.fetchai.contracts.ethpool:******* Just about to get nonce for 0xD9EEA0deAC1cf2Ae88Cb2E9fBfa0De8A61F9CF7C type <class 'str'>\n",
    "info: [autonomous_hegician] Monitoring 4 orders for execution.\n",
    "INFO:aea.packages.tomrae.skills.option_monitoring:[autonomous_hegician] Monitoring 4 orders for execution.\n",
    "info: ******* Just about to get instance \n",
    "INFO:aea.packages.fetchai.contracts.ethpool:******* Just about to get instance \n",
    "error: [autonomous_hegician] An error occurred while processing the contract api request: '('Web3.py only accepts checksum addresses. The software that gave you this non-checksum address should be considered unsafe, please file it as a bug on their platform. Try using an ENS name instead. Or, if you must accept lower safety, use Web3.toChecksumAddress(lower_case_address).', '0x1b027efaabf20c82886f988da9e3595bed37687e')'.\n",
    "ERROR:aea.packages.fetchai.connections.ledger:[autonomous_hegician] An error occurred while processing the contract api request: '('Web3.py only accepts checksum addresses. The software that gave you this non-checksum address should be considered unsafe, please file it as a bug on their platform. Try using an ENS name instead. Or, if you must accept lower safety, use Web3.toChecksumAddress(lower_case_address).', '0x1b027efaabf20c82886f988da9e3595bed37687e')'.\n",
    "info: [autonomous_hegician] Current Rate : 384.28\n",
    "INFO:aea.packages.tomrae.skills.option_monitoring:[autonomous_hegician] Current Rate : 384.28\n",
    "info: [autonomous_hegician] received ledger_api error message=Message(dialogue_reference=('10dde1696fb8616105a1c6b5d4390159b14ea8adeb623e7e7015762e57ec60b9', '32c6aeabe4c2298c1b98c726f81f562c5a2e9fea1dfd30f5c796a182fbee84a9') message_id=2 target=1 performative=error code=500 message=('Web3.py only accepts checksum addresses. The software that gave you this non-checksum address should be considered unsafe, please file it as a bug on their platform. Try using an ENS name instead. Or, if you must accept lower safety, use Web3.toChecksumAddress(lower_case_address).', '0x1b027efaabf20c82886f988da9e3595bed37687e') data=b'') in dialogue=Dialogue Label: 10dde1696fb8616105a1c6b5d4390159b14ea8adeb623e7e7015762e57ec60b9_32c6aeabe4c2298c1b98c726f81f562c5a2e9fea1dfd30f5c796a182fbee84a9_fetchai/ledger:0.3.0_0xD9EEA0deAC1cf2Ae88Cb2E9fBfa0De8A61F9CF7C\n",
    "info: get_raw_transaction( )\n",
    "info: error( ).\n",
    "INFO:aea.packages.tomrae.skills.option_monitoring:[autonomous_hegician] received ledger_api error message=Message(dialogue_reference=('10dde1696fb8616105a1c6b5d4390159b14ea8adeb623e7e7015762e57ec60b9', '32c6aeabe4c2298c1b98c726f81f562c5a2e9fea1dfd30f5c796a182fbee84a9') message_id=2 target=1 performative=error code=500 message=('Web3.py only accepts checksum addresses. The software that gave you this non-checksum address should be considered unsafe, please file it as a bug on their platform. Try using an ENS name instead. Or, if you must accept lower safety, use Web3.toChecksumAddress(lower_case_address).', '0x1b027efaabf20c82886f988da9e3595bed37687e') data=b'') in dialogue=Dialogue Label: 10dde1696fb8616105a1c6b5d4390159b14ea8adeb623e7e7015762e57ec60b9_32c6aeabe4c2298c1b98c726f81f562c5a2e9fea1dfd30f5c796a182fbee84a9_fetchai/ledger:0.3.0_0xD9EEA0deAC1cf2Ae88Cb2E9fBfa0De8A61F9CF7C\n",
    "get_raw_transaction( )\n",
    "error( ).\n",
    "```"
   ]
  },
  {
   "cell_type": "code",
   "execution_count": 7,
   "metadata": {},
   "outputs": [],
   "source": [
    "# /\\ this suggests that the deployer address is ok as the nonce is calculated, yet for some reason the Contract address is NOT!\n"
   ]
  },
  {
   "cell_type": "code",
   "execution_count": 11,
   "metadata": {},
   "outputs": [
    {
     "data": {
      "text/plain": [
       "\"\\ninfo: [autonomous_hegician] requesting provide liquidity transaction...\\nINFO:aea.packages.tomrae.skills.option_monitoring:[autonomous_hegician] requesting provide liquidity transaction...\\ninfo: ******* Just about to get nonce for 0xD9EEA0deAC1cf2Ae88Cb2E9fBfa0De8A61F9CF7C type <class 'str'>\\nINFO:aea.packages.fetchai.contracts.ethpool:******* Just about to get nonce for 0xD9EEA0deAC1cf2Ae88Cb2E9fBfa0De8A61F9CF7C type <class 'str'>\\ninfo: ******* Just about to get instance \\nINFO:aea.packages.fetchai.contracts.ethpool:******* Just about to get instance \\ninfo: ************instance created:\\nINFO:aea.packages.fetchai.contracts.ethpool:************instance created:\\nerror: [autonomous_hegician] An error occurred while processing the contract api request: ''name''.\\nERROR:aea.packages.fetchai.connections.ledger:[autonomous_hegician] An error occurred while processing the contract api request: ''name''.\\ninfo: [autonomous_hegician] received ledger_api error message=Message(dialogue_reference=('6578b6b420e71ad8d649150da1bb3bc1686a712be12db544444661768d98d91b', 'bb48cab8b1e352867933c7e420dae065304fbe965bc039b0c2acbc8d2904d528') message_id=2 target=1 performative=error code=500 message='name' data=b'') in dialogue=Dialogue Label: 6578b6b420e71ad8d649150da1bb3bc1686a712be12db544444661768d98d91b_bb48cab8b1e352867933c7e420dae065304fbe965bc039b0c2acbc8d2904d528_fetchai/ledger:0.3.0_0xD9EEA0deAC1cf2Ae88Cb2E9fBfa0De8A61F9CF7C\\ninfo: get_raw_transaction( )\\ninfo: error( ).\\n\""
      ]
     },
     "execution_count": 11,
     "metadata": {},
     "output_type": "execute_result"
    }
   ],
   "source": [
    "# in order to that A), the contract address is correct and B) that the contract is getting deployed with no issues,\n",
    "\n",
    "# I restart ganache, and remove the contract address for the eth pools from the skill config. This will cause the agent to redeploy the contracts when it starts up.\n",
    "\n",
    "# note, I am reading in the json directly to deploy, (as I know it works)\n",
    "\n",
    "# Also note, when I am redeploying the agent gets further!\n",
    "# (this suggests to me that it would be helpful to show an example of the contract address being taken from the skill.yaml file\n",
    "\n",
    "# (however we still fail at the end)\n",
    "\n",
    "# with this message\n",
    "\n",
    "\"\"\"\n",
    "info: [autonomous_hegician] requesting provide liquidity transaction...\n",
    "INFO:aea.packages.tomrae.skills.option_monitoring:[autonomous_hegician] requesting provide liquidity transaction...\n",
    "info: ******* Just about to get nonce for 0xD9EEA0deAC1cf2Ae88Cb2E9fBfa0De8A61F9CF7C type <class 'str'>\n",
    "INFO:aea.packages.fetchai.contracts.ethpool:******* Just about to get nonce for 0xD9EEA0deAC1cf2Ae88Cb2E9fBfa0De8A61F9CF7C type <class 'str'>\n",
    "info: ******* Just about to get instance \n",
    "INFO:aea.packages.fetchai.contracts.ethpool:******* Just about to get instance \n",
    "info: ************instance created:\n",
    "INFO:aea.packages.fetchai.contracts.ethpool:************instance created:\n",
    "error: [autonomous_hegician] An error occurred while processing the contract api request: ''name''.\n",
    "ERROR:aea.packages.fetchai.connections.ledger:[autonomous_hegician] An error occurred while processing the contract api request: ''name''.\n",
    "info: [autonomous_hegician] received ledger_api error message=Message(dialogue_reference=('6578b6b420e71ad8d649150da1bb3bc1686a712be12db544444661768d98d91b', 'bb48cab8b1e352867933c7e420dae065304fbe965bc039b0c2acbc8d2904d528') message_id=2 target=1 performative=error code=500 message='name' data=b'') in dialogue=Dialogue Label: 6578b6b420e71ad8d649150da1bb3bc1686a712be12db544444661768d98d91b_bb48cab8b1e352867933c7e420dae065304fbe965bc039b0c2acbc8d2904d528_fetchai/ledger:0.3.0_0xD9EEA0deAC1cf2Ae88Cb2E9fBfa0De8A61F9CF7C\n",
    "info: get_raw_transaction( )\n",
    "info: error( ).\n",
    "\"\"\""
   ]
  },
  {
   "cell_type": "code",
   "execution_count": 12,
   "metadata": {},
   "outputs": [],
   "source": [
    "\n",
    "# To demonstrate using the underlyig library"
   ]
  },
  {
   "cell_type": "code",
   "execution_count": 2,
   "metadata": {},
   "outputs": [
    {
     "data": {
      "text/plain": [
       "True"
      ]
     },
     "execution_count": 2,
     "metadata": {},
     "output_type": "execute_result"
    }
   ],
   "source": [
    "from web3 import Web3\n",
    "\n",
    "w3 = Web3(Web3.HTTPProvider('http://127.0.0.1:7545'))\n",
    "w3.isConnected()"
   ]
  },
  {
   "cell_type": "code",
   "execution_count": null,
   "metadata": {},
   "outputs": [],
   "source": []
  },
  {
   "cell_type": "code",
   "execution_count": 19,
   "metadata": {},
   "outputs": [
    {
     "name": "stdout",
     "output_type": "stream",
     "text": [
      "\u001b[0m\u001b[01;34mAutonomousHegician\u001b[0m/  \u001b[01;34mpackages\u001b[0m/  Pipfile  requirements.txt  TestCases.ipynb\n"
     ]
    }
   ],
   "source": [
    "ls"
   ]
  },
  {
   "cell_type": "code",
   "execution_count": 3,
   "metadata": {},
   "outputs": [],
   "source": [
    "\n",
    "import sys\n",
    "import time\n",
    "import pprint\n",
    "from web3 import Web3\n"
   ]
  },
  {
   "cell_type": "code",
   "execution_count": 4,
   "metadata": {},
   "outputs": [],
   "source": [
    "with open(\"AutonomousHegician/contracts/ethpool/build/contracts/HegicETHPool.json\", \"r\") as f:\n",
    "    import json \n",
    "    c = json.loads(f.read())\n",
    "    \n",
    "\n",
    "address = \"0xbcc2b4bB5d47812944Bff9833a1Eb1936EaAf7A4\"\n",
    "sum_add = Web3.toChecksumAddress(address)\n",
    "\n",
    "\n",
    "deployed_contract = w3.eth.contract(address=sum_add,\n",
    "                abi=c[\"abi\"])\n",
    "\n"
   ]
  },
  {
   "cell_type": "code",
   "execution_count": 38,
   "metadata": {},
   "outputs": [
    {
     "name": "stdout",
     "output_type": "stream",
     "text": [
      "Gas estimate to transact : 22307\n",
      "Transaction receipt mined:\n",
      "{'blockHash': HexBytes('0x14c0651541d194daf50983a1b83c4d982067be57139ac97b4ef2dbffc5ebb55d'),\n",
      " 'blockNumber': 14,\n",
      " 'contractAddress': None,\n",
      " 'cumulativeGasUsed': 91093,\n",
      " 'from': '0x1AE50222baaAE579f336bb724C0b4E14F406a732',\n",
      " 'gasUsed': 91093,\n",
      " 'logs': [AttributeDict({'logIndex': 0, 'transactionIndex': 0, 'transactionHash': HexBytes('0x39c2a58893c7e49314e2a25ef876b9e18c02f18d09138bbccbabc2989ae83422'), 'blockHash': HexBytes('0x14c0651541d194daf50983a1b83c4d982067be57139ac97b4ef2dbffc5ebb55d'), 'blockNumber': 14, 'address': '0xbcc2b4bB5d47812944Bff9833a1Eb1936EaAf7A4', 'data': '0x0000000000000000000000000000000000000000000000000000000000bc5ea8', 'topics': [HexBytes('0xddf252ad1be2c89b69c2b068fc378daa952ba7f163c4a11628f55a4df523b3ef'), HexBytes('0x0000000000000000000000000000000000000000000000000000000000000000'), HexBytes('0x0000000000000000000000001ae50222baaae579f336bb724c0b4e14f406a732')], 'type': 'mined'}),\n",
      "          AttributeDict({'logIndex': 1, 'transactionIndex': 0, 'transactionHash': HexBytes('0x39c2a58893c7e49314e2a25ef876b9e18c02f18d09138bbccbabc2989ae83422'), 'blockHash': HexBytes('0x14c0651541d194daf50983a1b83c4d982067be57139ac97b4ef2dbffc5ebb55d'), 'blockNumber': 14, 'address': '0xbcc2b4bB5d47812944Bff9833a1Eb1936EaAf7A4', 'data': '0x00000000000000000000000000000000000000000000000000000000000030390000000000000000000000000000000000000000000000000000000000bc5ea8', 'topics': [HexBytes('0x4089141ea5e4c16575f5ebf65f1786497ea07c175846fc7745ef8d8986a4ff65'), HexBytes('0x0000000000000000000000001ae50222baaae579f336bb724c0b4e14f406a732')], 'type': 'mined'})],\n",
      " 'logsBloom': HexBytes('0x00040000000000000000000000000000000000000000000000000000000000000000000000000000000000000000200000000000000000000000000000000000000000000000000000000008000000000000000000000000000000000000000000000000020000000000000000000800000000000000000004200010000000000000000000200000000000000000000800000000000000000200000000000000000000000000000000000000000000000000000000000000000000000000000002800002000000000000000000000000000000000000000000000000000020000000000000000000000000000000000000000000000000000000000000000000'),\n",
      " 'status': 1,\n",
      " 'to': '0xbcc2b4bB5d47812944Bff9833a1Eb1936EaAf7A4',\n",
      " 'transactionHash': HexBytes('0x39c2a58893c7e49314e2a25ef876b9e18c02f18d09138bbccbabc2989ae83422'),\n",
      " 'transactionIndex': 0}\n",
      "\n",
      "Was transaction successful?\n",
      "1\n"
     ]
    }
   ],
   "source": [
    "print(f'Gas estimate to transact : {gas_estimate}')\n",
    "tx_hash = deployed_contract.functions.provide(0).transact({'to': address,\n",
    "                                                           'from': w3.eth.coinbase,\n",
    "                                                           'value': 12345})\n",
    "receipt = w3.eth.waitForTransactionReceipt(tx_hash)\n",
    "print(\"Transaction receipt mined:\")\n",
    "pprint.pprint(dict(receipt))\n",
    "print(\"\\nWas transaction successful?\")\n",
    "pprint.pprint(receipt[\"status\"])"
   ]
  },
  {
   "cell_type": "code",
   "execution_count": null,
   "metadata": {},
   "outputs": [],
   "source": []
  },
  {
   "cell_type": "code",
   "execution_count": 27,
   "metadata": {},
   "outputs": [
    {
     "data": {
      "text/plain": [
       "'0x1AE50222baaAE579f336bb724C0b4E14F406a732'"
      ]
     },
     "execution_count": 27,
     "metadata": {},
     "output_type": "execute_result"
    }
   ],
   "source": []
  }
 ],
 "metadata": {
  "kernelspec": {
   "display_name": "Python 3",
   "language": "python",
   "name": "python3"
  },
  "language_info": {
   "codemirror_mode": {
    "name": "ipython",
    "version": 3
   },
   "file_extension": ".py",
   "mimetype": "text/x-python",
   "name": "python",
   "nbconvert_exporter": "python",
   "pygments_lexer": "ipython3",
   "version": "3.6.9"
  }
 },
 "nbformat": 4,
 "nbformat_minor": 4
}
