{
 "cells": [
  {
   "cell_type": "code",
   "execution_count": 8,
   "metadata": {},
   "outputs": [],
   "source": [
    "from unittest import TestCase\n",
    "import os, sys\n",
    "import web3\n",
    "\n",
    "\n",
    "# we need access to the database, so we will piggy back off the option monitoring skill\n",
    "\n",
    "\n",
    "os.path.sep.join(os.getcwd().split(os.path.sep))\n",
    "\n",
    "from AutonomousHegician.skills.option_monitoring.db_communication import DBCommunication\n"
   ]
  },
  {
   "cell_type": "code",
   "execution_count": 35,
   "metadata": {},
   "outputs": [
    {
     "data": {
      "text/plain": [
       "[<Option 1>,\n",
       " <Option 2>,\n",
       " <Option 3>,\n",
       " <Option 4>,\n",
       " <Option 5>,\n",
       " <Option 6>,\n",
       " <Option 7>,\n",
       " <Option 8>,\n",
       " <Option 9>,\n",
       " <Option 10>,\n",
       " <Option 11>,\n",
       " <Option 12>,\n",
       " <Option 13>,\n",
       " <Option 14>,\n",
       " <Option 15>,\n",
       " <Option 16>,\n",
       " <Option 17>,\n",
       " <Option 18>]"
      ]
     },
     "execution_count": 35,
     "metadata": {},
     "output_type": "execute_result"
    }
   ],
   "source": [
    "DBCommunication.get_orders()"
   ]
  },
  {
   "cell_type": "code",
   "execution_count": 38,
   "metadata": {},
   "outputs": [],
   "source": [
    "# the ah must be run in demo mode after the hegicContractDeployer has deployed the contracts to a local ganache cli\n",
    "\n",
    "# we first cerate an option within the database\n",
    "\n",
    "\n",
    "\n",
    "order = {\"amount\": web3.Web3.toWei(\"0.1\", \"ether\"),         \n",
    "         \"strike_price\": 200, \n",
    "         \"period\": 60 * 60 * 24 * 2,\n",
    "         \"option_type\": 1,\n",
    "         \"market\": \"ETH\"\n",
    "}\n",
    "\n",
    "\n",
    "class OptionExecutionTester:\n",
    "    def setup():\n",
    "        pass\n",
    "    \n",
    "    def teardown():\n",
    "        # clear all orders from the database\n",
    "        pass\n",
    "    \n",
    "    def test_does_ah_create_eth_call_option():\n",
    "        order = DBCommunication.create_new_option(**order)\n",
    "        print(order)\n",
    "        # now the ah will retrieve this order from the db an execute it.\n",
    "        \n",
    "        \n",
    "        \n",
    "        pass\n",
    "    \n",
    "    def test_does_ah_create_btc_call_option():\n",
    "        pass\n",
    "    \n",
    "    def test_does_ah_create_eth_put_option():\n",
    "        pass\n",
    "    \n",
    "    def test_does_ah_create_btc_put_option():\n",
    "        pass\n",
    "    \n",
    "    def test_does_ah_excercise_eth_call_option():\n",
    "        pass\n",
    "    \n",
    "    def test_does_ah_excercise_btc_call_option():\n",
    "        pass\n",
    "    \n",
    "    def test_does_ah_excercise_eth_put_option():\n",
    "        pass\n",
    "    \n",
    "    def test_does_ah_excercise_btc_put_option():\n",
    "        pass\n",
    "    \n",
    "    \n"
   ]
  },
  {
   "cell_type": "code",
   "execution_count": 5,
   "metadata": {},
   "outputs": [],
   "source": [
    "class AutoITMExcerciseTester:\n",
    "    def setup():\n",
    "        pass\n",
    "    \n",
    "    def teardown():\n",
    "        pass\n",
    "    \n",
    "    "
   ]
  },
  {
   "cell_type": "code",
   "execution_count": null,
   "metadata": {},
   "outputs": [],
   "source": [
    "class TakeProfitExecutionTester:\n",
    "    def setup():\n",
    "        pass\n",
    "    \n",
    "    def teardown():\n",
    "        pass"
   ]
  }
 ],
 "metadata": {
  "kernelspec": {
   "display_name": "Python 3",
   "language": "python",
   "name": "python3"
  },
  "language_info": {
   "codemirror_mode": {
    "name": "ipython",
    "version": 3
   },
   "file_extension": ".py",
   "mimetype": "text/x-python",
   "name": "python",
   "nbconvert_exporter": "python",
   "pygments_lexer": "ipython3",
   "version": "3.6.9"
  }
 },
 "nbformat": 4,
 "nbformat_minor": 4
}
