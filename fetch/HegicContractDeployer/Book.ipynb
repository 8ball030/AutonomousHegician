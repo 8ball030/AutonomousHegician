{
 "cells": [
  {
   "cell_type": "code",
   "execution_count": 1,
   "metadata": {},
   "outputs": [],
   "source": [
    "import yaml"
   ]
  },
  {
   "cell_type": "code",
   "execution_count": 8,
   "metadata": {},
   "outputs": [
    {
     "name": "stderr",
     "output_type": "stream",
     "text": [
      "/home/tom/.local/lib/python3.6/site-packages/ipykernel_launcher.py:5: YAMLLoadWarning: calling yaml.load() without Loader=... is deprecated, as the default Loader is unsafe. Please read https://msg.pyyaml.org/load for full details.\n",
      "  \"\"\"\n"
     ]
    }
   ],
   "source": [
    "import json\n",
    "\n",
    "path = \"./skills/hegic_deployer/skill.yaml\"\n",
    "with open(path) as f:\n",
    "    i = yaml.load(f.read())\n",
    "    \n",
    "to_clear = [\n",
    "    'btcoptions',\n",
    "    'btcpool',\n",
    "    'btcpriceprovider',\n",
    "    'ethoptions',\n",
    "    'ethpool',\n",
    "    'exchange',\n",
    "    'hegic',\n",
    "    # 'ledger_id',\n",
    "    'priceprovider',\n",
    "    'stakingeth',\n",
    "    'stakingwbtc',\n",
    "    'wbtc'\n",
    "]\n",
    "new_params = {k:\"\" for k, v in i['models']['strategy']['args'].items() if k in to_clear}\n",
    "\n",
    "\n",
    "i['models']['strategy']['args'].update(new_params)\n",
    "\n",
    "\n",
    "with open(path, \"w\") as f:\n",
    "    yaml.dump(i, f)\n"
   ]
  },
  {
   "cell_type": "code",
   "execution_count": 7,
   "metadata": {},
   "outputs": [
    {
     "data": {
      "text/plain": [
       "{'aea_version': '>=0.6.0, <0.7.0',\n",
       " 'author': 'eightballer',\n",
       " 'behaviours': {'service_registration': {'args': {'services_interval': 0.0001},\n",
       "   'class_name': 'ServiceRegistrationBehaviour'}},\n",
       " 'contracts': ['eightballer/hegic:0.1.0',\n",
       "  'eightballer/wbtc:0.1.0',\n",
       "  'eightballer/priceprovider:0.1.0',\n",
       "  'eightballer/btcpriceprovider:0.1.0',\n",
       "  'eightballer/exchange:0.1.0',\n",
       "  'eightballer/ethoptions:0.1.0',\n",
       "  'eightballer/btcoptions:0.1.0',\n",
       "  'eightballer/stakingeth:0.1.0',\n",
       "  'eightballer/stakingwbtc:0.1.0',\n",
       "  'eightballer/ethpool:0.1.0',\n",
       "  'eightballer/btcpool:0.1.0'],\n",
       " 'dependencies': {'vyper': {'version': '==0.1.0b12'}},\n",
       " 'description': 'The hegic deploy skill has the ability to deploy and interact with the smart contracts.',\n",
       " 'fingerprint': {'README.md': 'QmZ7swVkRpmJbJZ2NoLb9CWwH8p3QjnjRJg71UbAXdrKyx',\n",
       "  '__init__.py': 'Qmbm3ZtGpfdvvzqykfRqbaReAK9a16mcyK7qweSfeN5pq1',\n",
       "  'behaviours.py': 'QmcbdaVyi5EKWsixvu4NoetAeYS52kMQDGfszm3zv53jF8',\n",
       "  'dialogues.py': 'QmcCbdxFM4SX3MgXDxxbsC66gp8QK3C4W2czniQ5oDNc7G',\n",
       "  'handlers.py': 'QmNqRH2mBtgUBYubAb3he28kAkgkEUEybN5JbHnunrgCpK',\n",
       "  'strategy.py': 'QmdNpHfQNbyx9HYjNLzhjPtehTkc9vT24FkaYzBWDpDppB'},\n",
       " 'fingerprint_ignore_patterns': [],\n",
       " 'handlers': {'contract_api': {'args': {}, 'class_name': 'ContractApiHandler'},\n",
       "  'fipa': {'args': {}, 'class_name': 'FipaHandler'},\n",
       "  'ledger_api': {'args': {}, 'class_name': 'LedgerApiHandler'},\n",
       "  'oef_search': {'args': {}, 'class_name': 'OefSearchHandler'},\n",
       "  'signing': {'args': {}, 'class_name': 'SigningHandler'}},\n",
       " 'is_abstract': False,\n",
       " 'license': 'Apache-2.0',\n",
       " 'models': {'contract_api_dialogues': {'args': {},\n",
       "   'class_name': 'ContractApiDialogues'},\n",
       "  'default_dialogues': {'args': {}, 'class_name': 'DefaultDialogues'},\n",
       "  'fipa_dialogues': {'args': {}, 'class_name': 'FipaDialogues'},\n",
       "  'ledger_api_dialogues': {'args': {}, 'class_name': 'LedgerApiDialogues'},\n",
       "  'oef_search_dialogues': {'args': {}, 'class_name': 'OefSearchDialogues'},\n",
       "  'signing_dialogues': {'args': {}, 'class_name': 'SigningDialogues'},\n",
       "  'strategy': {'args': {'btcoptions': '',\n",
       "    'btcpool': '',\n",
       "    'btcpriceprovider': '',\n",
       "    'ethoptions': '',\n",
       "    'ethpool': '',\n",
       "    'exchange': '',\n",
       "    'hegic': '',\n",
       "    'ledger_id': 'ethereum',\n",
       "    'priceprovider': '',\n",
       "    'stakingeth': '',\n",
       "    'stakingwbtc': '',\n",
       "    'wbtc': ''},\n",
       "   'class_name': 'Strategy'}},\n",
       " 'name': 'hegic_deployer',\n",
       " 'protocols': ['fetchai/contract_api:0.4.0',\n",
       "  'fetchai/default:0.5.0',\n",
       "  'fetchai/fipa:0.6.0',\n",
       "  'fetchai/ledger_api:0.3.0',\n",
       "  'fetchai/oef_search:0.6.0',\n",
       "  'fetchai/signing:0.3.0'],\n",
       " 'skills': [],\n",
       " 'type': 'skill',\n",
       " 'version': '0.1.0'}"
      ]
     },
     "execution_count": 7,
     "metadata": {},
     "output_type": "execute_result"
    }
   ],
   "source": [
    "i"
   ]
  },
  {
   "cell_type": "code",
   "execution_count": null,
   "metadata": {},
   "outputs": [],
   "source": [
    "\n"
   ]
  }
 ],
 "metadata": {
  "kernelspec": {
   "display_name": "Python 3",
   "language": "python",
   "name": "python3"
  },
  "language_info": {
   "codemirror_mode": {
    "name": "ipython",
    "version": 3
   },
   "file_extension": ".py",
   "mimetype": "text/x-python",
   "name": "python",
   "nbconvert_exporter": "python",
   "pygments_lexer": "ipython3",
   "version": "3.6.9"
  }
 },
 "nbformat": 4,
 "nbformat_minor": 4
}
