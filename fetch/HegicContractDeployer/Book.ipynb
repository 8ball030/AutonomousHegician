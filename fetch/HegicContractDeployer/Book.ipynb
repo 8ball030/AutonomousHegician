{
 "cells": [
  {
   "cell_type": "code",
   "execution_count": 2,
   "metadata": {},
   "outputs": [],
   "source": [
    "import yaml"
   ]
  },
  {
   "cell_type": "code",
   "execution_count": 3,
   "metadata": {},
   "outputs": [
    {
     "name": "stderr",
     "output_type": "stream",
     "text": [
      "/home/tom/.local/lib/python3.6/site-packages/ipykernel_launcher.py:5: YAMLLoadWarning: calling yaml.load() without Loader=... is deprecated, as the default Loader is unsafe. Please read https://msg.pyyaml.org/load for full details.\n",
      "  \"\"\"\n"
     ]
    }
   ],
   "source": [
    "import json\n",
    "\n",
    "path = \"./skills/hegic_deployer/skill.yaml\"\n",
    "with open(path) as f:\n",
    "    i = yaml.load(f.read())\n",
    "    \n",
    "to_clear = [\n",
    "    'btcoptions',\n",
    "    'btcpool',\n",
    "    'btcpriceprovider',\n",
    "    'ethoptions',\n",
    "    'ethpool',\n",
    "    'exchange',\n",
    "    'hegic',\n",
    "    # 'ledger_id',\n",
    "    'priceprovider',\n",
    "    'stakingeth',\n",
    "    'stakingwbtc',\n",
    "    'wbtc'\n",
    "]\n",
    "new_params = {k:\"\" for k, v in i['models']['strategy']['args'].items() if k in to_clear}\n",
    "\n",
    "\n",
    "i['models']['strategy']['args'].update(new_params)\n",
    "\n",
    "\n",
    "with open(path, \"w\") as f:\n",
    "    yaml.dump(i, f)\n"
   ]
  },
  {
   "cell_type": "code",
   "execution_count": null,
   "metadata": {},
   "outputs": [],
   "source": []
  },
  {
   "cell_type": "code",
   "execution_count": null,
   "metadata": {},
   "outputs": [],
   "source": [
    "\n"
   ]
  }
 ],
 "metadata": {
  "kernelspec": {
   "display_name": "Python 3",
   "language": "python",
   "name": "python3"
  },
  "language_info": {
   "codemirror_mode": {
    "name": "ipython",
    "version": 3
   },
   "file_extension": ".py",
   "mimetype": "text/x-python",
   "name": "python",
   "nbconvert_exporter": "python",
   "pygments_lexer": "ipython3",
   "version": "3.6.9"
  }
 },
 "nbformat": 4,
 "nbformat_minor": 4
}
