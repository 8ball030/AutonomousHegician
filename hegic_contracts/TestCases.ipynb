{
 "cells": [
  {
   "cell_type": "markdown",
   "metadata": {},
   "source": [
    "# The purpose of this workbook is to show the tests cases executed\n"
   ]
  },
  {
   "cell_type": "markdown",
   "metadata": {},
   "source": [
    "[Contract Reference from David](https://github.com/fetchai/agents-aea/blob/10bc452827487403d65c6c4bc6b3ad985c269997/docs/contract.md)"
   ]
  },
  {
   "cell_type": "markdown",
   "metadata": {},
   "source": [
    "# Understanding of The flow\n",
    "\n",
    "The ledger API connection skill handles the [ContractApiMessage]() object\n",
    "\n",
    "The [Contract](https://github.com/fetchai/agents-aea/blob/10bc452827487403d65c6c4bc6b3ad985c269997/aea/contracts/base.py)\n",
    "class handles the ContractAPIMessage. \n",
    "\n",
    "The contract class we implement within the AEA contract.py  file within the contract class of the AEA inheirts from this object, so we therefore have all of its available methods\n",
    "\n",
    "Based on the referenced documentation, we would need to impl"
   ]
  },
  {
   "cell_type": "code",
   "execution_count": 4,
   "metadata": {},
   "outputs": [],
   "source": [
    "# Now, this will get passed to the provide liquidity function of my own contract.py"
   ]
  },
  {
   "cell_type": "code",
   "execution_count": null,
   "metadata": {},
   "outputs": [],
   "source": [
    "    @classmethod\n",
    "    def provide_liquidity(\n",
    "            cls,\n",
    "            ledger_api: LedgerApi,\n",
    "            contract_address: Address,\n",
    "            deployer_address: Address,\n",
    "            amount: int,\n",
    "            gas: int = 60000000,\n",
    "    ) -> Dict[str, Any]:\n",
    "        \"\"\"\n",
    "        Get the transaction to create a batch of tokens.\n",
    "\n",
    "        :param ledger_api: the ledger API\n",
    "        :param deployer_address: the address of the deployer\n",
    "        :param amount: the arguments\n",
    "        :param gas: the gas to be used\n",
    "        :return: the transaction object\n",
    "        \"\"\"\n",
    "        logger.info(f\"******************************** just about to creat contract {deployer_address} type {type(deployer_address)}\")\n",
    "        nonce = ledger_api.api.eth.getTransactionCount(deployer_address)\n",
    "        instance = cls.get_instance(ledger_api, contract_address)\n",
    "        logger.info(f\"************instance created:\")\n",
    "        tx = instance.functions.provide(amount).buildTransaction({\n",
    "            \"gas\": gas,\n",
    "            \"gasPrice\":ledger_api.api.toWei(\"50\", \"gwei\"),\n",
    "            \"nonce\": nonce,\n",
    "        })\n",
    "        logger.info(f\"************tx created:\")\n",
    "        tx = cls._try_estimate_gas(ledger_api, tx)\n",
    "        logger.info(f\"************ gas estimated:\")\n",
    "\n",
    "        return tx  #return #"
   ]
  },
  {
   "cell_type": "code",
   "execution_count": null,
   "metadata": {},
   "outputs": [],
   "source": [
    "# This is based on the following method\n",
    "   @classmethod\n",
    "    def get_create_batch_transaction(\n",
    "        cls,\n",
    "        ledger_api: LedgerApi,\n",
    "        contract_address: Address,\n",
    "        deployer_address: Address,\n",
    "        token_ids: List[int],\n",
    "        data: Optional[bytes] = b\"\",\n",
    "        gas: int = 300000,\n",
    "    ) -> Dict[str, Any]:\n",
    "        \"\"\"\n",
    "        Get the transaction to create a batch of tokens.\n",
    "        :param ledger_api: the ledger API\n",
    "        :param contract_address: the address of the contract\n",
    "        :param deployer_address: the address of the deployer\n",
    "        :param token_ids: the list of token ids for creation\n",
    "        :param data: the data to include in the transaction\n",
    "        :param gas: the gas to be used\n",
    "        :return: the transaction object\n",
    "        \"\"\"\n",
    "        # create the transaction dict\n",
    "        nonce = ledger_api.api.eth.getTransactionCount(deployer_address)\n",
    "        instance = cls.get_instance(ledger_api, contract_address)\n",
    "        tx = instance.functions.createBatch(\n",
    "            deployer_address, token_ids\n",
    "        ).buildTransaction(\n",
    "            {\n",
    "                \"gas\": gas,\n",
    "                \"gasPrice\": ledger_api.api.toWei(\"50\", \"gwei\"),\n",
    "                \"nonce\": nonce,\n",
    "            }\n",
    "        )\n",
    "        tx = cls._try_estimate_gas(ledger_api, tx)\n",
    "        return tx"
   ]
  },
  {
   "cell_type": "code",
   "execution_count": 15,
   "metadata": {},
   "outputs": [
    {
     "name": "stdout",
     "output_type": "stream",
     "text": [
      "/home/tom/Desktop/Medium\n"
     ]
    }
   ],
   "source": [
    "cp defi_cefi_bridge/tontine/hedge-contracts-v1/con"
   ]
  },
  {
   "cell_type": "code",
   "execution_count": 1,
   "metadata": {},
   "outputs": [
    {
     "data": {
      "text/plain": [
       "True"
      ]
     },
     "execution_count": 1,
     "metadata": {},
     "output_type": "execute_result"
    }
   ],
   "source": [
    "from web3 import Web3\n",
    "\n",
    "w3 = Web3(Web3.HTTPProvider('http://127.0.0.1:7545'))\n",
    "w3.isConnected()"
   ]
  },
  {
   "cell_type": "code",
   "execution_count": 3,
   "metadata": {},
   "outputs": [
    {
     "name": "stdout",
     "output_type": "stream",
     "text": [
      "0xd45E8Cbb5A04C5e98CEb29d8ad9147Ee0D0F3Ec2\n",
      "Deploying Contract /home/tom/Desktop/Medium/fetch_playground/hegic_contracts/contracts/TestContracts.sol:FakeUSD\n",
      "Deployed /home/tom/Desktop/Medium/fetch_playground/hegic_contracts/contracts/TestContracts.sol:FakeUSD to: 0x4dfF2aB8Fd59bd2901cf30F29141fa4170a11B99 using 1195059 gas.\n",
      "Address and interface ABI for /home/tom/Desktop/Medium/fetch_playground/hegic_contracts/contracts/TestContracts.sol:FakeUSD written to /home/tom/Desktop/Medium/fetch_playground/hegic_contracts/deployment_variables.json\n",
      "\n",
      "Deploying Contract /home/tom/Desktop/Medium/fetch_playground/hegic_contracts/contracts/TestContracts.sol:FakePriceProvider\n",
      "Deployed /home/tom/Desktop/Medium/fetch_playground/hegic_contracts/contracts/TestContracts.sol:FakePriceProvider to: 0x6C05379787382E4D1a26a841c312e5cF01DA1D1A using 127118 gas.\n",
      "Address and interface ABI for /home/tom/Desktop/Medium/fetch_playground/hegic_contracts/contracts/TestContracts.sol:FakePriceProvider written to /home/tom/Desktop/Medium/fetch_playground/hegic_contracts/deployment_variables.json\n",
      "\n",
      "Deploying Contract /home/tom/Desktop/Medium/fetch_playground/hegic_contracts/contracts/TestContracts.sol:FakeExchange\n",
      "Deployed /home/tom/Desktop/Medium/fetch_playground/hegic_contracts/contracts/TestContracts.sol:FakeExchange to: 0x6bD981e20d7A8A880E5cEea68f163d3091A998F8 using 555739 gas.\n",
      "Address and interface ABI for /home/tom/Desktop/Medium/fetch_playground/hegic_contracts/contracts/TestContracts.sol:FakeExchange written to /home/tom/Desktop/Medium/fetch_playground/hegic_contracts/deployment_variables.json\n",
      "\n",
      "Deploying Contract /home/tom/Desktop/Medium/fetch_playground/hegic_contracts/contracts/HegicCallOptions.sol:HegicCallOptions\n",
      "Deployed /home/tom/Desktop/Medium/fetch_playground/hegic_contracts/contracts/HegicCallOptions.sol:HegicCallOptions to: 0xeB5aE94ABb2f545ee405318D93dA1C6749F50f2c using 5195468 gas.\n",
      "Address and interface ABI for /home/tom/Desktop/Medium/fetch_playground/hegic_contracts/contracts/HegicCallOptions.sol:HegicCallOptions written to /home/tom/Desktop/Medium/fetch_playground/hegic_contracts/deployment_variables.json\n",
      "\n",
      "Deploying Contract /home/tom/Desktop/Medium/fetch_playground/hegic_contracts/contracts/HegicPutOptions.sol:HegicPutOptions\n",
      "Deployed /home/tom/Desktop/Medium/fetch_playground/hegic_contracts/contracts/HegicPutOptions.sol:HegicPutOptions to: 0xB08E3CA8Bb573B6a356DFd93d40932C864180841 using 6100241 gas.\n",
      "Address and interface ABI for /home/tom/Desktop/Medium/fetch_playground/hegic_contracts/contracts/HegicPutOptions.sol:HegicPutOptions written to /home/tom/Desktop/Medium/fetch_playground/hegic_contracts/deployment_variables.json\n",
      "\n",
      "Deploying Contract /home/tom/Desktop/Medium/fetch_playground/hegic_contracts/contracts/HegicERCPool.sol:HegicERCPool\n",
      "Deployed /home/tom/Desktop/Medium/fetch_playground/hegic_contracts/contracts/HegicERCPool.sol:HegicERCPool to: 0x9661ce56DE5f4F693A31C8353aD62eAA35669e9E using 3143334 gas.\n",
      "Address and interface ABI for /home/tom/Desktop/Medium/fetch_playground/hegic_contracts/contracts/HegicERCPool.sol:HegicERCPool written to /home/tom/Desktop/Medium/fetch_playground/hegic_contracts/deployment_variables.json\n",
      "\n",
      "Deploying Contract /home/tom/Desktop/Medium/fetch_playground/hegic_contracts/contracts/HegicETHPool.sol:HegicETHPool\n",
      "Deployed /home/tom/Desktop/Medium/fetch_playground/hegic_contracts/contracts/HegicETHPool.sol:HegicETHPool to: 0xdEFe561eA4f95d957A0199C26cfCFa1aF6EF31f6 using 2828527 gas.\n",
      "Address and interface ABI for /home/tom/Desktop/Medium/fetch_playground/hegic_contracts/contracts/HegicETHPool.sol:HegicETHPool written to /home/tom/Desktop/Medium/fetch_playground/hegic_contracts/deployment_variables.json\n",
      "\n",
      "All Deployed!\n",
      "Contract deployed at 0x6C05379787382E4D1a26a841c312e5cF01DA1D1A. This function returns an instance object.\n",
      "Latest Price : 20000000000\n",
      "Latest Price : 200\n",
      "Contract deployed at 0xeB5aE94ABb2f545ee405318D93dA1C6749F50f2c. This function returns an instance object.\n",
      "retrieving .. ethpool from address 0x832BAB2cEF9B61250531e002C1A1Dc1081c18bfF\n",
      "Total Supply :  0\n",
      "Total balance  0\n",
      "Providing liqudity..\n",
      "Total Supply :  1000000000000000000000\n",
      "Total balance  1000000000000000000\n",
      "Option id: 0\n",
      "Excercsied 0 : b'\\x08p\\x01\\x16\\x88\\x92\\x10-5\\xc9\\x96Q\\x90rr\\xe1\\x80\\x11\\xd0#\\x8e \\x06\\xf3\\x17\\xda\\x1df\\xd5\\xbe\\xc0/'\n",
      "Contract deployed at 0xeB5aE94ABb2f545ee405318D93dA1C6749F50f2c. This function returns an instance object.\n",
      "Contract : StableCoin @ address 0x4dfF2aB8Fd59bd2901cf30F29141fa4170a11B99\n",
      "Contract : PriceFeed @ address 0x6C05379787382E4D1a26a841c312e5cF01DA1D1A\n",
      "Contract : Exchange @ address 0x6bD981e20d7A8A880E5cEea68f163d3091A998F8\n",
      "Contract : HegicCallOptions @ address 0xeB5aE94ABb2f545ee405318D93dA1C6749F50f2c\n",
      "Contract : HegicPutOptions @ address 0xB08E3CA8Bb573B6a356DFd93d40932C864180841\n",
      "Contract : HegicERCPool @ address 0x9661ce56DE5f4F693A31C8353aD62eAA35669e9E\n",
      "Contract : HegicETHPool @ address 0x832BAB2cEF9B61250531e002C1A1Dc1081c18bfF\n",
      "      stablecoin: '0x4dfF2aB8Fd59bd2901cf30F29141fa4170a11B99'\n",
      "      pricefeed: '0x6C05379787382E4D1a26a841c312e5cF01DA1D1A'\n",
      "      exchange: '0x6bD981e20d7A8A880E5cEea68f163d3091A998F8'\n",
      "      calloptions: '0xeB5aE94ABb2f545ee405318D93dA1C6749F50f2c'\n",
      "      putoptions: '0xB08E3CA8Bb573B6a356DFd93d40932C864180841'\n",
      "      ercpool: '0x9661ce56DE5f4F693A31C8353aD62eAA35669e9E'\n",
      "      ethpool: '0x832BAB2cEF9B61250531e002C1A1Dc1081c18bfF'\n"
     ]
    }
   ],
   "source": [
    "!python3 HegicOptionsDeploy.py"
   ]
  },
  {
   "cell_type": "code",
   "execution_count": 19,
   "metadata": {},
   "outputs": [
    {
     "name": "stdout",
     "output_type": "stream",
     "text": [
      "/home/tom/Desktop/Medium/fetch_playground/fetch\n"
     ]
    }
   ],
   "source": [
    "cd fetch_playground/fetch/"
   ]
  },
  {
   "cell_type": "code",
   "execution_count": 5,
   "metadata": {},
   "outputs": [
    {
     "name": "stdout",
     "output_type": "stream",
     "text": [
      "\u001b[0m\u001b[01;34mcontracts\u001b[0m/                 HegicOptionsDeploy.py  \u001b[01;34m__pycache__\u001b[0m/\n",
      "deployment_variables.json  interface.py           TestCases.ipynb\n"
     ]
    }
   ],
   "source": [
    "ls"
   ]
  },
  {
   "cell_type": "code",
   "execution_count": 9,
   "metadata": {},
   "outputs": [
    {
     "name": "stdout",
     "output_type": "stream",
     "text": [
      "aea-config.yaml  data_store.py        input_file   \u001b[0m\u001b[01;34mprotocols\u001b[0m/  \u001b[01;34mvendor\u001b[0m/\n",
      "\u001b[01;34mcontracts\u001b[0m/       eth_private_key.txt  output_file  \u001b[01;34mskills\u001b[0m/\n"
     ]
    }
   ],
   "source": [
    "ls ../fetch/AutonomousHegician/"
   ]
  },
  {
   "cell_type": "code",
   "execution_count": 60,
   "metadata": {},
   "outputs": [
    {
     "data": {
      "text/plain": [
       "'0x3603eF1deFE832c271BF14B4D7a8c38eaa31FF59'"
      ]
     },
     "execution_count": 60,
     "metadata": {},
     "output_type": "execute_result"
    }
   ],
   "source": [
    "with open(\"../fetch/AutonomousHegician/contracts/ethpool/build/contracts/HegicPutOptions.json\", \"r\") as f:\n",
    "    import json \n",
    "    c = json.loads(f.read())\n",
    "    \n",
    "\n",
    "address = \"0x5Febf1fd482a3b525C2A3F54B21955FbD508A61B\"\n",
    "address = \"0xB08E3CA8Bb573B6a356DFd93d40932C864180841\"\n",
    "sum_add = Web3.toChecksumAddress(address)\n",
    "\n",
    "\n",
    "puts_deployed_contract = w3.eth.contract(address=sum_add,\n",
    "                                    abi=c[\"abi\"]\n",
    "                                   )\n",
    "# get the erc pool for the deployed put option.\n",
    "puts_deployed_contract.functions.pool().call({\"value\": 0})"
   ]
  },
  {
   "cell_type": "code",
   "execution_count": 28,
   "metadata": {},
   "outputs": [
    {
     "data": {
      "text/plain": [
       "'0xd45E8Cbb5A04C5e98CEb29d8ad9147Ee0D0F3Ec2'"
      ]
     },
     "execution_count": 28,
     "metadata": {},
     "output_type": "execute_result"
    }
   ],
   "source": [
    " w3.eth.coinbase"
   ]
  },
  {
   "cell_type": "code",
   "execution_count": 61,
   "metadata": {},
   "outputs": [
    {
     "name": "stdout",
     "output_type": "stream",
     "text": [
      "129104000000\n"
     ]
    }
   ],
   "source": [
    "with open(\"../fetch/AutonomousHegician/contracts/stablecoin/build/contracts/FakeUSD.json\", \"r\") as f:\n",
    "    import json \n",
    "    c = json.loads(f.read())\n",
    "    \n",
    "\n",
    "address = \"0x4dfF2aB8Fd59bd2901cf30F29141fa4170a11B99\"\n",
    "sum_add = Web3.toChecksumAddress(address)\n",
    "\n",
    "\n",
    "erc_deployed_contract = w3.eth.contract(address=sum_add,\n",
    "                                    abi=c[\"abi\"]\n",
    "                                   )\n",
    "# get the erc pool for the deployed put option.\n",
    "erc_deployed_contract.functions.mint(10000000000).transact({\"from\": w3.eth.coinbase,\n",
    "                                                 })\n",
    "# print(dir(deployed_contract.functions.allowance().call()))\n",
    "print(erc_deployed_contract.functions.balanceOf(w3.eth.coinbase).call())"
   ]
  },
  {
   "cell_type": "code",
   "execution_count": 62,
   "metadata": {},
   "outputs": [
    {
     "name": "stdout",
     "output_type": "stream",
     "text": [
      "ERC Pool: ['__class__', '__delattr__', '__dict__', '__dir__', '__doc__', '__eq__', '__format__', '__ge__', '__getattr__', '__getattribute__', '__getitem__', '__gt__', '__hasattr__', '__hash__', '__init__', '__init_subclass__', '__iter__', '__le__', '__lt__', '__module__', '__ne__', '__new__', '__reduce__', '__reduce_ex__', '__repr__', '__setattr__', '__sizeof__', '__str__', '__subclasshook__', '__weakref__', '_functions', 'abi', 'address', 'allowance', 'approve', 'availableBalance', 'balanceOf', 'decimals', 'decreaseAllowance', 'increaseAllowance', 'lock', 'lockedAmount', 'lockedPremium', 'lockupPeriod', 'name', 'owner', 'provide', 'renounceOwnership', 'send', 'sendPremium', 'setLockupPeriod', 'shareOf', 'symbol', 'token', 'totalBalance', 'totalSupply', 'transfer', 'transferFrom', 'transferOwnership', 'unlock', 'unlockPremium', 'web3', 'withdraw']\n",
      "0x3603eF1deFE832c271BF14B4D7a8c38eaa31FF59\n"
     ]
    },
    {
     "data": {
      "text/plain": [
       "HexBytes('0xc464cc6a374a9f901d0c482b07fbd60a01224e7ed4aa6b2d5082d5952805fd3d')"
      ]
     },
     "execution_count": 62,
     "metadata": {},
     "output_type": "execute_result"
    }
   ],
   "source": [
    "# create some erc <-\n",
    "# send it to the pool\n",
    "\n",
    "with open(\"../fetch/AutonomousHegician/contracts/stablecoin/build/contracts/HegicERCPool.json\", \"r\") as f:\n",
    "    import json \n",
    "    c = json.loads(f.read())\n",
    "    \n",
    "\n",
    "address = \"0x3603eF1deFE832c271BF14B4D7a8c38eaa31FF59\"\n",
    "sum_add = Web3.toChecksumAddress(address)\n",
    "\n",
    "\n",
    "deployed_contract = w3.eth.contract(address=sum_add,\n",
    "                                    abi=c[\"abi\"]\n",
    "                                   )\n",
    "\n",
    "\n",
    "print(f\"ERC Pool: {dir(deployed_contract.functions)}\") #\"# get the erc pool for the deployed put option.\n",
    "\n",
    "# function approve(address spender, uint256 amount)\n",
    "\n",
    "amount = 10000000000\n",
    "# get the erc pool for the deployed put option.\n",
    "\n",
    "print(puts_deployed_contract.functions.pool().call({\"value\": 0}))\n",
    "erc_deployed_contract.functions.mint(amount).transact({\"from\": w3.eth.coinbase})\n",
    "erc_deployed_contract.functions.approve(sum_add, int(amount / 10)).transact({\"from\": w3.eth.coinbase})\n",
    "deployed_contract.functions.provide(int(amount / 10), 0).transact({\"from\": w3.eth.coinbase})"
   ]
  },
  {
   "cell_type": "code",
   "execution_count": null,
   "metadata": {},
   "outputs": [],
   "source": []
  },
  {
   "cell_type": "code",
   "execution_count": 16,
   "metadata": {},
   "outputs": [
    {
     "ename": "FileNotFoundError",
     "evalue": "[Errno 2] No such file or directory: '../fetch/AutonomousHegician/contracts/ethpool/build/contracts/TestContracts.json'",
     "output_type": "error",
     "traceback": [
      "\u001b[0;31m---------------------------------------------------------------------------\u001b[0m",
      "\u001b[0;31mFileNotFoundError\u001b[0m                         Traceback (most recent call last)",
      "\u001b[0;32m<ipython-input-16-4db00de64fa8>\u001b[0m in \u001b[0;36m<module>\u001b[0;34m\u001b[0m\n\u001b[0;32m----> 1\u001b[0;31m \u001b[0;32mwith\u001b[0m \u001b[0mopen\u001b[0m\u001b[0;34m(\u001b[0m\u001b[0;34m\"../fetch/AutonomousHegician/contracts/ethpool/build/contracts/TestContracts.json\"\u001b[0m\u001b[0;34m,\u001b[0m \u001b[0;34m\"r\"\u001b[0m\u001b[0;34m)\u001b[0m \u001b[0;32mas\u001b[0m \u001b[0mf\u001b[0m\u001b[0;34m:\u001b[0m\u001b[0;34m\u001b[0m\u001b[0;34m\u001b[0m\u001b[0m\n\u001b[0m\u001b[1;32m      2\u001b[0m     \u001b[0;32mimport\u001b[0m \u001b[0mjson\u001b[0m\u001b[0;34m\u001b[0m\u001b[0;34m\u001b[0m\u001b[0m\n\u001b[1;32m      3\u001b[0m     \u001b[0mc\u001b[0m \u001b[0;34m=\u001b[0m \u001b[0mjson\u001b[0m\u001b[0;34m.\u001b[0m\u001b[0mloads\u001b[0m\u001b[0;34m(\u001b[0m\u001b[0mf\u001b[0m\u001b[0;34m.\u001b[0m\u001b[0mread\u001b[0m\u001b[0;34m(\u001b[0m\u001b[0;34m)\u001b[0m\u001b[0;34m)\u001b[0m\u001b[0;34m\u001b[0m\u001b[0;34m\u001b[0m\u001b[0m\n\u001b[1;32m      4\u001b[0m \u001b[0;34m\u001b[0m\u001b[0m\n\u001b[1;32m      5\u001b[0m \u001b[0;34m\u001b[0m\u001b[0m\n",
      "\u001b[0;31mFileNotFoundError\u001b[0m: [Errno 2] No such file or directory: '../fetch/AutonomousHegician/contracts/ethpool/build/contracts/TestContracts.json'"
     ]
    }
   ],
   "source": [
    "with open(\"../fetch/AutonomousHegician/contracts/ethpool/build/contracts/TestContracts.json\", \"r\") as f:\n",
    "    import json \n",
    "    c = json.loads(f.read())\n",
    "    \n",
    "\n",
    "address = \"0x5Febf1fd482a3b525C2A3F54B21955FbD508A61B\"\n",
    "address = \"0xB08E3CA8Bb573B6a356DFd93d40932C864180841\"\n",
    "sum_add = Web3.toChecksumAddress(address)\n",
    "\n",
    "\n",
    "deployed_contract = w3.eth.contract(address=sum_add,\n",
    "                                    abi=c[\"abi\"]\n",
    "                                   )\n",
    "# get the erc pool for the deployed put option.\n",
    "deployed_contract.functions.pool().call({\"value\": 0})"
   ]
  },
  {
   "cell_type": "code",
   "execution_count": null,
   "metadata": {},
   "outputs": [],
   "source": []
  },
  {
   "cell_type": "code",
   "execution_count": null,
   "metadata": {},
   "outputs": [],
   "source": []
  },
  {
   "cell_type": "code",
   "execution_count": 4,
   "metadata": {},
   "outputs": [],
   "source": [
    "\n",
    "import sys\n",
    "import time\n",
    "import pprint\n",
    "from web3 import Web3\n"
   ]
  },
  {
   "cell_type": "code",
   "execution_count": 181,
   "metadata": {},
   "outputs": [
    {
     "data": {
      "text/plain": [
       "10000000"
      ]
     },
     "execution_count": 181,
     "metadata": {},
     "output_type": "execute_result"
    }
   ],
   "source": [
    "with open(\"AutonomousHegician/contracts/ethpool/build/contracts/HegicETHPool.json\", \"r\") as f:\n",
    "    import json \n",
    "    c = json.loads(f.read())\n",
    "    \n",
    "\n",
    "address = \"0x5Febf1fd482a3b525C2A3F54B21955FbD508A61B\"\n",
    "address = \"0xeB5aE94ABb2f545ee405318D93dA1C6749F50f2c\"\n",
    "sum_add = Web3.toChecksumAddress(address)\n",
    "\n",
    "\n",
    "deployed_contract = w3.eth.contract(address=sum_add,\n",
    "                                    abi=c[\"abi\"]\n",
    "                                   )\n",
    "\n",
    "deployed_contract_pool.functions.provide(0).call({\"value\": 10000})"
   ]
  },
  {
   "cell_type": "code",
   "execution_count": 193,
   "metadata": {},
   "outputs": [
    {
     "name": "stdout",
     "output_type": "stream",
     "text": [
      "Transaction receipt mined:\n",
      "{'blockHash': HexBytes('0x0410ad8057473d183f8599e2f17e5dafe6f15f6140ad54f863fc3128b7611404'),\n",
      " 'blockNumber': 535,\n",
      " 'contractAddress': None,\n",
      " 'cumulativeGasUsed': 46503,\n",
      " 'from': '0xd45E8Cbb5A04C5e98CEb29d8ad9147Ee0D0F3Ec2',\n",
      " 'gasUsed': 46503,\n",
      " 'logs': [AttributeDict({'logIndex': 0, 'transactionIndex': 0, 'transactionHash': HexBytes('0x6294e7597b90594e75bc24bceb0136ff0123074a2aa410712ff115107d4f36ed'), 'blockHash': HexBytes('0x0410ad8057473d183f8599e2f17e5dafe6f15f6140ad54f863fc3128b7611404'), 'blockNumber': 535, 'address': '0x193e448a43f074b96a55215F933445F1967Bbc83', 'data': '0x0000000000000000000000000000000000000000000000000000000000bc5ea8', 'topics': [HexBytes('0xddf252ad1be2c89b69c2b068fc378daa952ba7f163c4a11628f55a4df523b3ef'), HexBytes('0x0000000000000000000000000000000000000000000000000000000000000000'), HexBytes('0x000000000000000000000000d45e8cbb5a04c5e98ceb29d8ad9147ee0d0f3ec2')], 'type': 'mined'}),\n",
      "          AttributeDict({'logIndex': 1, 'transactionIndex': 0, 'transactionHash': HexBytes('0x6294e7597b90594e75bc24bceb0136ff0123074a2aa410712ff115107d4f36ed'), 'blockHash': HexBytes('0x0410ad8057473d183f8599e2f17e5dafe6f15f6140ad54f863fc3128b7611404'), 'blockNumber': 535, 'address': '0x193e448a43f074b96a55215F933445F1967Bbc83', 'data': '0x00000000000000000000000000000000000000000000000000000000000030390000000000000000000000000000000000000000000000000000000000bc5ea8', 'topics': [HexBytes('0x4089141ea5e4c16575f5ebf65f1786497ea07c175846fc7745ef8d8986a4ff65'), HexBytes('0x000000000000000000000000d45e8cbb5a04c5e98ceb29d8ad9147ee0d0f3ec2')], 'type': 'mined'})],\n",
      " 'logsBloom': HexBytes('0x00000000000000000000000000000000000000000000000000000400000000000000000000000000000000000000200000010000000000000000000000000000000000000000000000000008000000000000000000000000000000000000000000000000020000000002000000000800000000000000000000000010000000000000000000000000000000000000000000000000000000000200000000000000000000000000000400000000000000000000000000000000000000000000000000800402000000000000000000000000000000000000000000000000000020000000000000000000000040000000000000000000000000000000000000000000'),\n",
      " 'status': 1,\n",
      " 'to': '0x193e448a43f074b96a55215F933445F1967Bbc83',\n",
      " 'transactionHash': HexBytes('0x6294e7597b90594e75bc24bceb0136ff0123074a2aa410712ff115107d4f36ed'),\n",
      " 'transactionIndex': 0}\n",
      "\n",
      "Was transaction successful?\n",
      "1\n"
     ]
    }
   ],
   "source": [
    "tx_hash = deployed_contract_pool.functions.provide(0).transact({'to': eth_pool_address,\n",
    "                                                                'from': w3.eth.coinbase,\n",
    "                                                                'value': 12345\n",
    "                                                               })\n",
    "receipt = w3.eth.waitForTransactionReceipt(tx_hash)\n",
    "print(\"Transaction receipt mined:\")\n",
    "pprint.pprint(dict(receipt))\n",
    "print(\"\\nWas transaction successful?\")\n",
    "pprint.pprint(receipt[\"status\"])"
   ]
  },
  {
   "cell_type": "code",
   "execution_count": 79,
   "metadata": {},
   "outputs": [
    {
     "name": "stdout",
     "output_type": "stream",
     "text": [
      "Transaction receipt mined:\n",
      "{'blockHash': HexBytes('0xb37efb0b0ef1360463fde008937868af90b01e179229748f3c06ea93c086f5f0'),\n",
      " 'blockNumber': 272,\n",
      " 'contractAddress': None,\n",
      " 'cumulativeGasUsed': 33511,\n",
      " 'from': '0xd45E8Cbb5A04C5e98CEb29d8ad9147Ee0D0F3Ec2',\n",
      " 'gasUsed': 33511,\n",
      " 'logs': [],\n",
      " 'logsBloom': HexBytes('0x00000000000000000000000000000000000000000000000000000000000000000000000000000000000000000000000000000000000000000000000000000000000000000000000000000000000000000000000000000000000000000000000000000000000000000000000000000000000000000000000000000000000000000000000000000000000000000000000000000000000000000000000000000000000000000000000000000000000000000000000000000000000000000000000000000000000000000000000000000000000000000000000000000000000000000000000000000000000000000000000000000000000000000000000000000000'),\n",
      " 'status': 1,\n",
      " 'to': '0x660f2055541A389A8413E15578b18024a7a062f1',\n",
      " 'transactionHash': HexBytes('0x930f15774bd20e52da3704101f39259b89d03a772742be0fd111b038c76ee052'),\n",
      " 'transactionIndex': 0}\n",
      "\n",
      "Was transaction successful?\n",
      "1\n"
     ]
    }
   ],
   "source": [
    "with open(\"AutonomousHegician/contracts/ethpool/build/contracts/HegicCallOptions.json\", \"r\") as f:\n",
    "    import json \n",
    "    c = json.loads(f.read())\n",
    "    \n",
    "\n",
    "address = \"0xfCc2b670A4704B10A5d0eF74106ff2edd2E8a453\"\n",
    "address = \"0x9661ce56DE5f4F693A31C8353aD62eAA35669e9E\"\n",
    "address = \"0x3f995297e94FD8F2E400DCa6a28c28305fa9444b\"\n",
    "address= \"0x660f2055541A389A8413E15578b18024a7a062f1\"\n",
    "sum_add = Web3.toChecksumAddress(address)\n",
    "\n",
    "\n",
    "deployed_contract = w3.eth.contract(address=sum_add,\n",
    "                                    abi=c[\"abi\"]\n",
    "                                   )\n",
    "\n",
    "tx_hash = deployed_contract.functions.fees(1111, 88888, 88888).transact({'to': address,\n",
    "                                                                          'from': w3.eth.coinbase,\n",
    "                                                                          'value': 0})\n",
    "receipt = w3.eth.waitForTransactionReceipt(tx_hash)\n",
    "print(\"Transaction receipt mined:\")\n",
    "pprint.pprint(dict(receipt))\n",
    "print(\"\\nWas transaction successful?\")\n",
    "pprint.pprint(receipt[\"status\"])"
   ]
  },
  {
   "cell_type": "code",
   "execution_count": null,
   "metadata": {},
   "outputs": [],
   "source": [
    "\n"
   ]
  },
  {
   "cell_type": "code",
   "execution_count": 186,
   "metadata": {},
   "outputs": [],
   "source": [
    "\n",
    "with open(\"AutonomousHegician/contracts/ethpool/build/contracts/HegicETHPool.json\", \"r\") as f:\n",
    "    import json \n",
    "    ci = json.loads(f.read())\n",
    "\n",
    "eth_pool_address  = \"0x193e448a43f074b96a55215F933445F1967Bbc83\"\n",
    "\n",
    "\n",
    "\n",
    "    \n",
    "deployed_contract_pool = w3.eth.contract(address=eth_pool_address,\n",
    "                                         abi=ci[\"abi\"])\n",
    "\n"
   ]
  },
  {
   "cell_type": "code",
   "execution_count": 194,
   "metadata": {},
   "outputs": [
    {
     "data": {
      "text/plain": [
       "0"
      ]
     },
     "execution_count": 194,
     "metadata": {},
     "output_type": "execute_result"
    }
   ],
   "source": [
    "deployed_contract_pool.functions.lockedAmount().call()"
   ]
  },
  {
   "cell_type": "code",
   "execution_count": 233,
   "metadata": {},
   "outputs": [
    {
     "name": "stdout",
     "output_type": "stream",
     "text": [
      "Available balance :  5500000000000024690\n",
      "Total balance :  5500000000000024690\n",
      "Trying to lock amount 10000000000000000\n"
     ]
    },
    {
     "ename": "ValueError",
     "evalue": "{'message': 'VM Exception while processing transaction: revert', 'code': -32000, 'data': {'stack': 'c: VM Exception while processing transaction: revert\\n    at Function.c.fromResults (/usr/local/lib/node_modules/ganache-cli/build/ganache-core.node.cli.js:4:162210)\\n    at e.exports (/usr/local/lib/node_modules/ganache-cli/build/ganache-core.node.cli.js:39:2190055)', 'name': 'c'}}",
     "output_type": "error",
     "traceback": [
      "\u001b[0;31m---------------------------------------------------------------------------\u001b[0m",
      "\u001b[0;31mValueError\u001b[0m                                Traceback (most recent call last)",
      "\u001b[0;32m<ipython-input-233-227ff5d1534f>\u001b[0m in \u001b[0;36m<module>\u001b[0;34m\u001b[0m\n\u001b[1;32m      7\u001b[0m deployed_contract_pool.functions.lock(amount).transact({'to': eth_pool_address,\n\u001b[1;32m      8\u001b[0m                                                       \u001b[0;34m'from'\u001b[0m\u001b[0;34m:\u001b[0m \u001b[0mw3\u001b[0m\u001b[0;34m.\u001b[0m\u001b[0meth\u001b[0m\u001b[0;34m.\u001b[0m\u001b[0mcoinbase\u001b[0m\u001b[0;34m,\u001b[0m\u001b[0;34m\u001b[0m\u001b[0;34m\u001b[0m\u001b[0m\n\u001b[0;32m----> 9\u001b[0;31m                                                       'value': 10000})\n\u001b[0m\u001b[1;32m     10\u001b[0m \u001b[0mavailable\u001b[0m \u001b[0;34m=\u001b[0m \u001b[0mdeployed_contract_pool\u001b[0m\u001b[0;34m.\u001b[0m\u001b[0mfunctions\u001b[0m\u001b[0;34m.\u001b[0m\u001b[0mtotalBalance\u001b[0m\u001b[0;34m(\u001b[0m\u001b[0;34m)\u001b[0m\u001b[0;34m.\u001b[0m\u001b[0mcall\u001b[0m\u001b[0;34m(\u001b[0m\u001b[0;34m)\u001b[0m\u001b[0;34m\u001b[0m\u001b[0;34m\u001b[0m\u001b[0m\n\u001b[1;32m     11\u001b[0m \u001b[0mprint\u001b[0m\u001b[0;34m(\u001b[0m\u001b[0;34m\"Available balance : \"\u001b[0m\u001b[0;34m,\u001b[0m \u001b[0mavailable\u001b[0m\u001b[0;34m)\u001b[0m\u001b[0;34m\u001b[0m\u001b[0;34m\u001b[0m\u001b[0m\n",
      "\u001b[0;32m~/.local/lib/python3.6/site-packages/web3/contract.py\u001b[0m in \u001b[0;36mtransact\u001b[0;34m(self, transaction)\u001b[0m\n\u001b[1;32m    999\u001b[0m             \u001b[0mself\u001b[0m\u001b[0;34m.\u001b[0m\u001b[0mabi\u001b[0m\u001b[0;34m,\u001b[0m\u001b[0;34m\u001b[0m\u001b[0;34m\u001b[0m\u001b[0m\n\u001b[1;32m   1000\u001b[0m             \u001b[0;34m*\u001b[0m\u001b[0mself\u001b[0m\u001b[0;34m.\u001b[0m\u001b[0margs\u001b[0m\u001b[0;34m,\u001b[0m\u001b[0;34m\u001b[0m\u001b[0;34m\u001b[0m\u001b[0m\n\u001b[0;32m-> 1001\u001b[0;31m             \u001b[0;34m**\u001b[0m\u001b[0mself\u001b[0m\u001b[0;34m.\u001b[0m\u001b[0mkwargs\u001b[0m\u001b[0;34m\u001b[0m\u001b[0;34m\u001b[0m\u001b[0m\n\u001b[0m\u001b[1;32m   1002\u001b[0m         )\n\u001b[1;32m   1003\u001b[0m \u001b[0;34m\u001b[0m\u001b[0m\n",
      "\u001b[0;32m~/.local/lib/python3.6/site-packages/web3/contract.py\u001b[0m in \u001b[0;36mtransact_with_contract_function\u001b[0;34m(address, web3, function_name, transaction, contract_abi, fn_abi, *args, **kwargs)\u001b[0m\n\u001b[1;32m   1587\u001b[0m     )\n\u001b[1;32m   1588\u001b[0m \u001b[0;34m\u001b[0m\u001b[0m\n\u001b[0;32m-> 1589\u001b[0;31m     \u001b[0mtxn_hash\u001b[0m \u001b[0;34m=\u001b[0m \u001b[0mweb3\u001b[0m\u001b[0;34m.\u001b[0m\u001b[0meth\u001b[0m\u001b[0;34m.\u001b[0m\u001b[0msendTransaction\u001b[0m\u001b[0;34m(\u001b[0m\u001b[0mtransact_transaction\u001b[0m\u001b[0;34m)\u001b[0m\u001b[0;34m\u001b[0m\u001b[0;34m\u001b[0m\u001b[0m\n\u001b[0m\u001b[1;32m   1590\u001b[0m     \u001b[0;32mreturn\u001b[0m \u001b[0mtxn_hash\u001b[0m\u001b[0;34m\u001b[0m\u001b[0;34m\u001b[0m\u001b[0m\n\u001b[1;32m   1591\u001b[0m \u001b[0;34m\u001b[0m\u001b[0m\n",
      "\u001b[0;32m~/.local/lib/python3.6/site-packages/web3/eth.py\u001b[0m in \u001b[0;36msendTransaction\u001b[0;34m(self, transaction)\u001b[0m\n\u001b[1;32m    382\u001b[0m                 \u001b[0mtransaction\u001b[0m\u001b[0;34m,\u001b[0m\u001b[0;34m\u001b[0m\u001b[0;34m\u001b[0m\u001b[0m\n\u001b[1;32m    383\u001b[0m                 \u001b[0;34m'gas'\u001b[0m\u001b[0;34m,\u001b[0m\u001b[0;34m\u001b[0m\u001b[0;34m\u001b[0m\u001b[0m\n\u001b[0;32m--> 384\u001b[0;31m                 \u001b[0mget_buffered_gas_estimate\u001b[0m\u001b[0;34m(\u001b[0m\u001b[0mself\u001b[0m\u001b[0;34m.\u001b[0m\u001b[0mweb3\u001b[0m\u001b[0;34m,\u001b[0m \u001b[0mtransaction\u001b[0m\u001b[0;34m)\u001b[0m\u001b[0;34m,\u001b[0m\u001b[0;34m\u001b[0m\u001b[0;34m\u001b[0m\u001b[0m\n\u001b[0m\u001b[1;32m    385\u001b[0m             )\n\u001b[1;32m    386\u001b[0m \u001b[0;34m\u001b[0m\u001b[0m\n",
      "\u001b[0;32m~/.local/lib/python3.6/site-packages/web3/_utils/transactions.py\u001b[0m in \u001b[0;36mget_buffered_gas_estimate\u001b[0;34m(web3, transaction, gas_buffer)\u001b[0m\n\u001b[1;32m    125\u001b[0m     \u001b[0mgas_estimate_transaction\u001b[0m \u001b[0;34m=\u001b[0m \u001b[0mcast\u001b[0m\u001b[0;34m(\u001b[0m\u001b[0mTxParams\u001b[0m\u001b[0;34m,\u001b[0m \u001b[0mdict\u001b[0m\u001b[0;34m(\u001b[0m\u001b[0;34m**\u001b[0m\u001b[0mtransaction\u001b[0m\u001b[0;34m)\u001b[0m\u001b[0;34m)\u001b[0m\u001b[0;34m\u001b[0m\u001b[0;34m\u001b[0m\u001b[0m\n\u001b[1;32m    126\u001b[0m \u001b[0;34m\u001b[0m\u001b[0m\n\u001b[0;32m--> 127\u001b[0;31m     \u001b[0mgas_estimate\u001b[0m \u001b[0;34m=\u001b[0m \u001b[0mweb3\u001b[0m\u001b[0;34m.\u001b[0m\u001b[0meth\u001b[0m\u001b[0;34m.\u001b[0m\u001b[0mestimateGas\u001b[0m\u001b[0;34m(\u001b[0m\u001b[0mgas_estimate_transaction\u001b[0m\u001b[0;34m)\u001b[0m\u001b[0;34m\u001b[0m\u001b[0;34m\u001b[0m\u001b[0m\n\u001b[0m\u001b[1;32m    128\u001b[0m \u001b[0;34m\u001b[0m\u001b[0m\n\u001b[1;32m    129\u001b[0m     \u001b[0mgas_limit\u001b[0m \u001b[0;34m=\u001b[0m \u001b[0mget_block_gas_limit\u001b[0m\u001b[0;34m(\u001b[0m\u001b[0mweb3\u001b[0m\u001b[0;34m)\u001b[0m\u001b[0;34m\u001b[0m\u001b[0;34m\u001b[0m\u001b[0m\n",
      "\u001b[0;32m~/.local/lib/python3.6/site-packages/web3/eth.py\u001b[0m in \u001b[0;36mestimateGas\u001b[0;34m(self, transaction, block_identifier)\u001b[0m\n\u001b[1;32m    448\u001b[0m         return self.web3.manager.request_blocking(\n\u001b[1;32m    449\u001b[0m             \u001b[0mRPC\u001b[0m\u001b[0;34m.\u001b[0m\u001b[0meth_estimateGas\u001b[0m\u001b[0;34m,\u001b[0m\u001b[0;34m\u001b[0m\u001b[0;34m\u001b[0m\u001b[0m\n\u001b[0;32m--> 450\u001b[0;31m             \u001b[0mparams\u001b[0m\u001b[0;34m,\u001b[0m\u001b[0;34m\u001b[0m\u001b[0;34m\u001b[0m\u001b[0m\n\u001b[0m\u001b[1;32m    451\u001b[0m         )\n\u001b[1;32m    452\u001b[0m \u001b[0;34m\u001b[0m\u001b[0m\n",
      "\u001b[0;32m~/.local/lib/python3.6/site-packages/web3/manager.py\u001b[0m in \u001b[0;36mrequest_blocking\u001b[0;34m(self, method, params, error_formatters)\u001b[0m\n\u001b[1;32m    151\u001b[0m         \u001b[0;32mif\u001b[0m \u001b[0;34m\"error\"\u001b[0m \u001b[0;32min\u001b[0m \u001b[0mresponse\u001b[0m\u001b[0;34m:\u001b[0m\u001b[0;34m\u001b[0m\u001b[0;34m\u001b[0m\u001b[0m\n\u001b[1;32m    152\u001b[0m             \u001b[0mapply_error_formatters\u001b[0m\u001b[0;34m(\u001b[0m\u001b[0merror_formatters\u001b[0m\u001b[0;34m,\u001b[0m \u001b[0mresponse\u001b[0m\u001b[0;34m)\u001b[0m\u001b[0;34m\u001b[0m\u001b[0;34m\u001b[0m\u001b[0m\n\u001b[0;32m--> 153\u001b[0;31m             \u001b[0;32mraise\u001b[0m \u001b[0mValueError\u001b[0m\u001b[0;34m(\u001b[0m\u001b[0mresponse\u001b[0m\u001b[0;34m[\u001b[0m\u001b[0;34m\"error\"\u001b[0m\u001b[0;34m]\u001b[0m\u001b[0;34m)\u001b[0m\u001b[0;34m\u001b[0m\u001b[0;34m\u001b[0m\u001b[0m\n\u001b[0m\u001b[1;32m    154\u001b[0m \u001b[0;34m\u001b[0m\u001b[0m\n\u001b[1;32m    155\u001b[0m         \u001b[0;32mreturn\u001b[0m \u001b[0mresponse\u001b[0m\u001b[0;34m[\u001b[0m\u001b[0;34m'result'\u001b[0m\u001b[0;34m]\u001b[0m\u001b[0;34m\u001b[0m\u001b[0;34m\u001b[0m\u001b[0m\n",
      "\u001b[0;31mValueError\u001b[0m: {'message': 'VM Exception while processing transaction: revert', 'code': -32000, 'data': {'stack': 'c: VM Exception while processing transaction: revert\\n    at Function.c.fromResults (/usr/local/lib/node_modules/ganache-cli/build/ganache-core.node.cli.js:4:162210)\\n    at e.exports (/usr/local/lib/node_modules/ganache-cli/build/ganache-core.node.cli.js:39:2190055)', 'name': 'c'}}"
     ]
    }
   ],
   "source": [
    "\n",
    "\n",
    "available = deployed_contract_pool.functions.availableBalance().call()\n",
    "print(\"Available balance : \", available)\n",
    "totalBalance = deployed_contract_pool.functions.totalBalance().call()\n",
    "print(\"Total balance : \", totalBalance)\n",
    "\n",
    "print(\"Trying to lock amount\" , amount)\n",
    "deployed_contract_pool.functions.lock(amount).transact({'to': eth_pool_address,\n",
    "                                                      'from': w3.eth.coinbase,\n",
    "                                                      'value': 10000})\n",
    "available = deployed_contract_pool.functions.totalBalance().call()\n",
    "print(\"Available balance : \", available)\n",
    "\n"
   ]
  },
  {
   "cell_type": "code",
   "execution_count": 199,
   "metadata": {},
   "outputs": [
    {
     "name": "stdout",
     "output_type": "stream",
     "text": [
      "Transaction receipt mined:\n",
      "{'blockHash': HexBytes('0xecb91b07635e632078d5d5d718a97637f68122da9d45894db726ffc68def56ce'),\n",
      " 'blockNumber': 536,\n",
      " 'contractAddress': None,\n",
      " 'cumulativeGasUsed': 35790,\n",
      " 'from': '0xd45E8Cbb5A04C5e98CEb29d8ad9147Ee0D0F3Ec2',\n",
      " 'gasUsed': 35790,\n",
      " 'logs': [],\n",
      " 'logsBloom': HexBytes('0x00000000000000000000000000000000000000000000000000000000000000000000000000000000000000000000000000000000000000000000000000000000000000000000000000000000000000000000000000000000000000000000000000000000000000000000000000000000000000000000000000000000000000000000000000000000000000000000000000000000000000000000000000000000000000000000000000000000000000000000000000000000000000000000000000000000000000000000000000000000000000000000000000000000000000000000000000000000000000000000000000000000000000000000000000000000'),\n",
      " 'status': 1,\n",
      " 'to': '0x6203cB6F147C02A6307ad944470d4c8e989884E3',\n",
      " 'transactionHash': HexBytes('0x0ad033dbfd07d82759b238c3212d030924a5c76b1cc4c0fe2e5a107d48f16df5'),\n",
      " 'transactionIndex': 0}\n",
      "\n",
      "Was transaction successful?\n",
      "1\n",
      "Fee estimate 5447700000000000\n"
     ]
    }
   ],
   "source": [
    "with open(\"AutonomousHegician/contracts/ethpool/build/contracts/HegicCallOptions.json\", \"r\") as f:\n",
    "    import json \n",
    "    c = json.loads(f.read())\n",
    "\n",
    "# address = \"0xfCc2b670A4704B10A5d0eF74106ff2edd2E8a453\"\n",
    "# address = \"0x9661ce56DE5f4F693A31C8353aD62eAA35669e9E\"\n",
    "# address = \"0x3f995297e94FD8F2E400DCa6a28c28305fa9444b\"\n",
    "call_option_address= \"0x6203cB6F147C02A6307ad944470d4c8e989884E3\"\n",
    "\n",
    "\n",
    "period, strike, amount = 166400, 100, Web3.toWei(\"0.01\", \"ether\")\n",
    "\n",
    "call_option_contract = w3.eth.contract(address=call_option_address,\n",
    "                                    abi=c[\"abi\"]\n",
    "                                   )\n",
    "\n",
    "tx_hash = call_option_contract.functions.fees(period, strike, amount).transact({'to': call_option_address,\n",
    "                                                                            'from': w3.eth.coinbase,\n",
    "                                                                            'value': 0})\n",
    "receipt = w3.eth.waitForTransactionReceipt(tx_hash)\n",
    "print(\"Transaction receipt mined:\")\n",
    "pprint.pprint(dict(receipt))\n",
    "print(\"\\nWas transaction successful?\")\n",
    "pprint.pprint(receipt[\"status\"])\n",
    "\n",
    "\n",
    "\n",
    "\n",
    "total, settlementFee, StrikeFee, periodFee = call_option_contract.functions.fees(period, amount, strike).call()\n",
    "print(\"Fee estimate\" , total)"
   ]
  },
  {
   "cell_type": "code",
   "execution_count": 206,
   "metadata": {},
   "outputs": [
    {
     "name": "stdout",
     "output_type": "stream",
     "text": [
      "Available balance :  5500000000000024690\n",
      "True\n"
     ]
    }
   ],
   "source": [
    "available = deployed_contract_pool.functions.availableBalance().call()\n",
    "print(\"Available balance : \", available)\n",
    "print(available > total)\n",
    "# call_option_contract.functions.create(period, amount, strike).call({\"value\": 54477000000000000})"
   ]
  },
  {
   "cell_type": "code",
   "execution_count": 202,
   "metadata": {},
   "outputs": [
    {
     "ename": "NameError",
     "evalue": "name 'value' is not defined",
     "output_type": "error",
     "traceback": [
      "\u001b[0;31m---------------------------------------------------------------------------\u001b[0m",
      "\u001b[0;31mNameError\u001b[0m                                 Traceback (most recent call last)",
      "\u001b[0;32m<ipython-input-202-1436254d660d>\u001b[0m in \u001b[0;36m<module>\u001b[0;34m\u001b[0m\n\u001b[0;32m----> 1\u001b[0;31m \u001b[0mcall_option_contract\u001b[0m\u001b[0;34m.\u001b[0m\u001b[0mfunctions\u001b[0m\u001b[0;34m.\u001b[0m\u001b[0mcreate\u001b[0m\u001b[0;34m(\u001b[0m\u001b[0mperiod\u001b[0m\u001b[0;34m,\u001b[0m \u001b[0mamount\u001b[0m\u001b[0;34m,\u001b[0m \u001b[0mstrike\u001b[0m\u001b[0;34m)\u001b[0m\u001b[0;34m.\u001b[0m\u001b[0mcall\u001b[0m\u001b[0;34m(\u001b[0m\u001b[0;34m{\u001b[0m\u001b[0;34m\"value\"\u001b[0m\u001b[0;34m:\u001b[0m\u001b[0mvalue\u001b[0m\u001b[0;34m}\u001b[0m\u001b[0;34m)\u001b[0m\u001b[0;34m\u001b[0m\u001b[0;34m\u001b[0m\u001b[0m\n\u001b[0m",
      "\u001b[0;31mNameError\u001b[0m: name 'value' is not defined"
     ]
    }
   ],
   "source": [
    "call_option_contract.functions.create(period, amount, strike).call({\"value\":value})"
   ]
  },
  {
   "cell_type": "code",
   "execution_count": 205,
   "metadata": {},
   "outputs": [
    {
     "ename": "ABIFunctionNotFound",
     "evalue": "(\"The function 'create' was not found in this contract's abi. \", 'Are you sure you provided the correct contract abi?')",
     "output_type": "error",
     "traceback": [
      "\u001b[0;31m---------------------------------------------------------------------------\u001b[0m",
      "\u001b[0;31mABIFunctionNotFound\u001b[0m                       Traceback (most recent call last)",
      "\u001b[0;32m<ipython-input-205-03dd8073791f>\u001b[0m in \u001b[0;36m<module>\u001b[0;34m\u001b[0m\n\u001b[1;32m      2\u001b[0m \u001b[0;34m\u001b[0m\u001b[0m\n\u001b[1;32m      3\u001b[0m \u001b[0;34m\u001b[0m\u001b[0m\n\u001b[0;32m----> 4\u001b[0;31m deployed_contract.functions.create(period, amount, strike).transact({'to': call_option_address,\n\u001b[0m\u001b[1;32m      5\u001b[0m                                                                             \u001b[0;34m'from'\u001b[0m\u001b[0;34m:\u001b[0m \u001b[0mw3\u001b[0m\u001b[0;34m.\u001b[0m\u001b[0meth\u001b[0m\u001b[0;34m.\u001b[0m\u001b[0mcoinbase\u001b[0m\u001b[0;34m,\u001b[0m\u001b[0;34m\u001b[0m\u001b[0;34m\u001b[0m\u001b[0m\n\u001b[1;32m      6\u001b[0m                                                                             'value': total})\n",
      "\u001b[0;32m~/.local/lib/python3.6/site-packages/web3/contract.py\u001b[0m in \u001b[0;36m__getattr__\u001b[0;34m(self, function_name)\u001b[0m\n\u001b[1;32m    193\u001b[0m             raise ABIFunctionNotFound(\n\u001b[1;32m    194\u001b[0m                 \u001b[0;34m\"The function '{}' was not found in this contract's abi. \"\u001b[0m\u001b[0;34m.\u001b[0m\u001b[0mformat\u001b[0m\u001b[0;34m(\u001b[0m\u001b[0mfunction_name\u001b[0m\u001b[0;34m)\u001b[0m\u001b[0;34m,\u001b[0m\u001b[0;34m\u001b[0m\u001b[0;34m\u001b[0m\u001b[0m\n\u001b[0;32m--> 195\u001b[0;31m                 \u001b[0;34m\"Are you sure you provided the correct contract abi?\"\u001b[0m\u001b[0;34m\u001b[0m\u001b[0;34m\u001b[0m\u001b[0m\n\u001b[0m\u001b[1;32m    196\u001b[0m             )\n\u001b[1;32m    197\u001b[0m         \u001b[0;32melse\u001b[0m\u001b[0;34m:\u001b[0m\u001b[0;34m\u001b[0m\u001b[0;34m\u001b[0m\u001b[0m\n",
      "\u001b[0;31mABIFunctionNotFound\u001b[0m: (\"The function 'create' was not found in this contract's abi. \", 'Are you sure you provided the correct contract abi?')"
     ]
    }
   ],
   "source": [
    "# deployed_contract.functions.create(period, amount, strike).call({\"value\": })\n",
    "\n",
    "\n",
    "deployed_contract.functions.create(period, amount, strike).transact({'to': call_option_address,\n",
    "                                                                            'from': w3.eth.coinbase,\n",
    "                                                                            'value': total})"
   ]
  },
  {
   "cell_type": "code",
   "execution_count": 69,
   "metadata": {},
   "outputs": [],
   "source": [
    "import yaml\n",
    "\n",
    "with open(r'../fetch/AutonomousHegician/skills/option_monitoring/skill.yaml') as file:\n",
    "    yaml_file = yaml.load(file, Loader=yaml.FullLoader)\n",
    "          \n",
    "yaml_file['models']['strategy']['args']\n",
    "        \n",
    "with open('new_skill.yaml', 'w') as f:\n",
    "    yaml.dump(yaml_file, f)"
   ]
  },
  {
   "cell_type": "code",
   "execution_count": 76,
   "metadata": {},
   "outputs": [
    {
     "data": {
      "text/plain": [
       "{'ledger_id': 'ethereum',\n",
       " 'stablecoin': '0x4dfF2aB8Fd59bd2901cf30F29141fa4170a11B99',\n",
       " 'pricefeed': '0x6C05379787382E4D1a26a841c312e5cF01DA1D1A',\n",
       " 'exchange': '0x6bD981e20d7A8A880E5cEea68f163d3091A998F8',\n",
       " 'calloptions': '0xeB5aE94ABb2f545ee405318D93dA1C6749F50f2c',\n",
       " 'putoptions': '0xB08E3CA8Bb573B6a356DFd93d40932C864180841',\n",
       " 'ercpool': '0x9661ce56DE5f4F693A31C8353aD62eAA35669e9E',\n",
       " 'ethpool': '0x832BAB2cEF9B61250531e002C1A1Dc1081c18bfF'}"
      ]
     },
     "execution_count": 76,
     "metadata": {},
     "output_type": "execute_result"
    }
   ],
   "source": []
  },
  {
   "cell_type": "code",
   "execution_count": 67,
   "metadata": {},
   "outputs": [
    {
     "ename": "SyntaxError",
     "evalue": "invalid syntax (<ipython-input-67-d9903b3e0752>, line 9)",
     "output_type": "error",
     "traceback": [
      "\u001b[0;36m  File \u001b[0;32m\"<ipython-input-67-d9903b3e0752>\"\u001b[0;36m, line \u001b[0;32m9\u001b[0m\n\u001b[0;31m    strike_price)\u001b[0m\n\u001b[0m                 ^\u001b[0m\n\u001b[0;31mSyntaxError\u001b[0m\u001b[0;31m:\u001b[0m invalid syntax\n"
     ]
    }
   ],
   "source": [
    "\n",
    "\n",
    "\n",
    "from unittest import TestCase\n",
    "    \n",
    "    \n",
    "\n",
    "class PremiumCalculator:\n",
    "    def __init__(self,\n",
    "                 period,\n",
    "                 amount,\n",
    "                 strike_price)\n",
    "    \n",
    "    self.period =period\n",
    "    self.amount = amount\n",
    "    self.strike_price = strike_price\n",
    "    \n",
    "    def __repr__(self):\n",
    "        return f\"For call option for {self.amount} over a period of {self.period} costs {self.fees()}\"\n",
    "    \n",
    "\n",
    "class testPremiumCalculator(TestCase):\n",
    "    \n",
    "    \n",
    "    \n",
    "    def __init__(self, **kwargs):\n",
    "        self.__dict__.update(kwargs)\n",
    "\n",
    "    def test_1(self):\n",
    "        total = fees(period, amount, strike_price)\n",
    "        print(total)\n",
    "    \n",
    "    \n",
    "    \n",
    "    def run(self):\n",
    "        self.test_1()\n",
    "        self.test_2()\n",
    "        self.test_3()\n",
    "        self.test_4()\n",
    "        \n",
    "\n",
    "tc = testPremiumCalculator(eth_val=0.1, period=86400, strike_price=9999)\n",
    "\n",
    "\n",
    "\n",
    "tc.test_1()\n",
    "\n",
    "# total "
   ]
  },
  {
   "cell_type": "code",
   "execution_count": 202,
   "metadata": {},
   "outputs": [
    {
     "name": "stdout",
     "output_type": "stream",
     "text": [
      "99022863070659900\n",
      "For call option for 0.1 over a period of 172800 hours costs 39.114030912910662080\n",
      "99022863070659900\n",
      "For call option for 0.1 over a period of 172800 hours costs 39.114030912910662080\n"
     ]
    }
   ],
   "source": [
    "PRICE_DECIMALS = 100_000_000\n",
    "implied_vol_rate = 5500\n",
    "\n",
    "\n",
    "import decimal\n",
    "\n",
    "\n",
    "def latest_answer():\n",
    "    return 10000\n",
    "\n",
    "option_type = \"call\"\n",
    "\n",
    "\n",
    "\n",
    "def get_settlement_fee(amount):\n",
    "    return amount / 100\n",
    "    \n",
    "    \n",
    "def getPeriodFee(amount, period, strike, currentPrice):\n",
    "    # we implement the call option\n",
    "    return ((amount * math.sqrt(period) * implied_vol_rate * strike) / currentPrice) / PRICE_DECIMALS \n",
    "    raise\n",
    "    \n",
    "def getStrikeFee(amount, strike, current_price):\n",
    "    if strike > current_price and option_type == \"put\":\n",
    "        raise NotImplemented\n",
    "    elif strike < current_price and option_type == \"call\":\n",
    "        return ((current_price - strike) * amount) / current_price\n",
    "    return 0\n",
    "\n",
    "\n",
    "\n",
    "\n",
    "\n",
    "\n",
    "\n",
    "\n",
    "\n",
    "\n",
    "\n",
    "\n",
    "\n",
    "\n",
    "class PremiumCalculator:\n",
    "    cost = None\n",
    "    def __init__(self, period, amount, strike_price):\n",
    "        self.period =period\n",
    "        self.amount = amount\n",
    "        self.strike_price = strike_price\n",
    "        \n",
    "    def __repr__(self):\n",
    "        in_eth = Web3.fromWei(self.fees(self.period, self.amount, self.strike_price), 'ether')\n",
    "        amt = Web3.fromWei(self.amount, \"ether\")\n",
    "        strike_price = 391.75\n",
    "        fees = self.fees(self.period, self.amount, self.strike_price)\n",
    "        print(Web3.toWei(fees, \"wei\"))\n",
    "        return f\"For call option for {amt} over a period of {self.period} hours costs {Web3.fromWei(fees, 'ether') * 395}\"\n",
    "    \n",
    "    def fees(self, period, amount, strike):\n",
    "        current_price = latest_answer()\n",
    "        settlementfee =get_settlement_fee(amount)\n",
    "        periodFee = getPeriodFee(amount, period, strike, latest_answer())\n",
    "        strikeFee = getStrikeFee(amount, strike, latest_answer())\n",
    "        total =  strikeFee + periodFee\n",
    "        return total\n",
    "\n",
    "\n",
    "\n",
    "period = 24 * 3600 * 2\n",
    "amount = Web3.toWei(0.1, unit=\"ether\")\n",
    "strike_price = 100\n",
    "PC = PremiumCalculator(period, amount, strike_price)\n",
    "print(PC)\n",
    "\n",
    "strike_price = 100\n",
    "PC = PremiumCalculator(period, amount, strike_price)\n",
    "print(PC)"
   ]
  },
  {
   "cell_type": "code",
   "execution_count": 71,
   "metadata": {},
   "outputs": [
    {
     "data": {
      "text/plain": [
       "Decimal('0.063282986253926656')"
      ]
     },
     "execution_count": 71,
     "metadata": {},
     "output_type": "execute_result"
    }
   ],
   "source": [
    "Web3.fromWei(total, \"ether\")"
   ]
  },
  {
   "cell_type": "code",
   "execution_count": 174,
   "metadata": {},
   "outputs": [
    {
     "data": {
      "text/plain": [
       "1000000000000000000"
      ]
     },
     "execution_count": 174,
     "metadata": {},
     "output_type": "execute_result"
    }
   ],
   "source": [
    "Web3.toWei(amount, \"wei\")"
   ]
  },
  {
   "cell_type": "code",
   "execution_count": 153,
   "metadata": {},
   "outputs": [
    {
     "data": {
      "text/plain": [
       "0.01639344262295082"
      ]
     },
     "execution_count": 153,
     "metadata": {},
     "output_type": "execute_result"
    }
   ],
   "source": [
    "def getStrikeFee(amount, strike, current_price):\n",
    "    if strike > current_price and option_type == \"put\":\n",
    "        raise NotImplemented\n",
    "    elif strike < current_price and option_type == \"call\":\n",
    "        return ((current_price - strike) * amount) / current_price\n",
    "    return 0\n",
    "\n",
    "option_type == \"put\"\n",
    "getStrikeFee(1, 300, 305)"
   ]
  },
  {
   "cell_type": "code",
   "execution_count": 191,
   "metadata": {},
   "outputs": [
    {
     "data": {
      "text/plain": [
       "9000"
      ]
     },
     "execution_count": 191,
     "metadata": {},
     "output_type": "execute_result"
    }
   ],
   "source": [
    "int(strike_price) "
   ]
  },
  {
   "cell_type": "code",
   "execution_count": 203,
   "metadata": {},
   "outputs": [
    {
     "ename": "ValueError",
     "evalue": "{'message': 'VM Exception while processing transaction: revert', 'code': -32000, 'data': {'stack': 'c: VM Exception while processing transaction: revert\\n    at Function.c.fromResults (/usr/local/lib/node_modules/ganache-cli/build/ganache-core.node.cli.js:4:162210)\\n    at e.exports (/usr/local/lib/node_modules/ganache-cli/build/ganache-core.node.cli.js:39:2190055)', 'name': 'c'}}",
     "output_type": "error",
     "traceback": [
      "\u001b[0;31m---------------------------------------------------------------------------\u001b[0m",
      "\u001b[0;31mValueError\u001b[0m                                Traceback (most recent call last)",
      "\u001b[0;32m<ipython-input-203-782476ed4c7d>\u001b[0m in \u001b[0;36m<module>\u001b[0;34m\u001b[0m\n\u001b[1;32m      1\u001b[0m tx_hash = deployed_contract.functions.fees(period, 1, 100000000000000).transact({'to': address,\n\u001b[1;32m      2\u001b[0m                                                                           \u001b[0;34m'from'\u001b[0m\u001b[0;34m:\u001b[0m \u001b[0mw3\u001b[0m\u001b[0;34m.\u001b[0m\u001b[0meth\u001b[0m\u001b[0;34m.\u001b[0m\u001b[0mcoinbase\u001b[0m\u001b[0;34m,\u001b[0m\u001b[0;34m\u001b[0m\u001b[0;34m\u001b[0m\u001b[0m\n\u001b[0;32m----> 3\u001b[0;31m                                                                           'value': 12345})\n\u001b[0m",
      "\u001b[0;32m~/.local/lib/python3.6/site-packages/web3/contract.py\u001b[0m in \u001b[0;36mtransact\u001b[0;34m(self, transaction)\u001b[0m\n\u001b[1;32m    999\u001b[0m             \u001b[0mself\u001b[0m\u001b[0;34m.\u001b[0m\u001b[0mabi\u001b[0m\u001b[0;34m,\u001b[0m\u001b[0;34m\u001b[0m\u001b[0;34m\u001b[0m\u001b[0m\n\u001b[1;32m   1000\u001b[0m             \u001b[0;34m*\u001b[0m\u001b[0mself\u001b[0m\u001b[0;34m.\u001b[0m\u001b[0margs\u001b[0m\u001b[0;34m,\u001b[0m\u001b[0;34m\u001b[0m\u001b[0;34m\u001b[0m\u001b[0m\n\u001b[0;32m-> 1001\u001b[0;31m             \u001b[0;34m**\u001b[0m\u001b[0mself\u001b[0m\u001b[0;34m.\u001b[0m\u001b[0mkwargs\u001b[0m\u001b[0;34m\u001b[0m\u001b[0;34m\u001b[0m\u001b[0m\n\u001b[0m\u001b[1;32m   1002\u001b[0m         )\n\u001b[1;32m   1003\u001b[0m \u001b[0;34m\u001b[0m\u001b[0m\n",
      "\u001b[0;32m~/.local/lib/python3.6/site-packages/web3/contract.py\u001b[0m in \u001b[0;36mtransact_with_contract_function\u001b[0;34m(address, web3, function_name, transaction, contract_abi, fn_abi, *args, **kwargs)\u001b[0m\n\u001b[1;32m   1587\u001b[0m     )\n\u001b[1;32m   1588\u001b[0m \u001b[0;34m\u001b[0m\u001b[0m\n\u001b[0;32m-> 1589\u001b[0;31m     \u001b[0mtxn_hash\u001b[0m \u001b[0;34m=\u001b[0m \u001b[0mweb3\u001b[0m\u001b[0;34m.\u001b[0m\u001b[0meth\u001b[0m\u001b[0;34m.\u001b[0m\u001b[0msendTransaction\u001b[0m\u001b[0;34m(\u001b[0m\u001b[0mtransact_transaction\u001b[0m\u001b[0;34m)\u001b[0m\u001b[0;34m\u001b[0m\u001b[0;34m\u001b[0m\u001b[0m\n\u001b[0m\u001b[1;32m   1590\u001b[0m     \u001b[0;32mreturn\u001b[0m \u001b[0mtxn_hash\u001b[0m\u001b[0;34m\u001b[0m\u001b[0;34m\u001b[0m\u001b[0m\n\u001b[1;32m   1591\u001b[0m \u001b[0;34m\u001b[0m\u001b[0m\n",
      "\u001b[0;32m~/.local/lib/python3.6/site-packages/web3/eth.py\u001b[0m in \u001b[0;36msendTransaction\u001b[0;34m(self, transaction)\u001b[0m\n\u001b[1;32m    382\u001b[0m                 \u001b[0mtransaction\u001b[0m\u001b[0;34m,\u001b[0m\u001b[0;34m\u001b[0m\u001b[0;34m\u001b[0m\u001b[0m\n\u001b[1;32m    383\u001b[0m                 \u001b[0;34m'gas'\u001b[0m\u001b[0;34m,\u001b[0m\u001b[0;34m\u001b[0m\u001b[0;34m\u001b[0m\u001b[0m\n\u001b[0;32m--> 384\u001b[0;31m                 \u001b[0mget_buffered_gas_estimate\u001b[0m\u001b[0;34m(\u001b[0m\u001b[0mself\u001b[0m\u001b[0;34m.\u001b[0m\u001b[0mweb3\u001b[0m\u001b[0;34m,\u001b[0m \u001b[0mtransaction\u001b[0m\u001b[0;34m)\u001b[0m\u001b[0;34m,\u001b[0m\u001b[0;34m\u001b[0m\u001b[0;34m\u001b[0m\u001b[0m\n\u001b[0m\u001b[1;32m    385\u001b[0m             )\n\u001b[1;32m    386\u001b[0m \u001b[0;34m\u001b[0m\u001b[0m\n",
      "\u001b[0;32m~/.local/lib/python3.6/site-packages/web3/_utils/transactions.py\u001b[0m in \u001b[0;36mget_buffered_gas_estimate\u001b[0;34m(web3, transaction, gas_buffer)\u001b[0m\n\u001b[1;32m    125\u001b[0m     \u001b[0mgas_estimate_transaction\u001b[0m \u001b[0;34m=\u001b[0m \u001b[0mcast\u001b[0m\u001b[0;34m(\u001b[0m\u001b[0mTxParams\u001b[0m\u001b[0;34m,\u001b[0m \u001b[0mdict\u001b[0m\u001b[0;34m(\u001b[0m\u001b[0;34m**\u001b[0m\u001b[0mtransaction\u001b[0m\u001b[0;34m)\u001b[0m\u001b[0;34m)\u001b[0m\u001b[0;34m\u001b[0m\u001b[0;34m\u001b[0m\u001b[0m\n\u001b[1;32m    126\u001b[0m \u001b[0;34m\u001b[0m\u001b[0m\n\u001b[0;32m--> 127\u001b[0;31m     \u001b[0mgas_estimate\u001b[0m \u001b[0;34m=\u001b[0m \u001b[0mweb3\u001b[0m\u001b[0;34m.\u001b[0m\u001b[0meth\u001b[0m\u001b[0;34m.\u001b[0m\u001b[0mestimateGas\u001b[0m\u001b[0;34m(\u001b[0m\u001b[0mgas_estimate_transaction\u001b[0m\u001b[0;34m)\u001b[0m\u001b[0;34m\u001b[0m\u001b[0;34m\u001b[0m\u001b[0m\n\u001b[0m\u001b[1;32m    128\u001b[0m \u001b[0;34m\u001b[0m\u001b[0m\n\u001b[1;32m    129\u001b[0m     \u001b[0mgas_limit\u001b[0m \u001b[0;34m=\u001b[0m \u001b[0mget_block_gas_limit\u001b[0m\u001b[0;34m(\u001b[0m\u001b[0mweb3\u001b[0m\u001b[0;34m)\u001b[0m\u001b[0;34m\u001b[0m\u001b[0;34m\u001b[0m\u001b[0m\n",
      "\u001b[0;32m~/.local/lib/python3.6/site-packages/web3/eth.py\u001b[0m in \u001b[0;36mestimateGas\u001b[0;34m(self, transaction, block_identifier)\u001b[0m\n\u001b[1;32m    448\u001b[0m         return self.web3.manager.request_blocking(\n\u001b[1;32m    449\u001b[0m             \u001b[0mRPC\u001b[0m\u001b[0;34m.\u001b[0m\u001b[0meth_estimateGas\u001b[0m\u001b[0;34m,\u001b[0m\u001b[0;34m\u001b[0m\u001b[0;34m\u001b[0m\u001b[0m\n\u001b[0;32m--> 450\u001b[0;31m             \u001b[0mparams\u001b[0m\u001b[0;34m,\u001b[0m\u001b[0;34m\u001b[0m\u001b[0;34m\u001b[0m\u001b[0m\n\u001b[0m\u001b[1;32m    451\u001b[0m         )\n\u001b[1;32m    452\u001b[0m \u001b[0;34m\u001b[0m\u001b[0m\n",
      "\u001b[0;32m~/.local/lib/python3.6/site-packages/web3/manager.py\u001b[0m in \u001b[0;36mrequest_blocking\u001b[0;34m(self, method, params, error_formatters)\u001b[0m\n\u001b[1;32m    151\u001b[0m         \u001b[0;32mif\u001b[0m \u001b[0;34m\"error\"\u001b[0m \u001b[0;32min\u001b[0m \u001b[0mresponse\u001b[0m\u001b[0;34m:\u001b[0m\u001b[0;34m\u001b[0m\u001b[0;34m\u001b[0m\u001b[0m\n\u001b[1;32m    152\u001b[0m             \u001b[0mapply_error_formatters\u001b[0m\u001b[0;34m(\u001b[0m\u001b[0merror_formatters\u001b[0m\u001b[0;34m,\u001b[0m \u001b[0mresponse\u001b[0m\u001b[0;34m)\u001b[0m\u001b[0;34m\u001b[0m\u001b[0;34m\u001b[0m\u001b[0m\n\u001b[0;32m--> 153\u001b[0;31m             \u001b[0;32mraise\u001b[0m \u001b[0mValueError\u001b[0m\u001b[0;34m(\u001b[0m\u001b[0mresponse\u001b[0m\u001b[0;34m[\u001b[0m\u001b[0;34m\"error\"\u001b[0m\u001b[0;34m]\u001b[0m\u001b[0;34m)\u001b[0m\u001b[0;34m\u001b[0m\u001b[0;34m\u001b[0m\u001b[0m\n\u001b[0m\u001b[1;32m    154\u001b[0m \u001b[0;34m\u001b[0m\u001b[0m\n\u001b[1;32m    155\u001b[0m         \u001b[0;32mreturn\u001b[0m \u001b[0mresponse\u001b[0m\u001b[0;34m[\u001b[0m\u001b[0;34m'result'\u001b[0m\u001b[0;34m]\u001b[0m\u001b[0;34m\u001b[0m\u001b[0;34m\u001b[0m\u001b[0m\n",
      "\u001b[0;31mValueError\u001b[0m: {'message': 'VM Exception while processing transaction: revert', 'code': -32000, 'data': {'stack': 'c: VM Exception while processing transaction: revert\\n    at Function.c.fromResults (/usr/local/lib/node_modules/ganache-cli/build/ganache-core.node.cli.js:4:162210)\\n    at e.exports (/usr/local/lib/node_modules/ganache-cli/build/ganache-core.node.cli.js:39:2190055)', 'name': 'c'}}"
     ]
    }
   ],
   "source": [
    "tx_hash = deployed_contract.functions.fees(period, 1, 100000000000000).transact({'to': address,\n",
    "                                                                          'from': w3.eth.coinbase,\n",
    "                                                                          'value': 12345})"
   ]
  },
  {
   "cell_type": "markdown",
   "metadata": {},
   "source": [
    "# Contract deployment from Scratch"
   ]
  },
  {
   "cell_type": "code",
   "execution_count": 1,
   "metadata": {},
   "outputs": [
    {
     "name": "stdout",
     "output_type": "stream",
     "text": [
      "0xd45E8Cbb5A04C5e98CEb29d8ad9147Ee0D0F3Ec2\n",
      "Deploying Contract /home/tom/Desktop/Medium/fetch_playground/fetch/contracts/TestContracts.sol:FakeUSD\n",
      "Deployed /home/tom/Desktop/Medium/fetch_playground/fetch/contracts/TestContracts.sol:FakeUSD to: 0x4dfF2aB8Fd59bd2901cf30F29141fa4170a11B99 using 1195059 gas.\n",
      "Address and interface ABI for /home/tom/Desktop/Medium/fetch_playground/fetch/contracts/TestContracts.sol:FakeUSD written to /home/tom/Desktop/Medium/fetch_playground/fetch/deployment_variables.json\n",
      "\n",
      "Deploying Contract /home/tom/Desktop/Medium/fetch_playground/fetch/contracts/TestContracts.sol:FakePriceProvider\n",
      "Deployed /home/tom/Desktop/Medium/fetch_playground/fetch/contracts/TestContracts.sol:FakePriceProvider to: 0x6C05379787382E4D1a26a841c312e5cF01DA1D1A using 127118 gas.\n",
      "Address and interface ABI for /home/tom/Desktop/Medium/fetch_playground/fetch/contracts/TestContracts.sol:FakePriceProvider written to /home/tom/Desktop/Medium/fetch_playground/fetch/deployment_variables.json\n",
      "\n",
      "Deploying Contract /home/tom/Desktop/Medium/fetch_playground/fetch/contracts/TestContracts.sol:FakeExchange\n",
      "Deployed /home/tom/Desktop/Medium/fetch_playground/fetch/contracts/TestContracts.sol:FakeExchange to: 0x6bD981e20d7A8A880E5cEea68f163d3091A998F8 using 555751 gas.\n",
      "Address and interface ABI for /home/tom/Desktop/Medium/fetch_playground/fetch/contracts/TestContracts.sol:FakeExchange written to /home/tom/Desktop/Medium/fetch_playground/fetch/deployment_variables.json\n",
      "\n",
      "Deploying Contract /home/tom/Desktop/Medium/fetch_playground/fetch/contracts/HegicCallOptions.sol:HegicCallOptions\n",
      "Deployed /home/tom/Desktop/Medium/fetch_playground/fetch/contracts/HegicCallOptions.sol:HegicCallOptions to: 0xeB5aE94ABb2f545ee405318D93dA1C6749F50f2c using 5195468 gas.\n",
      "Address and interface ABI for /home/tom/Desktop/Medium/fetch_playground/fetch/contracts/HegicCallOptions.sol:HegicCallOptions written to /home/tom/Desktop/Medium/fetch_playground/fetch/deployment_variables.json\n",
      "\n",
      "Deploying Contract /home/tom/Desktop/Medium/fetch_playground/fetch/contracts/HegicPutOptions.sol:HegicPutOptions\n",
      "Deployed /home/tom/Desktop/Medium/fetch_playground/fetch/contracts/HegicPutOptions.sol:HegicPutOptions to: 0xB08E3CA8Bb573B6a356DFd93d40932C864180841 using 6100241 gas.\n",
      "Address and interface ABI for /home/tom/Desktop/Medium/fetch_playground/fetch/contracts/HegicPutOptions.sol:HegicPutOptions written to /home/tom/Desktop/Medium/fetch_playground/fetch/deployment_variables.json\n",
      "\n",
      "Deploying Contract /home/tom/Desktop/Medium/fetch_playground/fetch/contracts/HegicERCPool.sol:HegicERCPool\n",
      "Deployed /home/tom/Desktop/Medium/fetch_playground/fetch/contracts/HegicERCPool.sol:HegicERCPool to: 0x9661ce56DE5f4F693A31C8353aD62eAA35669e9E using 3143334 gas.\n",
      "Address and interface ABI for /home/tom/Desktop/Medium/fetch_playground/fetch/contracts/HegicERCPool.sol:HegicERCPool written to /home/tom/Desktop/Medium/fetch_playground/fetch/deployment_variables.json\n",
      "\n",
      "Deploying Contract /home/tom/Desktop/Medium/fetch_playground/fetch/contracts/HegicETHPool.sol:HegicETHPool\n",
      "Deployed /home/tom/Desktop/Medium/fetch_playground/fetch/contracts/HegicETHPool.sol:HegicETHPool to: 0xdEFe561eA4f95d957A0199C26cfCFa1aF6EF31f6 using 2828527 gas.\n",
      "Address and interface ABI for /home/tom/Desktop/Medium/fetch_playground/fetch/contracts/HegicETHPool.sol:HegicETHPool written to /home/tom/Desktop/Medium/fetch_playground/fetch/deployment_variables.json\n",
      "\n",
      "All Deployed!\n"
     ]
    }
   ],
   "source": [
    "! python3 HegicOptionsDeploy.py"
   ]
  },
  {
   "cell_type": "markdown",
   "metadata": {},
   "source": [
    "# Fake USD tests"
   ]
  },
  {
   "cell_type": "code",
   "execution_count": 2,
   "metadata": {},
   "outputs": [
    {
     "ename": "NameError",
     "evalue": "name 'w3' is not defined",
     "output_type": "error",
     "traceback": [
      "\u001b[0;31m---------------------------------------------------------------------------\u001b[0m",
      "\u001b[0;31mNameError\u001b[0m                                 Traceback (most recent call last)",
      "\u001b[0;32m<ipython-input-2-5bf1d35ac476>\u001b[0m in \u001b[0;36m<module>\u001b[0;34m\u001b[0m\n\u001b[1;32m      5\u001b[0m \u001b[0mfake_usd_address\u001b[0m \u001b[0;34m=\u001b[0m \u001b[0;34m\"0x57d09a0c5A5b4f81708b960ad1859324a8a45651\"\u001b[0m\u001b[0;34m\u001b[0m\u001b[0;34m\u001b[0m\u001b[0m\n\u001b[1;32m      6\u001b[0m \u001b[0;34m\u001b[0m\u001b[0m\n\u001b[0;32m----> 7\u001b[0;31m fake_usd_contract = w3.eth.contract(address=fake_usd_address,\n\u001b[0m\u001b[1;32m      8\u001b[0m                                     \u001b[0mabi\u001b[0m\u001b[0;34m=\u001b[0m\u001b[0mc\u001b[0m\u001b[0;34m[\u001b[0m\u001b[0;34m\"abi\"\u001b[0m\u001b[0;34m]\u001b[0m\u001b[0;34m\u001b[0m\u001b[0;34m\u001b[0m\u001b[0m\n\u001b[1;32m      9\u001b[0m                                    )\n",
      "\u001b[0;31mNameError\u001b[0m: name 'w3' is not defined"
     ]
    }
   ],
   "source": [
    "with open(\"/home/tom/Desktop/Medium/defi_cefi_bridge/tontine/hedge-contracts-v1/build/contracts/FakeUSD.json\", \"r\") as f:\n",
    "    import json \n",
    "    c = json.loads(f.read())\n",
    "\n",
    "fake_usd_address = \"0x57d09a0c5A5b4f81708b960ad1859324a8a45651\"\n",
    "\n",
    "fake_usd_contract = w3.eth.contract(address=fake_usd_address,\n",
    "                                    abi=c[\"abi\"]\n",
    "                                   )\n",
    "fake_usd_contract.functions.mint(1000000).call()"
   ]
  },
  {
   "cell_type": "markdown",
   "metadata": {},
   "source": [
    "# Fake Price Provider Tests"
   ]
  },
  {
   "cell_type": "code",
   "execution_count": 46,
   "metadata": {},
   "outputs": [
    {
     "name": "stdout",
     "output_type": "stream",
     "text": [
      "abi\n",
      "address\n",
      "latestAnswer\n",
      "price\n",
      "setPrice\n",
      "web3\n",
      "Latest Price : 200\n"
     ]
    }
   ],
   "source": [
    "with open(\"/home/tom/Desktop/Medium/defi_cefi_bridge/tontine/hedge-contracts-v1/build/contracts/FakePriceProvider.json\", \"r\") as f:\n",
    "    import json \n",
    "    c = json.loads(f.read())\n",
    "\n",
    "fake_price_feed_address = \"0x6C05379787382E4D1a26a841c312e5cF01DA1D1A\"\n",
    "\n",
    "fake_price_feed_contract = w3.eth.contract(address=fake_price_feed_address,\n",
    "                                    abi=c[\"abi\"]\n",
    "                                   )\n",
    "i = [print(f) for f in dir(fake_price_feed_contract.functions) if f.find(\"_\") != 0]\n",
    "print(f\"Latest Price :\", fake_price_feed_contract.functions.latestAnswer().call())\n",
    "#fake_price_feed_contract.functions.mint(1000000).call()"
   ]
  },
  {
   "cell_type": "code",
   "execution_count": 45,
   "metadata": {},
   "outputs": [
    {
     "data": {
      "text/plain": [
       "HexBytes('0x1eb20599b2ae8b1a814764ce661d39d931b33755291f2bd1da399c88930f4629')"
      ]
     },
     "execution_count": 45,
     "metadata": {},
     "output_type": "execute_result"
    }
   ],
   "source": [
    "fake_price_feed_contract.functions.setPrice(200).transact({'to': fake_price_feed_address,\n",
    "                                                      'from': w3.eth.coinbase,\n",
    "                                                     'value': w3.toWei(0.00, \"ether\")})"
   ]
  },
  {
   "cell_type": "markdown",
   "metadata": {},
   "source": [
    "# Fake Exchange Tests"
   ]
  },
  {
   "cell_type": "code",
   "execution_count": 367,
   "metadata": {},
   "outputs": [
    {
     "name": "stdout",
     "output_type": "stream",
     "text": [
      "WETH\n",
      "abi\n",
      "address\n",
      "getEthToTokenInputPrice\n",
      "getTokenToEthInputPrice\n",
      "spread\n",
      "swapExactETHForTokens\n",
      "web3\n",
      "withdrow\n",
      "Latest Spread : 99\n"
     ]
    }
   ],
   "source": [
    "with open(\"/home/tom/Desktop/Medium/defi_cefi_bridge/tontine/hedge-contracts-v1/build/contracts/FakeExchange.json\", \"r\") as f:\n",
    "    import json \n",
    "    c = json.loads(f.read())\n",
    "\n",
    "fake_exchange_address = \"0xB94A7C0fe2280BC94f12Ff464169d7A86607dfC1\"\n",
    "\n",
    "fake_exchange_contract = w3.eth.contract(address=fake_exchange_address,\n",
    "                                    abi=c[\"abi\"]\n",
    "                                   )\n",
    "i = [print(f) for f in dir(fake_exchange_contract.functions) if f.find(\"_\") != 0]\n",
    "print(f\"Latest Spread :\", fake_exchange_contract.functions.spread().call())\n",
    "#fake_price_feed_contract.functions.mint(1000000).call()"
   ]
  },
  {
   "cell_type": "markdown",
   "metadata": {},
   "source": [
    "# Hegic ETHPOOL Tests"
   ]
  },
  {
   "cell_type": "code",
   "execution_count": 55,
   "metadata": {},
   "outputs": [
    {
     "name": "stdout",
     "output_type": "stream",
     "text": [
      "abi\n",
      "address\n",
      "allowance\n",
      "approve\n",
      "availableBalance\n",
      "balanceOf\n",
      "decimals\n",
      "decreaseAllowance\n",
      "increaseAllowance\n",
      "lock\n",
      "lockedAmount\n",
      "lockedPremium\n",
      "lockupPeriod\n",
      "name\n",
      "owner\n",
      "provide\n",
      "renounceOwnership\n",
      "send\n",
      "sendPremium\n",
      "setLockupPeriod\n",
      "shareOf\n",
      "symbol\n",
      "totalBalance\n",
      "totalSupply\n",
      "transfer\n",
      "transferFrom\n",
      "transferOwnership\n",
      "unlock\n",
      "unlockPremium\n",
      "web3\n",
      "withdraw\n",
      "Total Supply :  1498720781196231665775\n",
      "Total balance  1502565000000000000\n",
      "Providing liqudity..\n",
      "Total Supply :  11473136405120864981305\n",
      "Total balance  11502565000000000000\n",
      "locked balance  800000000000000000\n"
     ]
    }
   ],
   "source": [
    "with open(\"/home/tom/Desktop/Medium/defi_cefi_bridge/tontine/hedge-contracts-v1/build/contracts/HegicETHPool.json\", \"r\") as f:\n",
    "    import json \n",
    "    c = json.loads(f.read())\n",
    "\n",
    "ethpool_address = \"0x5D61Ec4D8D628A18A79636ff5513abb805Ffa466\"\n",
    "\n",
    "ethpool_contract = w3.eth.contract(address=ethpool_address,\n",
    "                                    abi=c[\"abi\"]\n",
    "                                   )\n",
    "i = [print(f) for f in dir(ethpool_contract.functions) if f.find(\"_\") != 0]\n",
    "\n",
    "\n",
    "print(f\"Total Supply : \", ethpool_contract.functions.totalSupply().call())\n",
    "print(\"Total balance \", ethpool_contract.functions.totalBalance().call())\n",
    "print(\"Providing liqudity..\")\n",
    "if True:\n",
    "    ethpool_contract.functions.provide(0).transact({'to': ethpool_address,\n",
    "                                                     'from': w3.eth.coinbase,\n",
    "                                                    'value': w3.toWei(10, \"ether\")})\n",
    "\n",
    "print(f\"Total Supply : \", ethpool_contract.functions.totalSupply().call())\n",
    "print(\"Total balance \", ethpool_contract.functions.totalBalance().call())\n",
    "print(\"locked balance \", ethpool_contract.functions.lockedAmount().call())"
   ]
  },
  {
   "cell_type": "code",
   "execution_count": 58,
   "metadata": {},
   "outputs": [
    {
     "data": {
      "text/plain": [
       "<function eth_utils.currency.from_wei(number:int, unit:str) -> Union[int, decimal.Decimal]>"
      ]
     },
     "execution_count": 58,
     "metadata": {},
     "output_type": "execute_result"
    }
   ],
   "source": [
    "getattr(w3, \"fromWei\")"
   ]
  },
  {
   "cell_type": "code",
   "execution_count": 49,
   "metadata": {},
   "outputs": [
    {
     "ename": "NameError",
     "evalue": "name 'web3' is not defined",
     "output_type": "error",
     "traceback": [
      "\u001b[0;31m---------------------------------------------------------------------------\u001b[0m",
      "\u001b[0;31mNameError\u001b[0m                                 Traceback (most recent call last)",
      "\u001b[0;32m<ipython-input-49-0b1314ee8cdd>\u001b[0m in \u001b[0;36m<module>\u001b[0;34m\u001b[0m\n\u001b[0;32m----> 1\u001b[0;31m \u001b[0mweb3\u001b[0m\u001b[0;34m\u001b[0m\u001b[0;34m\u001b[0m\u001b[0m\n\u001b[0m",
      "\u001b[0;31mNameError\u001b[0m: name 'web3' is not defined"
     ]
    }
   ],
   "source": [
    "w3.fromWei(\"\", )"
   ]
  },
  {
   "cell_type": "markdown",
   "metadata": {},
   "source": [
    "# Hegic Option Tests"
   ]
  },
  {
   "cell_type": "code",
   "execution_count": 5,
   "metadata": {},
   "outputs": [
    {
     "name": "stdout",
     "output_type": "stream",
     "text": [
      "abi\n",
      "address\n",
      "create\n",
      "exercise\n",
      "fees\n",
      "impliedVolRate\n",
      "options\n",
      "owner\n",
      "pool\n",
      "priceProvider\n",
      "renounceOwnership\n",
      "setImpliedVolRate\n",
      "setLockupPeriod\n",
      "setSettlementFeeRecipient\n",
      "settlementFeeRecipient\n",
      "transferOwnership\n",
      "transferPoolOwnership\n",
      "unlock\n",
      "unlockAll\n",
      "web3\n",
      "[227114527860695512412935, 1000000000000000, 99999998995000000, 227114427860696517412935]\n"
     ]
    }
   ],
   "source": [
    "with open(\"/home/tom/Desktop/Medium/defi_cefi_bridge/tontine/hedge-contracts-v1/build/contracts/HegicCallOptions.json\", \"r\") as f:\n",
    "    import json \n",
    "    c = json.loads(f.read())\n",
    "\n",
    "call_option_address = \"0xeB5aE94ABb2f545ee405318D93dA1C6749F50f2c\"\n",
    "\n",
    "call_option_contract = w3.eth.contract(address=call_option_address,\n",
    "                                    abi=c[\"abi\"]\n",
    "                                   )\n",
    "i = [print(f) for f in dir(call_option_contract.functions) if f.find(\"_\") != 0]\n",
    "\n",
    "\n",
    "period = 24 * 3600 * 2\n",
    "amount = w3.toWei(0.1, \"ether\")\n",
    "strike_price = 201\n",
    "fees = call_option_contract.functions.fees(period, amount, strike_price).call()\n",
    "\n",
    "print(fees)\n"
   ]
  },
  {
   "cell_type": "code",
   "execution_count": 4,
   "metadata": {},
   "outputs": [
    {
     "data": {
      "text/plain": [
       "True"
      ]
     },
     "execution_count": 4,
     "metadata": {},
     "output_type": "execute_result"
    }
   ],
   "source": []
  },
  {
   "cell_type": "code",
   "execution_count": null,
   "metadata": {},
   "outputs": [],
   "source": []
  },
  {
   "cell_type": "code",
   "execution_count": null,
   "metadata": {},
   "outputs": [],
   "source": []
  },
  {
   "cell_type": "code",
   "execution_count": 430,
   "metadata": {},
   "outputs": [
    {
     "data": {
      "text/plain": [
       "True"
      ]
     },
     "execution_count": 430,
     "metadata": {},
     "output_type": "execute_result"
    }
   ],
   "source": [
    "26500000000000000000 > 2282500000000000"
   ]
  },
  {
   "cell_type": "code",
   "execution_count": 433,
   "metadata": {},
   "outputs": [
    {
     "name": "stdout",
     "output_type": "stream",
     "text": [
      "3\n"
     ]
    }
   ],
   "source": [
    "return_values = call_option_contract.functions.create(period, amount, strike_price).call({'to': call_option_address,\n",
    "                                                                              'from': w3.eth.coinbase,\n",
    "                                                                              \"value\": fees[0]}\n",
    "                                                                                        )\n",
    "\n",
    "\n",
    "if type(return_values) == bytes:\n",
    "    return_values = return_values.decode('utf-8').rstrip(\"\\x00\")\n",
    "print(return_values)"
   ]
  },
  {
   "cell_type": "code",
   "execution_count": 399,
   "metadata": {},
   "outputs": [
    {
     "data": {
      "text/plain": [
       "0.03278688524590164"
      ]
     },
     "execution_count": 399,
     "metadata": {},
     "output_type": "execute_result"
    }
   ],
   "source": [
    "ethpool_contract.functions.lockedAmount().call() + amount * 10 / ethpool_contract.functions.totalBalance().call()"
   ]
  },
  {
   "cell_type": "code",
   "execution_count": 6,
   "metadata": {},
   "outputs": [
    {
     "data": {
      "text/plain": [
       "'0x832BAB2cEF9B61250531e002C1A1Dc1081c18bfF'"
      ]
     },
     "execution_count": 6,
     "metadata": {},
     "output_type": "execute_result"
    }
   ],
   "source": [
    "# create the call option then use that the retrieve the address of the eth pool\n",
    "call_option_contract.functions.pool().call()"
   ]
  },
  {
   "cell_type": "code",
   "execution_count": 438,
   "metadata": {},
   "outputs": [
    {
     "data": {
      "text/plain": [
       "HexBytes('0x40d9938b3de0710c89b5f0b5e90c6683f89b18ef3b1e4076ed017fc007644d4b')"
      ]
     },
     "execution_count": 438,
     "metadata": {},
     "output_type": "execute_result"
    }
   ],
   "source": [
    "call_option_contract.functions.exercise(1).transact({'to': call_option_address,\n",
    "                                                     'from': w3.eth.coinbase,\n",
    "                                                    'value': 0})\n"
   ]
  },
  {
   "cell_type": "code",
   "execution_count": null,
   "metadata": {},
   "outputs": [],
   "source": []
  },
  {
   "cell_type": "code",
   "execution_count": 48,
   "metadata": {},
   "outputs": [
    {
     "name": "stdout",
     "output_type": "stream",
     "text": [
      "retrieving .. ethpool from address 0x832BAB2cEF9B61250531e002C1A1Dc1081c18bfF\n",
      "Total Supply :  202636242100496613116\n",
      "Total balance  99462325000000000000\n",
      "Providing liqudity..\n"
     ]
    },
    {
     "ename": "ValueError",
     "evalue": "{'message': \"sender doesn't have enough funds to send tx. The upfront cost is: 102936440000000000 and the sender's account only has: 98121360000000000\", 'code': -32000, 'data': {'stack': \"Error: sender doesn't have enough funds to send tx. The upfront cost is: 102936440000000000 and the sender's account only has: 98121360000000000\\n    at t.<anonymous> (/usr/local/lib/node_modules/ganache-cli/build/ganache-core.node.cli.js:39:2128474)\\n    at /usr/local/lib/node_modules/ganache-cli/build/ganache-core.node.cli.js:39:2127775\\n    at Object.next (/usr/local/lib/node_modules/ganache-cli/build/ganache-core.node.cli.js:39:2127880)\\n    at c (/usr/local/lib/node_modules/ganache-cli/build/ganache-core.node.cli.js:39:2126594)\\n    at runMicrotasks (<anonymous>)\\n    at processTicksAndRejections (internal/process/task_queues.js:93:5)\", 'name': 'Error'}}",
     "output_type": "error",
     "traceback": [
      "\u001b[0;31m---------------------------------------------------------------------------\u001b[0m",
      "\u001b[0;31mValueError\u001b[0m                                Traceback (most recent call last)",
      "\u001b[0;32m<ipython-input-48-678fd8dcc2fb>\u001b[0m in \u001b[0;36m<module>\u001b[0;34m\u001b[0m\n\u001b[1;32m     74\u001b[0m     \u001b[0mexcercise\u001b[0m\u001b[0;34m(\u001b[0m\u001b[0mcall_option_contract\u001b[0m\u001b[0;34m,\u001b[0m \u001b[0moption_id\u001b[0m\u001b[0;34m)\u001b[0m\u001b[0;34m\u001b[0m\u001b[0;34m\u001b[0m\u001b[0m\n\u001b[1;32m     75\u001b[0m \u001b[0;34m\u001b[0m\u001b[0m\n\u001b[0;32m---> 76\u001b[0;31m \u001b[0mconfirm_provide_create_and_excercise\u001b[0m\u001b[0;34m(\u001b[0m\u001b[0;34m)\u001b[0m\u001b[0;34m\u001b[0m\u001b[0;34m\u001b[0m\u001b[0m\n\u001b[0m",
      "\u001b[0;32m<ipython-input-48-678fd8dcc2fb>\u001b[0m in \u001b[0;36mconfirm_provide_create_and_excercise\u001b[0;34m()\u001b[0m\n\u001b[1;32m     70\u001b[0m \u001b[0;32mdef\u001b[0m \u001b[0mconfirm_provide_create_and_excercise\u001b[0m\u001b[0;34m(\u001b[0m\u001b[0;34m)\u001b[0m\u001b[0;34m:\u001b[0m\u001b[0;34m\u001b[0m\u001b[0;34m\u001b[0m\u001b[0m\n\u001b[1;32m     71\u001b[0m     \u001b[0maddress\u001b[0m \u001b[0;34m=\u001b[0m \u001b[0;34m\"0xeB5aE94ABb2f545ee405318D93dA1C6749F50f2c\"\u001b[0m\u001b[0;34m\u001b[0m\u001b[0;34m\u001b[0m\u001b[0m\n\u001b[0;32m---> 72\u001b[0;31m     \u001b[0mprovide_liquidity\u001b[0m\u001b[0;34m(\u001b[0m\u001b[0mcall_option_contract\u001b[0m\u001b[0;34m)\u001b[0m\u001b[0;34m\u001b[0m\u001b[0;34m\u001b[0m\u001b[0m\n\u001b[0m\u001b[1;32m     73\u001b[0m     \u001b[0moption_id\u001b[0m \u001b[0;34m=\u001b[0m \u001b[0mcreate_calloption\u001b[0m\u001b[0;34m(\u001b[0m\u001b[0mcall_option_contract\u001b[0m\u001b[0;34m)\u001b[0m\u001b[0;34m\u001b[0m\u001b[0;34m\u001b[0m\u001b[0m\n\u001b[1;32m     74\u001b[0m     \u001b[0mexcercise\u001b[0m\u001b[0;34m(\u001b[0m\u001b[0mcall_option_contract\u001b[0m\u001b[0;34m,\u001b[0m \u001b[0moption_id\u001b[0m\u001b[0;34m)\u001b[0m\u001b[0;34m\u001b[0m\u001b[0;34m\u001b[0m\u001b[0m\n",
      "\u001b[0;32m<ipython-input-48-678fd8dcc2fb>\u001b[0m in \u001b[0;36mprovide_liquidity\u001b[0;34m(call_contract_instance)\u001b[0m\n\u001b[1;32m     31\u001b[0m     contract_instance.functions.provide(0).transact({'to': ethpool_address,\n\u001b[1;32m     32\u001b[0m                                                          \u001b[0;34m'from'\u001b[0m\u001b[0;34m:\u001b[0m \u001b[0mw3\u001b[0m\u001b[0;34m.\u001b[0m\u001b[0meth\u001b[0m\u001b[0;34m.\u001b[0m\u001b[0mcoinbase\u001b[0m\u001b[0;34m,\u001b[0m\u001b[0;34m\u001b[0m\u001b[0;34m\u001b[0m\u001b[0m\n\u001b[0;32m---> 33\u001b[0;31m                                                         'value': w3.toWei(0.1, \"ether\")})\n\u001b[0m\u001b[1;32m     34\u001b[0m     \u001b[0mprint\u001b[0m\u001b[0;34m(\u001b[0m\u001b[0;34mf\"Total Supply : \"\u001b[0m\u001b[0;34m,\u001b[0m \u001b[0mcontract_instance\u001b[0m\u001b[0;34m.\u001b[0m\u001b[0mfunctions\u001b[0m\u001b[0;34m.\u001b[0m\u001b[0mtotalSupply\u001b[0m\u001b[0;34m(\u001b[0m\u001b[0;34m)\u001b[0m\u001b[0;34m.\u001b[0m\u001b[0mcall\u001b[0m\u001b[0;34m(\u001b[0m\u001b[0;34m)\u001b[0m\u001b[0;34m)\u001b[0m\u001b[0;34m\u001b[0m\u001b[0;34m\u001b[0m\u001b[0m\n\u001b[1;32m     35\u001b[0m     \u001b[0mprint\u001b[0m\u001b[0;34m(\u001b[0m\u001b[0;34m\"Total balance \"\u001b[0m\u001b[0;34m,\u001b[0m \u001b[0mcontract_instance\u001b[0m\u001b[0;34m.\u001b[0m\u001b[0mfunctions\u001b[0m\u001b[0;34m.\u001b[0m\u001b[0mtotalBalance\u001b[0m\u001b[0;34m(\u001b[0m\u001b[0;34m)\u001b[0m\u001b[0;34m.\u001b[0m\u001b[0mcall\u001b[0m\u001b[0;34m(\u001b[0m\u001b[0;34m)\u001b[0m\u001b[0;34m)\u001b[0m\u001b[0;34m\u001b[0m\u001b[0;34m\u001b[0m\u001b[0m\n",
      "\u001b[0;32m~/.local/lib/python3.6/site-packages/web3/contract.py\u001b[0m in \u001b[0;36mtransact\u001b[0;34m(self, transaction)\u001b[0m\n\u001b[1;32m    999\u001b[0m             \u001b[0mself\u001b[0m\u001b[0;34m.\u001b[0m\u001b[0mabi\u001b[0m\u001b[0;34m,\u001b[0m\u001b[0;34m\u001b[0m\u001b[0;34m\u001b[0m\u001b[0m\n\u001b[1;32m   1000\u001b[0m             \u001b[0;34m*\u001b[0m\u001b[0mself\u001b[0m\u001b[0;34m.\u001b[0m\u001b[0margs\u001b[0m\u001b[0;34m,\u001b[0m\u001b[0;34m\u001b[0m\u001b[0;34m\u001b[0m\u001b[0m\n\u001b[0;32m-> 1001\u001b[0;31m             \u001b[0;34m**\u001b[0m\u001b[0mself\u001b[0m\u001b[0;34m.\u001b[0m\u001b[0mkwargs\u001b[0m\u001b[0;34m\u001b[0m\u001b[0;34m\u001b[0m\u001b[0m\n\u001b[0m\u001b[1;32m   1002\u001b[0m         )\n\u001b[1;32m   1003\u001b[0m \u001b[0;34m\u001b[0m\u001b[0m\n",
      "\u001b[0;32m~/.local/lib/python3.6/site-packages/web3/contract.py\u001b[0m in \u001b[0;36mtransact_with_contract_function\u001b[0;34m(address, web3, function_name, transaction, contract_abi, fn_abi, *args, **kwargs)\u001b[0m\n\u001b[1;32m   1587\u001b[0m     )\n\u001b[1;32m   1588\u001b[0m \u001b[0;34m\u001b[0m\u001b[0m\n\u001b[0;32m-> 1589\u001b[0;31m     \u001b[0mtxn_hash\u001b[0m \u001b[0;34m=\u001b[0m \u001b[0mweb3\u001b[0m\u001b[0;34m.\u001b[0m\u001b[0meth\u001b[0m\u001b[0;34m.\u001b[0m\u001b[0msendTransaction\u001b[0m\u001b[0;34m(\u001b[0m\u001b[0mtransact_transaction\u001b[0m\u001b[0;34m)\u001b[0m\u001b[0;34m\u001b[0m\u001b[0;34m\u001b[0m\u001b[0m\n\u001b[0m\u001b[1;32m   1590\u001b[0m     \u001b[0;32mreturn\u001b[0m \u001b[0mtxn_hash\u001b[0m\u001b[0;34m\u001b[0m\u001b[0;34m\u001b[0m\u001b[0m\n\u001b[1;32m   1591\u001b[0m \u001b[0;34m\u001b[0m\u001b[0m\n",
      "\u001b[0;32m~/.local/lib/python3.6/site-packages/web3/eth.py\u001b[0m in \u001b[0;36msendTransaction\u001b[0;34m(self, transaction)\u001b[0m\n\u001b[1;32m    387\u001b[0m         return self.web3.manager.request_blocking(\n\u001b[1;32m    388\u001b[0m             \u001b[0mRPC\u001b[0m\u001b[0;34m.\u001b[0m\u001b[0meth_sendTransaction\u001b[0m\u001b[0;34m,\u001b[0m\u001b[0;34m\u001b[0m\u001b[0;34m\u001b[0m\u001b[0m\n\u001b[0;32m--> 389\u001b[0;31m             \u001b[0;34m[\u001b[0m\u001b[0mtransaction\u001b[0m\u001b[0;34m]\u001b[0m\u001b[0;34m,\u001b[0m\u001b[0;34m\u001b[0m\u001b[0;34m\u001b[0m\u001b[0m\n\u001b[0m\u001b[1;32m    390\u001b[0m         )\n\u001b[1;32m    391\u001b[0m \u001b[0;34m\u001b[0m\u001b[0m\n",
      "\u001b[0;32m~/.local/lib/python3.6/site-packages/web3/manager.py\u001b[0m in \u001b[0;36mrequest_blocking\u001b[0;34m(self, method, params, error_formatters)\u001b[0m\n\u001b[1;32m    151\u001b[0m         \u001b[0;32mif\u001b[0m \u001b[0;34m\"error\"\u001b[0m \u001b[0;32min\u001b[0m \u001b[0mresponse\u001b[0m\u001b[0;34m:\u001b[0m\u001b[0;34m\u001b[0m\u001b[0;34m\u001b[0m\u001b[0m\n\u001b[1;32m    152\u001b[0m             \u001b[0mapply_error_formatters\u001b[0m\u001b[0;34m(\u001b[0m\u001b[0merror_formatters\u001b[0m\u001b[0;34m,\u001b[0m \u001b[0mresponse\u001b[0m\u001b[0;34m)\u001b[0m\u001b[0;34m\u001b[0m\u001b[0;34m\u001b[0m\u001b[0m\n\u001b[0;32m--> 153\u001b[0;31m             \u001b[0;32mraise\u001b[0m \u001b[0mValueError\u001b[0m\u001b[0;34m(\u001b[0m\u001b[0mresponse\u001b[0m\u001b[0;34m[\u001b[0m\u001b[0;34m\"error\"\u001b[0m\u001b[0;34m]\u001b[0m\u001b[0;34m)\u001b[0m\u001b[0;34m\u001b[0m\u001b[0;34m\u001b[0m\u001b[0m\n\u001b[0m\u001b[1;32m    154\u001b[0m \u001b[0;34m\u001b[0m\u001b[0m\n\u001b[1;32m    155\u001b[0m         \u001b[0;32mreturn\u001b[0m \u001b[0mresponse\u001b[0m\u001b[0;34m[\u001b[0m\u001b[0;34m'result'\u001b[0m\u001b[0;34m]\u001b[0m\u001b[0;34m\u001b[0m\u001b[0;34m\u001b[0m\u001b[0m\n",
      "\u001b[0;31mValueError\u001b[0m: {'message': \"sender doesn't have enough funds to send tx. The upfront cost is: 102936440000000000 and the sender's account only has: 98121360000000000\", 'code': -32000, 'data': {'stack': \"Error: sender doesn't have enough funds to send tx. The upfront cost is: 102936440000000000 and the sender's account only has: 98121360000000000\\n    at t.<anonymous> (/usr/local/lib/node_modules/ganache-cli/build/ganache-core.node.cli.js:39:2128474)\\n    at /usr/local/lib/node_modules/ganache-cli/build/ganache-core.node.cli.js:39:2127775\\n    at Object.next (/usr/local/lib/node_modules/ganache-cli/build/ganache-core.node.cli.js:39:2127880)\\n    at c (/usr/local/lib/node_modules/ganache-cli/build/ganache-core.node.cli.js:39:2126594)\\n    at runMicrotasks (<anonymous>)\\n    at processTicksAndRejections (internal/process/task_queues.js:93:5)\", 'name': 'Error'}}"
     ]
    }
   ],
   "source": [
    "import json \n",
    "        \n",
    "from web3 import Web3\n",
    "\n",
    "w3 = Web3(Web3.HTTPProvider('http://127.0.0.1:7545'))\n",
    "w3.isConnected()\n",
    "\n",
    "\n",
    "FILES = {\"ethpool\": \"/home/tom/Desktop/Medium/defi_cefi_bridge/tontine/hedge-contracts-v1/build/contracts/HegicETHPool.json\",\n",
    "         \"calloptions\": \"/home/tom/Desktop/Medium/defi_cefi_bridge/tontine/hedge-contracts-v1/build/contracts/HegicCallOptions.json\"}\n",
    "\n",
    "def retrieve_contract_instance(address, type_contract):\n",
    "    print(f\"retrieving .. {type_contract} from address {address}\")\n",
    "    with open(FILES[type_contract], \"r\") as f:\n",
    "        c = json.loads(f.read())\n",
    "\n",
    "\n",
    "    contract_instance = w3.eth.contract(address=address,\n",
    "                                        abi=c[\"abi\"]\n",
    "                                       )\n",
    "    # [print(f\"Available {f}\") for f in dir(contract_instance.functions) if f.find(\"_\") != 0]\n",
    "    return contract_instance\n",
    "\n",
    "    \n",
    "def provide_liquidity(call_contract_instance):\n",
    "    ethpool_address = call_option_contract.functions.pool().call()\n",
    "    contract_instance = retrieve_contract_instance(ethpool_address, \"ethpool\")\n",
    "    print(f\"Total Supply : \", contract_instance.functions.totalSupply().call())\n",
    "    print(\"Total balance \", contract_instance.functions.totalBalance().call())\n",
    "    print(\"Providing liqudity..\")\n",
    "    contract_instance.functions.provide(0).transact({'to': ethpool_address,\n",
    "                                                         'from': w3.eth.coinbase,\n",
    "                                                        'value': w3.toWei(0.1, \"ether\")})\n",
    "    print(f\"Total Supply : \", contract_instance.functions.totalSupply().call())\n",
    "    print(\"Total balance \", contract_instance.functions.totalBalance().call())\n",
    "\n",
    "\n",
    "    \n",
    "def create_calloption(call_contract_instance):\n",
    "    period = 24 * 3600 * 2\n",
    "    amount = w3.toWei(0.1, \"ether\")\n",
    "    strike_price = 2000000\n",
    "    fees = call_option_contract.functions.fees(period, amount, strike_price).call()\n",
    "    return_values = call_contract_instance.functions.create(period, amount, strike_price).call({'to': call_option_address,\n",
    "                                                                                  'from': w3.eth.coinbase,\n",
    "                                                                                  \"value\": fees[0]}\n",
    "                                                                                            )\n",
    "\n",
    "    call_contract_instance.functions.create(period, amount, strike_price).transact({'to': call_option_address,\n",
    "                                                                                  'from': w3.eth.coinbase,\n",
    "                                                                                  \"value\": fees[0]}\n",
    "                                                                                            )\n",
    "    print(f\"Option id: {return_values}\")\n",
    "    if type(return_values) == bytes:\n",
    "        return_values = return_values.decode('utf-8').rstrip(\"\\x00\")\n",
    "    return return_values\n",
    "    \n",
    "\n",
    "def excercise(call_option_contract, option_id):\n",
    "    tx_ref = call_option_contract.functions.exercise(option_id).transact({'to': call_option_address,\n",
    "                                                         'from': w3.eth.coinbase,\n",
    "                                                        'value': 0})\n",
    "    print(f\"Excercsied {option_id} : {tx_ref}\")\n",
    "    return tx_ref\n",
    "\n",
    "# call_option_contract = retrieve_contract_instance(address, \"calloptions\")\n",
    "# ethpool_address = call_option_contract.functions.pool().call()\n",
    "# retrieve_contract_instance(ethpool_address, \"ethpool\")\n",
    "\n",
    "def confirm_provide_create_and_excercise():\n",
    "    address = \"0xeB5aE94ABb2f545ee405318D93dA1C6749F50f2c\"\n",
    "    provide_liquidity(call_option_contract)\n",
    "    option_id = create_calloption(call_option_contract)\n",
    "    excercise(call_option_contract, option_id)\n",
    "\n",
    "confirm_provide_create_and_excercise()"
   ]
  },
  {
   "cell_type": "code",
   "execution_count": 33,
   "metadata": {},
   "outputs": [
    {
     "name": "stdout",
     "output_type": "stream",
     "text": [
      "Option id: 3\n"
     ]
    }
   ],
   "source": []
  },
  {
   "cell_type": "code",
   "execution_count": 34,
   "metadata": {},
   "outputs": [
    {
     "data": {
      "text/plain": [
       "HexBytes('0xca5a6c45d14b6e5829f8282e4b073d7348e220d3fa556c1265f7665c8ba9f8a9')"
      ]
     },
     "execution_count": 34,
     "metadata": {},
     "output_type": "execute_result"
    }
   ],
   "source": []
  },
  {
   "cell_type": "code",
   "execution_count": null,
   "metadata": {},
   "outputs": [],
   "source": []
  }
 ],
 "metadata": {
  "kernelspec": {
   "display_name": "Python 3",
   "language": "python",
   "name": "python3"
  },
  "language_info": {
   "codemirror_mode": {
    "name": "ipython",
    "version": 3
   },
   "file_extension": ".py",
   "mimetype": "text/x-python",
   "name": "python",
   "nbconvert_exporter": "python",
   "pygments_lexer": "ipython3",
   "version": "3.6.9"
  }
 },
 "nbformat": 4,
 "nbformat_minor": 4
}
