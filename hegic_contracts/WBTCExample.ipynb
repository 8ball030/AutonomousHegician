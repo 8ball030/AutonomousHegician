{
 "cells": [
  {
   "cell_type": "code",
   "execution_count": 125,
   "metadata": {},
   "outputs": [
    {
     "data": {
      "text/plain": [
       "True"
      ]
     },
     "execution_count": 125,
     "metadata": {},
     "output_type": "execute_result"
    }
   ],
   "source": [
    "from web3 import Web3\n",
    "import json \n",
    "\n",
    "w3 = Web3(Web3.HTTPProvider('https://mainnet.infura.io/v3/f00f7b3ba0e848ddbdc8941c527447fe'))\n",
    "w3.isConnected()"
   ]
  },
  {
   "cell_type": "code",
   "execution_count": 126,
   "metadata": {},
   "outputs": [],
   "source": [
    "wbtcoptions_address = \"0x3961245DB602eD7c03eECcda33eA3846bD8723BD\"\n",
    "ercbtc_address  = \"0x4CA6a755aFCFE55e8f2429D377D94cDAB8bCEf20\"\n",
    "btc_price_provider_address = \"0x0275E872387E22Dbcb99Fc851b71eDe597214a21\"\n",
    "\n",
    "with open(\"/home/tom/Desktop/Medium/AutonomousHegician/fetch/HegicContractDeployer/contracts/btcoptions/build/contracts/HegicWBTCOptions.json\", \"r\") as f:\n",
    "    c = json.loads(f.read())\n",
    "\n",
    "wbtc_option_contract = w3.eth.contract(address=wbtcoptions_address,\n",
    "                                    abi=c[\"abi\"])\n",
    "\n",
    "with open(\"/home/tom/Desktop/Medium/AutonomousHegician/fetch/HegicContractDeployer/contracts/wbtc/build/contracts/FakeWBTC.json\", \"r\") as f:\n",
    "    c = json.loads(f.read())\n",
    "\n",
    "wbtc_erc = w3.eth.contract(address=ercbtc_address,\n",
    "                                    abi=c[\"abi\"])\n",
    "\n",
    "with open(\"/home/tom/Desktop/Medium/AutonomousHegician/fetch/HegicContractDeployer/contracts/btcpriceprovider/build/contracts/FakeBTCPriceProvider.json\", \"r\") as f:\n",
    "    c = json.loads(f.read())\n",
    "\n",
    "price_provider = w3.eth.contract(address=btc_price_provider_address,\n",
    "                                    abi=c[\"abi\"])\n",
    "\n",
    "\n",
    "with open(\"/home/tom/Desktop/Medium/AutonomousHegician/fetch/HegicContractDeployer/contracts/btcpool/build/contracts/HegicERCPool.json\", \"r\") as f:\n",
    "    c = json.loads(f.read())\n",
    "    \n",
    "pool_address = wbtc_option_contract.functions.pool().call()\n",
    "pool = w3.eth.contract(address=pool_address,\n",
    "                                    abi=c[\"abi\"]\n",
    "                      )\n",
    "\n",
    "\n",
    "\n",
    "def toBTC(x):\n",
    "    return int(w3.toWei(x, \"ether\") / 1e10)\n",
    "\n"
   ]
  },
  {
   "cell_type": "code",
   "execution_count": 59,
   "metadata": {},
   "outputs": [
    {
     "name": "stdout",
     "output_type": "stream",
     "text": [
      "[261150, 0, 100000, 0, 161150]\n"
     ]
    }
   ],
   "source": [
    "\n",
    "period = 86400\n",
    "amount =  toBTC(0.1)\n",
    "\n",
    "strike_price = 200\n",
    "# set the fees;\n",
    "price_provider.functions.setPrice(strike_price).transact({'to': btc_price_provider_address,\n",
    "                                                      'from': w3.eth.coinbase,\n",
    "                                                     'value': w3.toWei(0.00, \"ether\")})\n",
    "\n",
    "\n",
    "fees = wbtc_option_contract.functions.fees(period, amount, strike_price, 2).call()\n",
    "\n",
    "print(fees)\n",
    "#  we need to provide liqudity to the pool as so;\n",
    "# we first mint our erc token\n",
    "\n",
    "\n"
   ]
  },
  {
   "cell_type": "code",
   "execution_count": 60,
   "metadata": {},
   "outputs": [
    {
     "data": {
      "text/plain": [
       "'0x3F074094d1fC1caBB6f415aCa9A00A30B3a2Df4D'"
      ]
     },
     "execution_count": 60,
     "metadata": {},
     "output_type": "execute_result"
    }
   ],
   "source": [
    "pool_address"
   ]
  },
  {
   "cell_type": "code",
   "execution_count": 94,
   "metadata": {},
   "outputs": [
    {
     "name": "stdout",
     "output_type": "stream",
     "text": [
      "Current balance 120000000\n",
      "Current balance 30000000\n"
     ]
    }
   ],
   "source": [
    "current_balance = wbtc_erc.functions.balanceOf(\"0xA16842b28FF96Ec695008996F0D85BE705A2c4Dd\").call()\n",
    "print(\"Current balance\", current_balance)\n",
    "\n",
    "wbtc_erc.functions.mint(amount).transact({'to': ercbtc_address,\n",
    "                                           'from': \"0xA16842b28FF96Ec695008996F0D85BE705A2c4Dd\",\n",
    "                                           'value':0})\n",
    "\n",
    "current_balance = wbtc_erc.functions.balanceOf(w3.eth.coinbase).call()\n",
    "print(\"Current balance\", current_balance)\n",
    "\n",
    "# now we have minted the amount, we need to go ahead and approve the transaction\n",
    "\n",
    "# wbtc_erc.functions.approve(pool_address, amount).transact({\n",
    "#                                            'from':  \"0xA16842b28FF96Ec695008996F0D85BE705A2c4Dd\",\n",
    "#                                             \"nonce\": 241\n",
    "#                                            })"
   ]
  },
  {
   "cell_type": "code",
   "execution_count": 91,
   "metadata": {},
   "outputs": [
    {
     "data": {
      "text/plain": [
       "HexBytes('0x86f9c8176c5e31d9710c7d02308713edcbdb643ed45d61548c15357ddc1d595c')"
      ]
     },
     "execution_count": 91,
     "metadata": {},
     "output_type": "execute_result"
    }
   ],
   "source": [
    "\n",
    "\n",
    "pool.functions.provide(amount, 0).transact({'from': \"0xA16842b28FF96Ec695008996F0D85BE705A2c4Dd\",\n",
    "                                           'value':0})\n"
   ]
  },
  {
   "cell_type": "code",
   "execution_count": 68,
   "metadata": {},
   "outputs": [
    {
     "data": {
      "text/plain": [
       "'0x3F074094d1fC1caBB6f415aCa9A00A30B3a2Df4D'"
      ]
     },
     "execution_count": 68,
     "metadata": {},
     "output_type": "execute_result"
    }
   ],
   "source": [
    "wbtc_erc"
   ]
  },
  {
   "cell_type": "code",
   "execution_count": 112,
   "metadata": {},
   "outputs": [
    {
     "data": {
      "text/plain": [
       "10000000"
      ]
     },
     "execution_count": 112,
     "metadata": {},
     "output_type": "execute_result"
    }
   ],
   "source": [
    "wbtc_erc.functions.allowance( \"0xA16842b28FF96Ec695008996F0D85BE705A2c4Dd\", pool_address).call()"
   ]
  },
  {
   "cell_type": "code",
   "execution_count": 132,
   "metadata": {},
   "outputs": [
    {
     "name": "stdout",
     "output_type": "stream",
     "text": [
      "Failed gathering option data. List exhausted? index = 115\n",
      "Could not decode contract function call options return data b'' for output_types ['uint8', 'address', 'uint256', 'uint256', 'uint256', 'uint256', 'uint256', 'uint8']\n"
     ]
    }
   ],
   "source": [
    "import pandas as pd\n",
    "\n",
    "\n",
    "\n",
    "\n",
    "\n",
    "\n",
    "results = []\n",
    "\n",
    "\n",
    "# we continue until we fail;\n",
    "i = 0\n",
    "try:\n",
    "    while True:\n",
    "        results.append(wbtc_option_contract.functions.options(i).call())\n",
    "        i +=1\n",
    "except Exception as e:\n",
    "    print(f\"Failed gathering option data. List exhausted? index = {i}\")\n",
    "    print(e)"
   ]
  },
  {
   "cell_type": "code",
   "execution_count": 133,
   "metadata": {},
   "outputs": [
    {
     "data": {
      "text/html": [
       "<div>\n",
       "<style scoped>\n",
       "    .dataframe tbody tr th:only-of-type {\n",
       "        vertical-align: middle;\n",
       "    }\n",
       "\n",
       "    .dataframe tbody tr th {\n",
       "        vertical-align: top;\n",
       "    }\n",
       "\n",
       "    .dataframe thead th {\n",
       "        text-align: right;\n",
       "    }\n",
       "</style>\n",
       "<table border=\"1\" class=\"dataframe\">\n",
       "  <thead>\n",
       "    <tr style=\"text-align: right;\">\n",
       "      <th></th>\n",
       "      <th>state</th>\n",
       "      <th>holder</th>\n",
       "      <th>strike</th>\n",
       "      <th>amount</th>\n",
       "      <th>lockedAmount</th>\n",
       "      <th>premium</th>\n",
       "      <th>expiration</th>\n",
       "      <th>optionType</th>\n",
       "    </tr>\n",
       "  </thead>\n",
       "  <tbody>\n",
       "    <tr>\n",
       "      <th>0</th>\n",
       "      <td>2</td>\n",
       "      <td>0xEb91FbD00444FcB9078030933A9beaB5a8C731FC</td>\n",
       "      <td>1135456371997</td>\n",
       "      <td>50000000</td>\n",
       "      <td>50000000</td>\n",
       "      <td>3498750</td>\n",
       "      <td>1604785049</td>\n",
       "      <td>2</td>\n",
       "    </tr>\n",
       "    <tr>\n",
       "      <th>1</th>\n",
       "      <td>1</td>\n",
       "      <td>0xC6f8Bcce8cc2f61A0323d211660120289283C9dE</td>\n",
       "      <td>20000000000000</td>\n",
       "      <td>180000000</td>\n",
       "      <td>180000000</td>\n",
       "      <td>715082</td>\n",
       "      <td>1604785228</td>\n",
       "      <td>2</td>\n",
       "    </tr>\n",
       "    <tr>\n",
       "      <th>2</th>\n",
       "      <td>3</td>\n",
       "      <td>0xC6f8Bcce8cc2f61A0323d211660120289283C9dE</td>\n",
       "      <td>20000000000000</td>\n",
       "      <td>200000000</td>\n",
       "      <td>200000000</td>\n",
       "      <td>149709</td>\n",
       "      <td>1602452623</td>\n",
       "      <td>2</td>\n",
       "    </tr>\n",
       "    <tr>\n",
       "      <th>3</th>\n",
       "      <td>1</td>\n",
       "      <td>0xC6f8Bcce8cc2f61A0323d211660120289283C9dE</td>\n",
       "      <td>20000000000000</td>\n",
       "      <td>690000000</td>\n",
       "      <td>690000000</td>\n",
       "      <td>2741147</td>\n",
       "      <td>1604785545</td>\n",
       "      <td>2</td>\n",
       "    </tr>\n",
       "    <tr>\n",
       "      <th>4</th>\n",
       "      <td>1</td>\n",
       "      <td>0x68924BC68Ff1357A0A08A20C64D538D9b9241574</td>\n",
       "      <td>1135500000000</td>\n",
       "      <td>100000000</td>\n",
       "      <td>100000000</td>\n",
       "      <td>6061074</td>\n",
       "      <td>1604181008</td>\n",
       "      <td>1</td>\n",
       "    </tr>\n",
       "    <tr>\n",
       "      <th>...</th>\n",
       "      <td>...</td>\n",
       "      <td>...</td>\n",
       "      <td>...</td>\n",
       "      <td>...</td>\n",
       "      <td>...</td>\n",
       "      <td>...</td>\n",
       "      <td>...</td>\n",
       "      <td>...</td>\n",
       "    </tr>\n",
       "    <tr>\n",
       "      <th>110</th>\n",
       "      <td>1</td>\n",
       "      <td>0x6481B4521Ad2Bb4b5ba4872e4a4D7829e5120eb0</td>\n",
       "      <td>1326602689430</td>\n",
       "      <td>20000000</td>\n",
       "      <td>20000000</td>\n",
       "      <td>234400</td>\n",
       "      <td>1604152876</td>\n",
       "      <td>2</td>\n",
       "    </tr>\n",
       "    <tr>\n",
       "      <th>111</th>\n",
       "      <td>1</td>\n",
       "      <td>0x82cCf5eD8F713281B1BE7d12F64A614e20c3BaD0</td>\n",
       "      <td>1344548000000</td>\n",
       "      <td>2000000000</td>\n",
       "      <td>2000000000</td>\n",
       "      <td>23440000</td>\n",
       "      <td>1604158620</td>\n",
       "      <td>2</td>\n",
       "    </tr>\n",
       "    <tr>\n",
       "      <th>112</th>\n",
       "      <td>1</td>\n",
       "      <td>0x091dDfcE101BeCd8556E863CA08C331Ba190C733</td>\n",
       "      <td>1353068429767</td>\n",
       "      <td>200000000</td>\n",
       "      <td>200000000</td>\n",
       "      <td>2344000</td>\n",
       "      <td>1604175530</td>\n",
       "      <td>2</td>\n",
       "    </tr>\n",
       "    <tr>\n",
       "      <th>113</th>\n",
       "      <td>1</td>\n",
       "      <td>0x091dDfcE101BeCd8556E863CA08C331Ba190C733</td>\n",
       "      <td>1353068429767</td>\n",
       "      <td>100000000</td>\n",
       "      <td>100000000</td>\n",
       "      <td>6220000</td>\n",
       "      <td>1606508744</td>\n",
       "      <td>2</td>\n",
       "    </tr>\n",
       "    <tr>\n",
       "      <th>114</th>\n",
       "      <td>1</td>\n",
       "      <td>0x16304dAE95525d603E2C15aB385C5463A6b2113B</td>\n",
       "      <td>1500000000000</td>\n",
       "      <td>50000000</td>\n",
       "      <td>50000000</td>\n",
       "      <td>2005970</td>\n",
       "      <td>1605321661</td>\n",
       "      <td>2</td>\n",
       "    </tr>\n",
       "  </tbody>\n",
       "</table>\n",
       "<p>115 rows × 8 columns</p>\n",
       "</div>"
      ],
      "text/plain": [
       "     state                                      holder          strike  \\\n",
       "0        2  0xEb91FbD00444FcB9078030933A9beaB5a8C731FC   1135456371997   \n",
       "1        1  0xC6f8Bcce8cc2f61A0323d211660120289283C9dE  20000000000000   \n",
       "2        3  0xC6f8Bcce8cc2f61A0323d211660120289283C9dE  20000000000000   \n",
       "3        1  0xC6f8Bcce8cc2f61A0323d211660120289283C9dE  20000000000000   \n",
       "4        1  0x68924BC68Ff1357A0A08A20C64D538D9b9241574   1135500000000   \n",
       "..     ...                                         ...             ...   \n",
       "110      1  0x6481B4521Ad2Bb4b5ba4872e4a4D7829e5120eb0   1326602689430   \n",
       "111      1  0x82cCf5eD8F713281B1BE7d12F64A614e20c3BaD0   1344548000000   \n",
       "112      1  0x091dDfcE101BeCd8556E863CA08C331Ba190C733   1353068429767   \n",
       "113      1  0x091dDfcE101BeCd8556E863CA08C331Ba190C733   1353068429767   \n",
       "114      1  0x16304dAE95525d603E2C15aB385C5463A6b2113B   1500000000000   \n",
       "\n",
       "         amount  lockedAmount   premium  expiration  optionType  \n",
       "0      50000000      50000000   3498750  1604785049           2  \n",
       "1     180000000     180000000    715082  1604785228           2  \n",
       "2     200000000     200000000    149709  1602452623           2  \n",
       "3     690000000     690000000   2741147  1604785545           2  \n",
       "4     100000000     100000000   6061074  1604181008           1  \n",
       "..          ...           ...       ...         ...         ...  \n",
       "110    20000000      20000000    234400  1604152876           2  \n",
       "111  2000000000    2000000000  23440000  1604158620           2  \n",
       "112   200000000     200000000   2344000  1604175530           2  \n",
       "113   100000000     100000000   6220000  1606508744           2  \n",
       "114    50000000      50000000   2005970  1605321661           2  \n",
       "\n",
       "[115 rows x 8 columns]"
      ]
     },
     "execution_count": 133,
     "metadata": {},
     "output_type": "execute_result"
    }
   ],
   "source": [
    "pd.DataFrame(results, columns=[\"state\", \"holder\", \"strike\", \"amount\", \"lockedAmount\", \"premium\", \"expiration\", \"optionType\"])\n"
   ]
  },
  {
   "cell_type": "code",
   "execution_count": null,
   "metadata": {},
   "outputs": [],
   "source": [
    "pd.to_csv(\"\")"
   ]
  }
 ],
 "metadata": {
  "kernelspec": {
   "display_name": "Python 3",
   "language": "python",
   "name": "python3"
  },
  "language_info": {
   "codemirror_mode": {
    "name": "ipython",
    "version": 3
   },
   "file_extension": ".py",
   "mimetype": "text/x-python",
   "name": "python",
   "nbconvert_exporter": "python",
   "pygments_lexer": "ipython3",
   "version": "3.6.9"
  }
 },
 "nbformat": 4,
 "nbformat_minor": 4
}
